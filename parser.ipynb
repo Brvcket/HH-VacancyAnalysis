{
 "cells": [
  {
   "cell_type": "code",
   "execution_count": 54,
   "id": "initial_id",
   "metadata": {
    "collapsed": true,
    "ExecuteTime": {
     "end_time": "2024-03-02T17:36:23.199172200Z",
     "start_time": "2024-03-02T17:36:15.799055900Z"
    }
   },
   "outputs": [],
   "source": [
    "import requests\n",
    "import pandas as pd\n",
    "\n",
    "number_of_pages = 11\n",
    "#number_of_ads = number_of_pages * per_page\n",
    "# Грузия: 37,28, Казахстан: 106, 40, Беларусь: 45,16, Азербайджан: 4, 9, Кыргызстан: 10,48,  Узбекистан: 43,97, Другие регионы: 58, 1001\n",
    "\n",
    "job_title = [\"'Data scientist' or 'Data analyst' or 'ML' or 'AI' or 'Machine Learning' or 'Artificial Intelligence' or 'Аналитик данных' or 'Data Engineer' or 'Инженер данных' or 'Reinforcement learning' or 'Аналитик-исследователь' or 'Нейросеть' or 'Искусственный интеллект' or 'Машинное обучение'\"]\n",
    "areas = [1001]\n",
    "for job in job_title:\n",
    "    for area in areas:\n",
    "        data=[]\n",
    "        for i in range(number_of_pages):\n",
    "            url = 'https://api.hh.ru/vacancies'\n",
    "            par = {'text': job, 'area':area,'per_page':'5', 'page':i, 'search_field':'name'}\n",
    "            r = requests.get(url, params=par)\n",
    "            e=r.json()\n",
    "            data.append(e)\n",
    "            vacancy_details = data[0]['items'][0].keys()\n",
    "            df = pd.DataFrame(columns= list(vacancy_details))\n",
    "            ind = 0\n",
    "            for i in range(len(data)):\n",
    "                for j in range(len(data[i]['items'])):\n",
    "                    df.loc[ind] = data[i]['items'][j]\n",
    "                    ind+=1\n",
    "        csv_name = str(area)+\".csv\"\n",
    "        df.to_csv(csv_name)"
   ]
  },
  {
   "cell_type": "code",
   "outputs": [],
   "source": [
    "# parse all csv files from data_by_countries folder and concatenate them into one dataframe\n",
    "import pandas as pd\n",
    "import glob\n",
    "\n",
    "path = r'data_by_countries' # use your path\n",
    "all_files = glob.glob(path + \"/*.csv\")\n",
    "\n",
    "li = []\n",
    "\n",
    "for filename in all_files:\n",
    "    df = pd.read_csv(filename, index_col=None, header=0)\n",
    "    li.append(df)\n",
    "    \n",
    "frame = pd.concat(li, axis=0, ignore_index=True)\n",
    "frame.to_csv(\"all_data.csv\")"
   ],
   "metadata": {
    "collapsed": false,
    "ExecuteTime": {
     "end_time": "2024-03-02T17:43:43.476013500Z",
     "start_time": "2024-03-02T17:43:43.181647400Z"
    }
   },
   "id": "8d1ad2a01700e63c",
   "execution_count": 62
  },
  {
   "cell_type": "code",
   "outputs": [
    {
     "data": {
      "text/plain": "   Unnamed: 0.1  Unnamed: 0        id  premium  \\\n0             0           0  93953781    False   \n1             1           1  93953782    False   \n2             2           2  92770845    False   \n3             3           3  93953780    False   \n4             4           4  94019232    False   \n5             5           5  94137061    False   \n6             6           6  93360510    False   \n7             7           7  93308666    False   \n8             8           8  93301944    False   \n9             9           9  93293929    False   \n\n                                                name department  has_test  \\\n0                              Junior Data Scientist        NaN     False   \n1                              Junior Data Scientist        NaN     False   \n2                               Junior Data Engineer        NaN     False   \n3                              Junior Data Scientist        NaN     False   \n4  Разработчик операций AI, Python/React (Удаленн...        NaN     False   \n5       Data Engineer for Swedish automotive company        NaN     False   \n6                             Data Engineer (Remote)        NaN     False   \n7                                       Data Analyst        NaN     False   \n8                      Data Analyst (Middle/Middle+)        NaN     False   \n9                            Data Scientist (uplift)        NaN     False   \n\n   response_letter_required  \\\n0                     False   \n1                     False   \n2                     False   \n3                     False   \n4                     False   \n5                     False   \n6                     False   \n7                     False   \n8                     False   \n9                     False   \n\n                                                area  \\\n0  {'id': '74', 'name': 'Польша', 'url': 'https:/...   \n1  {'id': '146', 'name': 'Сербия', 'url': 'https:...   \n2  {'id': '13', 'name': 'Армения', 'url': 'https:...   \n3  {'id': '13', 'name': 'Армения', 'url': 'https:...   \n4  {'id': '146', 'name': 'Сербия', 'url': 'https:...   \n5  {'id': '149', 'name': 'Швеция', 'url': 'https:...   \n6  {'id': '109', 'name': 'Эстония', 'url': 'https...   \n7  {'id': '146', 'name': 'Сербия', 'url': 'https:...   \n8  {'id': '146', 'name': 'Сербия', 'url': 'https:...   \n9  {'id': '146', 'name': 'Сербия', 'url': 'https:...   \n\n                                              salary  ... working_time_modes  \\\n0                                                NaN  ...                 []   \n1                                                NaN  ...                 []   \n2  {'from': None, 'to': 900, 'currency': 'EUR', '...  ...                 []   \n3                                                NaN  ...                 []   \n4                                                NaN  ...                 []   \n5  {'from': 4300, 'to': 5100, 'currency': 'USD', ...  ...                 []   \n6  {'from': 3000, 'to': None, 'currency': 'EUR', ...  ...                 []   \n7                                                NaN  ...                 []   \n8                                                NaN  ...                 []   \n9                                                NaN  ...                 []   \n\n  accept_temporary                                 professional_roles  \\\n0            False          [{'id': '165', 'name': 'Дата-сайентист'}]   \n1            False          [{'id': '165', 'name': 'Дата-сайентист'}]   \n2            False          [{'id': '165', 'name': 'Дата-сайентист'}]   \n3            False          [{'id': '165', 'name': 'Дата-сайентист'}]   \n4            False  [{'id': '96', 'name': 'Программист, разработчи...   \n5            False  [{'id': '96', 'name': 'Программист, разработчи...   \n6            False  [{'id': '156', 'name': 'BI-аналитик, аналитик ...   \n7            False  [{'id': '156', 'name': 'BI-аналитик, аналитик ...   \n8            False                 [{'id': '10', 'name': 'Аналитик'}]   \n9            False          [{'id': '165', 'name': 'Дата-сайентист'}]   \n\n   accept_incomplete_resumes  \\\n0                      False   \n1                      False   \n2                      False   \n3                      False   \n4                      False   \n5                      False   \n6                      False   \n7                      False   \n8                      False   \n9                      False   \n\n                                          experience  \\\n0  {'id': 'between1And3', 'name': 'От 1 года до 3...   \n1  {'id': 'between1And3', 'name': 'От 1 года до 3...   \n2  {'id': 'between1And3', 'name': 'От 1 года до 3...   \n3  {'id': 'between1And3', 'name': 'От 1 года до 3...   \n4        {'id': 'noExperience', 'name': 'Нет опыта'}   \n5    {'id': 'between3And6', 'name': 'От 3 до 6 лет'}   \n6    {'id': 'between3And6', 'name': 'От 3 до 6 лет'}   \n7    {'id': 'between3And6', 'name': 'От 3 до 6 лет'}   \n8  {'id': 'between1And3', 'name': 'От 1 года до 3...   \n9    {'id': 'between3And6', 'name': 'От 3 до 6 лет'}   \n\n                                   employment  adv_response_url  \\\n0  {'id': 'full', 'name': 'Полная занятость'}               NaN   \n1  {'id': 'full', 'name': 'Полная занятость'}               NaN   \n2  {'id': 'full', 'name': 'Полная занятость'}               NaN   \n3  {'id': 'full', 'name': 'Полная занятость'}               NaN   \n4  {'id': 'full', 'name': 'Полная занятость'}               NaN   \n5  {'id': 'full', 'name': 'Полная занятость'}               NaN   \n6  {'id': 'full', 'name': 'Полная занятость'}               NaN   \n7  {'id': 'full', 'name': 'Полная занятость'}               NaN   \n8  {'id': 'full', 'name': 'Полная занятость'}               NaN   \n9  {'id': 'full', 'name': 'Полная занятость'}               NaN   \n\n  is_adv_vacancy adv_context show_logo_in_search  \n0          False         NaN                 NaN  \n1          False         NaN                 NaN  \n2          False         NaN                 NaN  \n3          False         NaN                 NaN  \n4          False         NaN                 NaN  \n5          False         NaN                 NaN  \n6          False         NaN                 NaN  \n7          False         NaN                 NaN  \n8          False         NaN                 NaN  \n9          False         NaN                 NaN  \n\n[10 rows x 38 columns]",
      "text/html": "<div>\n<style scoped>\n    .dataframe tbody tr th:only-of-type {\n        vertical-align: middle;\n    }\n\n    .dataframe tbody tr th {\n        vertical-align: top;\n    }\n\n    .dataframe thead th {\n        text-align: right;\n    }\n</style>\n<table border=\"1\" class=\"dataframe\">\n  <thead>\n    <tr style=\"text-align: right;\">\n      <th></th>\n      <th>Unnamed: 0.1</th>\n      <th>Unnamed: 0</th>\n      <th>id</th>\n      <th>premium</th>\n      <th>name</th>\n      <th>department</th>\n      <th>has_test</th>\n      <th>response_letter_required</th>\n      <th>area</th>\n      <th>salary</th>\n      <th>...</th>\n      <th>working_time_modes</th>\n      <th>accept_temporary</th>\n      <th>professional_roles</th>\n      <th>accept_incomplete_resumes</th>\n      <th>experience</th>\n      <th>employment</th>\n      <th>adv_response_url</th>\n      <th>is_adv_vacancy</th>\n      <th>adv_context</th>\n      <th>show_logo_in_search</th>\n    </tr>\n  </thead>\n  <tbody>\n    <tr>\n      <th>0</th>\n      <td>0</td>\n      <td>0</td>\n      <td>93953781</td>\n      <td>False</td>\n      <td>Junior Data Scientist</td>\n      <td>NaN</td>\n      <td>False</td>\n      <td>False</td>\n      <td>{'id': '74', 'name': 'Польша', 'url': 'https:/...</td>\n      <td>NaN</td>\n      <td>...</td>\n      <td>[]</td>\n      <td>False</td>\n      <td>[{'id': '165', 'name': 'Дата-сайентист'}]</td>\n      <td>False</td>\n      <td>{'id': 'between1And3', 'name': 'От 1 года до 3...</td>\n      <td>{'id': 'full', 'name': 'Полная занятость'}</td>\n      <td>NaN</td>\n      <td>False</td>\n      <td>NaN</td>\n      <td>NaN</td>\n    </tr>\n    <tr>\n      <th>1</th>\n      <td>1</td>\n      <td>1</td>\n      <td>93953782</td>\n      <td>False</td>\n      <td>Junior Data Scientist</td>\n      <td>NaN</td>\n      <td>False</td>\n      <td>False</td>\n      <td>{'id': '146', 'name': 'Сербия', 'url': 'https:...</td>\n      <td>NaN</td>\n      <td>...</td>\n      <td>[]</td>\n      <td>False</td>\n      <td>[{'id': '165', 'name': 'Дата-сайентист'}]</td>\n      <td>False</td>\n      <td>{'id': 'between1And3', 'name': 'От 1 года до 3...</td>\n      <td>{'id': 'full', 'name': 'Полная занятость'}</td>\n      <td>NaN</td>\n      <td>False</td>\n      <td>NaN</td>\n      <td>NaN</td>\n    </tr>\n    <tr>\n      <th>2</th>\n      <td>2</td>\n      <td>2</td>\n      <td>92770845</td>\n      <td>False</td>\n      <td>Junior Data Engineer</td>\n      <td>NaN</td>\n      <td>False</td>\n      <td>False</td>\n      <td>{'id': '13', 'name': 'Армения', 'url': 'https:...</td>\n      <td>{'from': None, 'to': 900, 'currency': 'EUR', '...</td>\n      <td>...</td>\n      <td>[]</td>\n      <td>False</td>\n      <td>[{'id': '165', 'name': 'Дата-сайентист'}]</td>\n      <td>False</td>\n      <td>{'id': 'between1And3', 'name': 'От 1 года до 3...</td>\n      <td>{'id': 'full', 'name': 'Полная занятость'}</td>\n      <td>NaN</td>\n      <td>False</td>\n      <td>NaN</td>\n      <td>NaN</td>\n    </tr>\n    <tr>\n      <th>3</th>\n      <td>3</td>\n      <td>3</td>\n      <td>93953780</td>\n      <td>False</td>\n      <td>Junior Data Scientist</td>\n      <td>NaN</td>\n      <td>False</td>\n      <td>False</td>\n      <td>{'id': '13', 'name': 'Армения', 'url': 'https:...</td>\n      <td>NaN</td>\n      <td>...</td>\n      <td>[]</td>\n      <td>False</td>\n      <td>[{'id': '165', 'name': 'Дата-сайентист'}]</td>\n      <td>False</td>\n      <td>{'id': 'between1And3', 'name': 'От 1 года до 3...</td>\n      <td>{'id': 'full', 'name': 'Полная занятость'}</td>\n      <td>NaN</td>\n      <td>False</td>\n      <td>NaN</td>\n      <td>NaN</td>\n    </tr>\n    <tr>\n      <th>4</th>\n      <td>4</td>\n      <td>4</td>\n      <td>94019232</td>\n      <td>False</td>\n      <td>Разработчик операций AI, Python/React (Удаленн...</td>\n      <td>NaN</td>\n      <td>False</td>\n      <td>False</td>\n      <td>{'id': '146', 'name': 'Сербия', 'url': 'https:...</td>\n      <td>NaN</td>\n      <td>...</td>\n      <td>[]</td>\n      <td>False</td>\n      <td>[{'id': '96', 'name': 'Программист, разработчи...</td>\n      <td>False</td>\n      <td>{'id': 'noExperience', 'name': 'Нет опыта'}</td>\n      <td>{'id': 'full', 'name': 'Полная занятость'}</td>\n      <td>NaN</td>\n      <td>False</td>\n      <td>NaN</td>\n      <td>NaN</td>\n    </tr>\n    <tr>\n      <th>5</th>\n      <td>5</td>\n      <td>5</td>\n      <td>94137061</td>\n      <td>False</td>\n      <td>Data Engineer for Swedish automotive company</td>\n      <td>NaN</td>\n      <td>False</td>\n      <td>False</td>\n      <td>{'id': '149', 'name': 'Швеция', 'url': 'https:...</td>\n      <td>{'from': 4300, 'to': 5100, 'currency': 'USD', ...</td>\n      <td>...</td>\n      <td>[]</td>\n      <td>False</td>\n      <td>[{'id': '96', 'name': 'Программист, разработчи...</td>\n      <td>False</td>\n      <td>{'id': 'between3And6', 'name': 'От 3 до 6 лет'}</td>\n      <td>{'id': 'full', 'name': 'Полная занятость'}</td>\n      <td>NaN</td>\n      <td>False</td>\n      <td>NaN</td>\n      <td>NaN</td>\n    </tr>\n    <tr>\n      <th>6</th>\n      <td>6</td>\n      <td>6</td>\n      <td>93360510</td>\n      <td>False</td>\n      <td>Data Engineer (Remote)</td>\n      <td>NaN</td>\n      <td>False</td>\n      <td>False</td>\n      <td>{'id': '109', 'name': 'Эстония', 'url': 'https...</td>\n      <td>{'from': 3000, 'to': None, 'currency': 'EUR', ...</td>\n      <td>...</td>\n      <td>[]</td>\n      <td>False</td>\n      <td>[{'id': '156', 'name': 'BI-аналитик, аналитик ...</td>\n      <td>False</td>\n      <td>{'id': 'between3And6', 'name': 'От 3 до 6 лет'}</td>\n      <td>{'id': 'full', 'name': 'Полная занятость'}</td>\n      <td>NaN</td>\n      <td>False</td>\n      <td>NaN</td>\n      <td>NaN</td>\n    </tr>\n    <tr>\n      <th>7</th>\n      <td>7</td>\n      <td>7</td>\n      <td>93308666</td>\n      <td>False</td>\n      <td>Data Analyst</td>\n      <td>NaN</td>\n      <td>False</td>\n      <td>False</td>\n      <td>{'id': '146', 'name': 'Сербия', 'url': 'https:...</td>\n      <td>NaN</td>\n      <td>...</td>\n      <td>[]</td>\n      <td>False</td>\n      <td>[{'id': '156', 'name': 'BI-аналитик, аналитик ...</td>\n      <td>False</td>\n      <td>{'id': 'between3And6', 'name': 'От 3 до 6 лет'}</td>\n      <td>{'id': 'full', 'name': 'Полная занятость'}</td>\n      <td>NaN</td>\n      <td>False</td>\n      <td>NaN</td>\n      <td>NaN</td>\n    </tr>\n    <tr>\n      <th>8</th>\n      <td>8</td>\n      <td>8</td>\n      <td>93301944</td>\n      <td>False</td>\n      <td>Data Analyst (Middle/Middle+)</td>\n      <td>NaN</td>\n      <td>False</td>\n      <td>False</td>\n      <td>{'id': '146', 'name': 'Сербия', 'url': 'https:...</td>\n      <td>NaN</td>\n      <td>...</td>\n      <td>[]</td>\n      <td>False</td>\n      <td>[{'id': '10', 'name': 'Аналитик'}]</td>\n      <td>False</td>\n      <td>{'id': 'between1And3', 'name': 'От 1 года до 3...</td>\n      <td>{'id': 'full', 'name': 'Полная занятость'}</td>\n      <td>NaN</td>\n      <td>False</td>\n      <td>NaN</td>\n      <td>NaN</td>\n    </tr>\n    <tr>\n      <th>9</th>\n      <td>9</td>\n      <td>9</td>\n      <td>93293929</td>\n      <td>False</td>\n      <td>Data Scientist (uplift)</td>\n      <td>NaN</td>\n      <td>False</td>\n      <td>False</td>\n      <td>{'id': '146', 'name': 'Сербия', 'url': 'https:...</td>\n      <td>NaN</td>\n      <td>...</td>\n      <td>[]</td>\n      <td>False</td>\n      <td>[{'id': '165', 'name': 'Дата-сайентист'}]</td>\n      <td>False</td>\n      <td>{'id': 'between3And6', 'name': 'От 3 до 6 лет'}</td>\n      <td>{'id': 'full', 'name': 'Полная занятость'}</td>\n      <td>NaN</td>\n      <td>False</td>\n      <td>NaN</td>\n      <td>NaN</td>\n    </tr>\n  </tbody>\n</table>\n<p>10 rows × 38 columns</p>\n</div>"
     },
     "execution_count": 63,
     "metadata": {},
     "output_type": "execute_result"
    }
   ],
   "source": [
    "data = pd.read_csv(\"all_data.csv\")\n",
    "data.head(10)"
   ],
   "metadata": {
    "collapsed": false,
    "ExecuteTime": {
     "end_time": "2024-03-02T17:43:58.748847800Z",
     "start_time": "2024-03-02T17:43:58.616040100Z"
    }
   },
   "id": "16df72473e9de467",
   "execution_count": 63
  },
  {
   "cell_type": "code",
   "outputs": [
    {
     "name": "stdout",
     "output_type": "stream",
     "text": [
      "<class 'pandas.core.frame.DataFrame'>\n",
      "RangeIndex: 2289 entries, 0 to 2288\n",
      "Data columns (total 38 columns):\n",
      " #   Column                     Non-Null Count  Dtype  \n",
      "---  ------                     --------------  -----  \n",
      " 0   Unnamed: 0.1               2289 non-null   int64  \n",
      " 1   Unnamed: 0                 2289 non-null   int64  \n",
      " 2   id                         2289 non-null   int64  \n",
      " 3   premium                    2289 non-null   bool   \n",
      " 4   name                       2289 non-null   object \n",
      " 5   department                 617 non-null    object \n",
      " 6   has_test                   2289 non-null   bool   \n",
      " 7   response_letter_required   2289 non-null   bool   \n",
      " 8   area                       2289 non-null   object \n",
      " 9   salary                     475 non-null    object \n",
      " 10  type                       2289 non-null   object \n",
      " 11  address                    931 non-null    object \n",
      " 12  response_url               1 non-null      object \n",
      " 13  sort_point_distance        0 non-null      float64\n",
      " 14  published_at               2289 non-null   object \n",
      " 15  created_at                 2289 non-null   object \n",
      " 16  archived                   2289 non-null   bool   \n",
      " 17  apply_alternate_url        2289 non-null   object \n",
      " 18  insider_interview          148 non-null    object \n",
      " 19  url                        2289 non-null   object \n",
      " 20  alternate_url              2289 non-null   object \n",
      " 21  relations                  2289 non-null   object \n",
      " 22  employer                   2289 non-null   object \n",
      " 23  snippet                    2289 non-null   object \n",
      " 24  contacts                   0 non-null      float64\n",
      " 25  schedule                   2289 non-null   object \n",
      " 26  working_days               2289 non-null   object \n",
      " 27  working_time_intervals     2289 non-null   object \n",
      " 28  working_time_modes         2289 non-null   object \n",
      " 29  accept_temporary           2289 non-null   bool   \n",
      " 30  professional_roles         2289 non-null   object \n",
      " 31  accept_incomplete_resumes  2289 non-null   bool   \n",
      " 32  experience                 2289 non-null   object \n",
      " 33  employment                 2289 non-null   object \n",
      " 34  adv_response_url           0 non-null      float64\n",
      " 35  is_adv_vacancy             2289 non-null   bool   \n",
      " 36  adv_context                0 non-null      float64\n",
      " 37  show_logo_in_search        1128 non-null   object \n",
      "dtypes: bool(7), float64(4), int64(3), object(24)\n",
      "memory usage: 570.1+ KB\n"
     ]
    }
   ],
   "source": [
    "data.info()"
   ],
   "metadata": {
    "collapsed": false,
    "ExecuteTime": {
     "end_time": "2024-03-02T17:44:16.823019600Z",
     "start_time": "2024-03-02T17:44:16.780285300Z"
    }
   },
   "id": "26e0ba4c8a9ffbbe",
   "execution_count": 64
  }
 ],
 "metadata": {
  "kernelspec": {
   "display_name": "Python 3",
   "language": "python",
   "name": "python3"
  },
  "language_info": {
   "codemirror_mode": {
    "name": "ipython",
    "version": 2
   },
   "file_extension": ".py",
   "mimetype": "text/x-python",
   "name": "python",
   "nbconvert_exporter": "python",
   "pygments_lexer": "ipython2",
   "version": "2.7.6"
  }
 },
 "nbformat": 4,
 "nbformat_minor": 5
}
