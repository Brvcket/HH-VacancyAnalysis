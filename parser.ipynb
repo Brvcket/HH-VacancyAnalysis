{
 "cells": [
  {
   "cell_type": "code",
   "execution_count": 54,
   "id": "initial_id",
   "metadata": {
    "collapsed": true,
    "ExecuteTime": {
     "end_time": "2024-03-02T17:36:23.199172200Z",
     "start_time": "2024-03-02T17:36:15.799055900Z"
    }
   },
   "outputs": [],
   "source": [
    "import requests\n",
    "import pandas as pd\n",
    "\n",
    "number_of_pages = 200\n",
    "#number_of_ads = number_of_pages * per_page\n",
    "\n",
    "job_title = [\"'Data scientist' or 'Data analyst' or 'ML' or 'AI' or 'Machine Learning' or 'Artificial Intelligence' or 'Аналитик данных' or 'Data Engineer' or 'Инженер данных' or 'Reinforcement learning' or 'Аналитик-исследователь' or 'Нейросеть' or 'Искусственный интеллект' or 'Машинное обучение'\"]\n",
    "areas = [113]\n",
    "for job in job_title:\n",
    "    for area in areas:\n",
    "        data=[]\n",
    "        for i in range(number_of_pages):\n",
    "            url = 'https://api.hh.ru/vacancies'\n",
    "            par = {'text': job, 'area':area,'per_page':'10', 'page':i, 'search_field':'name'}\n",
    "            r = requests.get(url, params=par)\n",
    "            e=r.json()\n",
    "            data.append(e)\n",
    "            vacancy_details = data[0]['items'][0].keys()\n",
    "            df = pd.DataFrame(columns= list(vacancy_details))\n",
    "            ind = 0\n",
    "            for i in range(len(data)):\n",
    "                for j in range(len(data[i]['items'])):\n",
    "                    df.loc[ind] = data[i]['items'][j]\n",
    "                    ind+=1\n",
    "        csv_name = str(area)+\".csv\"\n",
    "        df.to_csv(csv_name)"
   ]
  },
  {
   "cell_type": "code",
   "outputs": [],
   "source": [
    "# parse all csv files from data_by_countries folder and concatenate them into one dataframe\n",
    "import pandas as pd\n",
    "import glob\n",
    "\n",
    "path = r'data_by_countries' # use your path\n",
    "all_files = glob.glob(path + \"/*.csv\")\n",
    "\n",
    "li = []\n",
    "\n",
    "for filename in all_files:\n",
    "    df = pd.read_csv(filename, index_col=None, header=0)\n",
    "    li.append(df)\n",
    "    \n",
    "frame = pd.concat(li, axis=0, ignore_index=True)\n",
    "frame.to_csv(\"all_data.csv\")"
   ],
   "metadata": {
    "collapsed": false,
    "ExecuteTime": {
     "end_time": "2024-03-02T17:43:43.476013500Z",
     "start_time": "2024-03-02T17:43:43.181647400Z"
    }
   },
   "id": "8d1ad2a01700e63c",
   "execution_count": 62
  }
 ],
 "metadata": {
  "kernelspec": {
   "display_name": "Python 3",
   "language": "python",
   "name": "python3"
  },
  "language_info": {
   "codemirror_mode": {
    "name": "ipython",
    "version": 2
   },
   "file_extension": ".py",
   "mimetype": "text/x-python",
   "name": "python",
   "nbconvert_exporter": "python",
   "pygments_lexer": "ipython2",
   "version": "2.7.6"
  }
 },
 "nbformat": 4,
 "nbformat_minor": 5
}
