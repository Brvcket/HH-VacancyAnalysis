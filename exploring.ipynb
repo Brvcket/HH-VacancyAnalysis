{
 "cells": [
  {
   "cell_type": "code",
   "outputs": [],
   "source": [
    "import pandas as pd"
   ],
   "metadata": {
    "collapsed": false,
    "ExecuteTime": {
     "end_time": "2024-03-03T23:24:48.642388Z",
     "start_time": "2024-03-03T23:24:45.373984800Z"
    }
   },
   "id": "9b263fecdcea39b5",
   "execution_count": 1
  },
  {
   "cell_type": "code",
   "outputs": [
    {
     "data": {
      "text/plain": "   premium                                            name   department_id  \\\n0    False                 Team Lead/Senior Data Scientist             NaN   \n1    False                 Team Lead/Senior Data Scientist             NaN   \n2    False                 Team Lead/Senior Data Scientist             NaN   \n3    False  Team Lead/Senior Data Analyst. Аналитик данных  3529-3529-prof   \n4    False          Data scientist (NLP) - Sberbank AI Lab  3529-3529-prof   \n\n      department_name  area_id        area_name  has_test  \\\n0                 NaN        3     Екатеринбург     False   \n1                 NaN        2  Санкт-Петербург     False   \n2                 NaN        1           Москва     False   \n3  Сбер для экспертов        3     Екатеринбург     False   \n4  Сбер для экспертов        1           Москва     False   \n\n   response_letter_required  salary_from  salary_to salary_currency  \\\n0                     False          NaN        NaN             NaN   \n1                     False          NaN        NaN             NaN   \n2                     False          NaN        NaN             NaN   \n3                     False          NaN        NaN             NaN   \n4                     False          NaN        NaN             NaN   \n\n  salary_gross type_id employer_name schedule_id experience_id employment_id  \\\n0          NaN    open    СКБ Контур     fullDay     moreThan6          full   \n1          NaN    open    СКБ Контур     fullDay     moreThan6          full   \n2          NaN    open    СКБ Контур     fullDay     moreThan6          full   \n3          NaN    open      Сбербанк     fullDay  between1And3          full   \n4          NaN    open      Сбербанк     fullDay  between1And3          full   \n\n   is_address  is_insider_interview  \n0        True                 False  \n1       False                 False  \n2       False                 False  \n3       False                 False  \n4       False                 False  ",
      "text/html": "<div>\n<style scoped>\n    .dataframe tbody tr th:only-of-type {\n        vertical-align: middle;\n    }\n\n    .dataframe tbody tr th {\n        vertical-align: top;\n    }\n\n    .dataframe thead th {\n        text-align: right;\n    }\n</style>\n<table border=\"1\" class=\"dataframe\">\n  <thead>\n    <tr style=\"text-align: right;\">\n      <th></th>\n      <th>premium</th>\n      <th>name</th>\n      <th>department_id</th>\n      <th>department_name</th>\n      <th>area_id</th>\n      <th>area_name</th>\n      <th>has_test</th>\n      <th>response_letter_required</th>\n      <th>salary_from</th>\n      <th>salary_to</th>\n      <th>salary_currency</th>\n      <th>salary_gross</th>\n      <th>type_id</th>\n      <th>employer_name</th>\n      <th>schedule_id</th>\n      <th>experience_id</th>\n      <th>employment_id</th>\n      <th>is_address</th>\n      <th>is_insider_interview</th>\n    </tr>\n  </thead>\n  <tbody>\n    <tr>\n      <th>0</th>\n      <td>False</td>\n      <td>Team Lead/Senior Data Scientist</td>\n      <td>NaN</td>\n      <td>NaN</td>\n      <td>3</td>\n      <td>Екатеринбург</td>\n      <td>False</td>\n      <td>False</td>\n      <td>NaN</td>\n      <td>NaN</td>\n      <td>NaN</td>\n      <td>NaN</td>\n      <td>open</td>\n      <td>СКБ Контур</td>\n      <td>fullDay</td>\n      <td>moreThan6</td>\n      <td>full</td>\n      <td>True</td>\n      <td>False</td>\n    </tr>\n    <tr>\n      <th>1</th>\n      <td>False</td>\n      <td>Team Lead/Senior Data Scientist</td>\n      <td>NaN</td>\n      <td>NaN</td>\n      <td>2</td>\n      <td>Санкт-Петербург</td>\n      <td>False</td>\n      <td>False</td>\n      <td>NaN</td>\n      <td>NaN</td>\n      <td>NaN</td>\n      <td>NaN</td>\n      <td>open</td>\n      <td>СКБ Контур</td>\n      <td>fullDay</td>\n      <td>moreThan6</td>\n      <td>full</td>\n      <td>False</td>\n      <td>False</td>\n    </tr>\n    <tr>\n      <th>2</th>\n      <td>False</td>\n      <td>Team Lead/Senior Data Scientist</td>\n      <td>NaN</td>\n      <td>NaN</td>\n      <td>1</td>\n      <td>Москва</td>\n      <td>False</td>\n      <td>False</td>\n      <td>NaN</td>\n      <td>NaN</td>\n      <td>NaN</td>\n      <td>NaN</td>\n      <td>open</td>\n      <td>СКБ Контур</td>\n      <td>fullDay</td>\n      <td>moreThan6</td>\n      <td>full</td>\n      <td>False</td>\n      <td>False</td>\n    </tr>\n    <tr>\n      <th>3</th>\n      <td>False</td>\n      <td>Team Lead/Senior Data Analyst. Аналитик данных</td>\n      <td>3529-3529-prof</td>\n      <td>Сбер для экспертов</td>\n      <td>3</td>\n      <td>Екатеринбург</td>\n      <td>False</td>\n      <td>False</td>\n      <td>NaN</td>\n      <td>NaN</td>\n      <td>NaN</td>\n      <td>NaN</td>\n      <td>open</td>\n      <td>Сбербанк</td>\n      <td>fullDay</td>\n      <td>between1And3</td>\n      <td>full</td>\n      <td>False</td>\n      <td>False</td>\n    </tr>\n    <tr>\n      <th>4</th>\n      <td>False</td>\n      <td>Data scientist (NLP) - Sberbank AI Lab</td>\n      <td>3529-3529-prof</td>\n      <td>Сбер для экспертов</td>\n      <td>1</td>\n      <td>Москва</td>\n      <td>False</td>\n      <td>False</td>\n      <td>NaN</td>\n      <td>NaN</td>\n      <td>NaN</td>\n      <td>NaN</td>\n      <td>open</td>\n      <td>Сбербанк</td>\n      <td>fullDay</td>\n      <td>between1And3</td>\n      <td>full</td>\n      <td>False</td>\n      <td>False</td>\n    </tr>\n  </tbody>\n</table>\n</div>"
     },
     "execution_count": 3,
     "metadata": {},
     "output_type": "execute_result"
    }
   ],
   "source": [
    "df20 = pd.read_csv('data/adjusted_vacancies_2020.csv')\n",
    "df20.head()"
   ],
   "metadata": {
    "collapsed": false,
    "ExecuteTime": {
     "end_time": "2024-03-03T23:25:18.975471200Z",
     "start_time": "2024-03-03T23:25:18.711860300Z"
    }
   },
   "id": "9d41170c31e5f256",
   "execution_count": 3
  },
  {
   "cell_type": "code",
   "outputs": [
    {
     "name": "stdout",
     "output_type": "stream",
     "text": [
      "<class 'pandas.core.frame.DataFrame'>\n",
      "RangeIndex: 997 entries, 0 to 996\n",
      "Data columns (total 19 columns):\n",
      " #   Column                    Non-Null Count  Dtype  \n",
      "---  ------                    --------------  -----  \n",
      " 0   premium                   997 non-null    bool   \n",
      " 1   name                      997 non-null    object \n",
      " 2   department_id             189 non-null    object \n",
      " 3   department_name           189 non-null    object \n",
      " 4   area_id                   997 non-null    int64  \n",
      " 5   area_name                 997 non-null    object \n",
      " 6   has_test                  997 non-null    bool   \n",
      " 7   response_letter_required  997 non-null    bool   \n",
      " 8   salary_from               123 non-null    float64\n",
      " 9   salary_to                 95 non-null     float64\n",
      " 10  salary_currency           157 non-null    object \n",
      " 11  salary_gross              157 non-null    object \n",
      " 12  type_id                   997 non-null    object \n",
      " 13  employer_name             997 non-null    object \n",
      " 14  schedule_id               997 non-null    object \n",
      " 15  experience_id             997 non-null    object \n",
      " 16  employment_id             997 non-null    object \n",
      " 17  is_address                997 non-null    bool   \n",
      " 18  is_insider_interview      997 non-null    bool   \n",
      "dtypes: bool(5), float64(2), int64(1), object(11)\n",
      "memory usage: 114.0+ KB\n"
     ]
    }
   ],
   "source": [
    "df20.info()"
   ],
   "metadata": {
    "collapsed": false,
    "ExecuteTime": {
     "end_time": "2024-03-03T23:25:26.416555300Z",
     "start_time": "2024-03-03T23:25:26.209322400Z"
    }
   },
   "id": "f888a7999e658551",
   "execution_count": 4
  },
  {
   "cell_type": "code",
   "outputs": [
    {
     "data": {
      "text/plain": "   premium                                               name  has_test  \\\n0    False                              Junior Data Scientist     False   \n1    False                              Junior Data Scientist     False   \n2    False                               Junior Data Engineer     False   \n3    False                              Junior Data Scientist     False   \n4    False  Разработчик операций AI, Python/React (Удаленн...     False   \n\n   response_letter_required department_id department_name  area_id area_name  \\\n0                     False           NaN             NaN       74    Польша   \n1                     False           NaN             NaN      146    Сербия   \n2                     False           NaN             NaN       13   Армения   \n3                     False           NaN             NaN       13   Армения   \n4                     False           NaN             NaN      146    Сербия   \n\n   salary_from  salary_to salary_currency salary_gross type_id employer_name  \\\n0          NaN        NaN             NaN          NaN    open     HIRE5 INC   \n1          NaN        NaN             NaN          NaN    open     HIRE5 INC   \n2          NaN      900.0             EUR         True    open    AppQuantum   \n3          NaN        NaN             NaN          NaN    open     HIRE5 INC   \n4          NaN        NaN             NaN          NaN    open       LATOKEN   \n\n  schedule_id experience_id employment_id  is_address  is_insider_interview  \n0      remote  between1And3          full       False                 False  \n1      remote  between1And3          full       False                 False  \n2     fullDay  between1And3          full       False                 False  \n3      remote  between1And3          full       False                 False  \n4      remote  noExperience          full       False                 False  ",
      "text/html": "<div>\n<style scoped>\n    .dataframe tbody tr th:only-of-type {\n        vertical-align: middle;\n    }\n\n    .dataframe tbody tr th {\n        vertical-align: top;\n    }\n\n    .dataframe thead th {\n        text-align: right;\n    }\n</style>\n<table border=\"1\" class=\"dataframe\">\n  <thead>\n    <tr style=\"text-align: right;\">\n      <th></th>\n      <th>premium</th>\n      <th>name</th>\n      <th>has_test</th>\n      <th>response_letter_required</th>\n      <th>department_id</th>\n      <th>department_name</th>\n      <th>area_id</th>\n      <th>area_name</th>\n      <th>salary_from</th>\n      <th>salary_to</th>\n      <th>salary_currency</th>\n      <th>salary_gross</th>\n      <th>type_id</th>\n      <th>employer_name</th>\n      <th>schedule_id</th>\n      <th>experience_id</th>\n      <th>employment_id</th>\n      <th>is_address</th>\n      <th>is_insider_interview</th>\n    </tr>\n  </thead>\n  <tbody>\n    <tr>\n      <th>0</th>\n      <td>False</td>\n      <td>Junior Data Scientist</td>\n      <td>False</td>\n      <td>False</td>\n      <td>NaN</td>\n      <td>NaN</td>\n      <td>74</td>\n      <td>Польша</td>\n      <td>NaN</td>\n      <td>NaN</td>\n      <td>NaN</td>\n      <td>NaN</td>\n      <td>open</td>\n      <td>HIRE5 INC</td>\n      <td>remote</td>\n      <td>between1And3</td>\n      <td>full</td>\n      <td>False</td>\n      <td>False</td>\n    </tr>\n    <tr>\n      <th>1</th>\n      <td>False</td>\n      <td>Junior Data Scientist</td>\n      <td>False</td>\n      <td>False</td>\n      <td>NaN</td>\n      <td>NaN</td>\n      <td>146</td>\n      <td>Сербия</td>\n      <td>NaN</td>\n      <td>NaN</td>\n      <td>NaN</td>\n      <td>NaN</td>\n      <td>open</td>\n      <td>HIRE5 INC</td>\n      <td>remote</td>\n      <td>between1And3</td>\n      <td>full</td>\n      <td>False</td>\n      <td>False</td>\n    </tr>\n    <tr>\n      <th>2</th>\n      <td>False</td>\n      <td>Junior Data Engineer</td>\n      <td>False</td>\n      <td>False</td>\n      <td>NaN</td>\n      <td>NaN</td>\n      <td>13</td>\n      <td>Армения</td>\n      <td>NaN</td>\n      <td>900.0</td>\n      <td>EUR</td>\n      <td>True</td>\n      <td>open</td>\n      <td>AppQuantum</td>\n      <td>fullDay</td>\n      <td>between1And3</td>\n      <td>full</td>\n      <td>False</td>\n      <td>False</td>\n    </tr>\n    <tr>\n      <th>3</th>\n      <td>False</td>\n      <td>Junior Data Scientist</td>\n      <td>False</td>\n      <td>False</td>\n      <td>NaN</td>\n      <td>NaN</td>\n      <td>13</td>\n      <td>Армения</td>\n      <td>NaN</td>\n      <td>NaN</td>\n      <td>NaN</td>\n      <td>NaN</td>\n      <td>open</td>\n      <td>HIRE5 INC</td>\n      <td>remote</td>\n      <td>between1And3</td>\n      <td>full</td>\n      <td>False</td>\n      <td>False</td>\n    </tr>\n    <tr>\n      <th>4</th>\n      <td>False</td>\n      <td>Разработчик операций AI, Python/React (Удаленн...</td>\n      <td>False</td>\n      <td>False</td>\n      <td>NaN</td>\n      <td>NaN</td>\n      <td>146</td>\n      <td>Сербия</td>\n      <td>NaN</td>\n      <td>NaN</td>\n      <td>NaN</td>\n      <td>NaN</td>\n      <td>open</td>\n      <td>LATOKEN</td>\n      <td>remote</td>\n      <td>noExperience</td>\n      <td>full</td>\n      <td>False</td>\n      <td>False</td>\n    </tr>\n  </tbody>\n</table>\n</div>"
     },
     "execution_count": 5,
     "metadata": {},
     "output_type": "execute_result"
    }
   ],
   "source": [
    "df24 = pd.read_csv('data/adjusted_vacancies_2024.csv')\n",
    "df24.head()\n"
   ],
   "metadata": {
    "collapsed": false,
    "ExecuteTime": {
     "end_time": "2024-03-03T23:25:47.821242200Z",
     "start_time": "2024-03-03T23:25:47.675505200Z"
    }
   },
   "id": "3ca856f4ff6395e6",
   "execution_count": 5
  },
  {
   "cell_type": "code",
   "outputs": [
    {
     "name": "stdout",
     "output_type": "stream",
     "text": [
      "<class 'pandas.core.frame.DataFrame'>\n",
      "RangeIndex: 2289 entries, 0 to 2288\n",
      "Data columns (total 19 columns):\n",
      " #   Column                    Non-Null Count  Dtype  \n",
      "---  ------                    --------------  -----  \n",
      " 0   premium                   2289 non-null   bool   \n",
      " 1   name                      2289 non-null   object \n",
      " 2   has_test                  2289 non-null   bool   \n",
      " 3   response_letter_required  2289 non-null   bool   \n",
      " 4   department_id             617 non-null    object \n",
      " 5   department_name           617 non-null    object \n",
      " 6   area_id                   2289 non-null   int64  \n",
      " 7   area_name                 2289 non-null   object \n",
      " 8   salary_from               403 non-null    float64\n",
      " 9   salary_to                 275 non-null    float64\n",
      " 10  salary_currency           475 non-null    object \n",
      " 11  salary_gross              475 non-null    object \n",
      " 12  type_id                   2289 non-null   object \n",
      " 13  employer_name             2289 non-null   object \n",
      " 14  schedule_id               2289 non-null   object \n",
      " 15  experience_id             2289 non-null   object \n",
      " 16  employment_id             2289 non-null   object \n",
      " 17  is_address                2289 non-null   bool   \n",
      " 18  is_insider_interview      2289 non-null   bool   \n",
      "dtypes: bool(5), float64(2), int64(1), object(11)\n",
      "memory usage: 261.7+ KB\n"
     ]
    }
   ],
   "source": [
    "df24.info()"
   ],
   "metadata": {
    "collapsed": false,
    "ExecuteTime": {
     "end_time": "2024-03-03T23:26:43.544832900Z",
     "start_time": "2024-03-03T23:26:43.496529400Z"
    }
   },
   "id": "578fed6c85b09571",
   "execution_count": 6
  },
  {
   "cell_type": "code",
   "outputs": [],
   "source": [
    "# plot two plots on the same figure for 2020 and 2024 with histogram for area\n",
    "import matplotlib.pyplot as plt\n",
    "import seaborn as sns"
   ],
   "metadata": {
    "collapsed": false,
    "ExecuteTime": {
     "end_time": "2024-03-03T23:27:50.432615200Z",
     "start_time": "2024-03-03T23:27:44.974005200Z"
    }
   },
   "id": "b84065a2face1a18",
   "execution_count": 7
  },
  {
   "cell_type": "code",
   "outputs": [],
   "source": [],
   "metadata": {
    "collapsed": false,
    "ExecuteTime": {
     "end_time": "2024-03-03T23:35:25.149808400Z",
     "start_time": "2024-03-03T23:35:25.067525300Z"
    }
   },
   "id": "34678d5dc06bd6a4",
   "execution_count": 15
  }
 ],
 "metadata": {
  "kernelspec": {
   "display_name": "Python 3",
   "language": "python",
   "name": "python3"
  },
  "language_info": {
   "codemirror_mode": {
    "name": "ipython",
    "version": 2
   },
   "file_extension": ".py",
   "mimetype": "text/x-python",
   "name": "python",
   "nbconvert_exporter": "python",
   "pygments_lexer": "ipython2",
   "version": "2.7.6"
  }
 },
 "nbformat": 4,
 "nbformat_minor": 5
}
