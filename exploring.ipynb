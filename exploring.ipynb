{
 "cells": [
  {
   "cell_type": "code",
   "outputs": [],
   "source": [
    "import pandas as pd"
   ],
   "metadata": {
    "collapsed": false,
    "ExecuteTime": {
     "end_time": "2024-03-08T19:14:24.479093800Z",
     "start_time": "2024-03-08T19:14:24.399560500Z"
    }
   },
   "id": "9b263fecdcea39b5",
   "execution_count": 25
  },
  {
   "cell_type": "code",
   "outputs": [
    {
     "data": {
      "text/plain": "    premium                                               name  \\\n0     False                    Team Lead/Senior Data Scientist   \n1     False                    Team Lead/Senior Data Scientist   \n2     False                    Team Lead/Senior Data Scientist   \n3     False     Team Lead/Senior Data Analyst. Аналитик данных   \n4     False             Data scientist (NLP) - Sberbank AI Lab   \n5     False         Data Engineer (Information Retrieval Team)   \n6     False            Senior Data Scientist (Computer Vision)   \n7     False  Ведущий специалист по Machine learning (3D-алг...   \n8     False                        Аналитик ИСУ (Data Analyst)   \n9     False                                    Аналитик данных   \n10    False                Data Engineer, Global Music Company   \n11    False          Разработчик Python / Data Scientist (NLP)   \n12    False                       Middle/Senior Data Scientist   \n13    False                                    Аналитик данных   \n14    False              Data Engineer (Транзакционный бизнес)   \n15    False                   Аналитик данных / Data scientist   \n16    False       Big Data Machine Learning Algorithm Engineer   \n17    False                       Senior/Middle Data Scientist   \n18    False                  Data Analyst / Аналитик по данным   \n19    False                                      Data Engineer   \n20    False                       Web-аналитик\\аналитик данных   \n21    False  Technical Lead в Data Science-команду/ML Engineer   \n22    False                       Аналитик/Middle Data Analyst   \n23    False                                     Data Scientist   \n24    False                                      Data Engineer   \n25    False                Lead Computer Vision Data Scientist   \n26    False                    Data Analyst / Ведущий аналитик   \n27    False                     Аналитик данных / Data analyst   \n28    False                                      Data Engineer   \n29    False                        Junior Data Scientist (NLP)   \n30    False  Руководитель отдела разработки и внедрения AI/...   \n31    False                      Scala developer/Data Engineer   \n32    False                              Middle Data Scientist   \n33    False                            Аналитик/Data scientist   \n34    False                                      Data Engineer   \n35     True      Data Scientist/Data Analyst (Product Company)   \n36    False                   Data Scientist (Computer Vision)   \n37    False                          Machine Learning Engineer   \n38    False  Специалист по преподаванию направления \"Искусс...   \n39    False                    Senior Data scientist (NLP/NLU)   \n40    False      Data Analyst / Специалист по работе с данными   \n41    False                                     Data scientist   \n42    False                                    Аналитик данных   \n43    False  Data Scientist / Старший специалист по машинно...   \n44    False  Data scientist /аналитик данных (медицина, нау...   \n45    False                                  Big Data Engineer   \n46    False                  Аналитик данных (digital реклама)   \n47    False                                     AI/ML Engineer   \n48    False                       Программист Machine Learning   \n49    False  Junior Data Scientist / Специалист по машинном...   \n\n       department_id                                    department_name  \\\n0                NaN                                                NaN   \n1                NaN                                                NaN   \n2                NaN                                                NaN   \n3     3529-3529-prof                                 Сбер для экспертов   \n4     3529-3529-prof                                 Сбер для экспертов   \n5                NaN                                                NaN   \n6                NaN                                                NaN   \n7                NaN                                                NaN   \n8       3529-3529-it                                           Сбер. IT   \n9                NaN                                                NaN   \n10               NaN                                                NaN   \n11               NaN                                                NaN   \n12               NaN                                                NaN   \n13               NaN                                                NaN   \n14    3529-3529-prof                                 Сбер для экспертов   \n15               NaN                                                NaN   \n16               NaN                                                NaN   \n17               NaN                                                NaN   \n18               NaN                                                NaN   \n19               NaN                                                NaN   \n20               NaN                                                NaN   \n21  rosbank-599-opyt  «РОСБАНК, Societe Generale Group», с опытом ра...   \n22               NaN                                                NaN   \n23               NaN                                                NaN   \n24               NaN                                                NaN   \n25    3529-3529-lead                    Сбер. Экспертам и руководителям   \n26               NaN                                                NaN   \n27               NaN                                                NaN   \n28               NaN                                                NaN   \n29               NaN                                                NaN   \n30               NaN                                                NaN   \n31               NaN                                                NaN   \n32               NaN                                                NaN   \n33               NaN                                                NaN   \n34               NaN                                                NaN   \n35               NaN                                                NaN   \n36               NaN                                                NaN   \n37               NaN                                                NaN   \n38               NaN                                                NaN   \n39               NaN                                                NaN   \n40               NaN                                                NaN   \n41               NaN                                                NaN   \n42               NaN                                                NaN   \n43      2343-2343-it                     Компания «СПОРТМАСТЕР», SM Lab   \n44               NaN                                                NaN   \n45               NaN                                                NaN   \n46      2343-2343-it                     Компания «СПОРТМАСТЕР», SM Lab   \n47               NaN                                                NaN   \n48               NaN                                                NaN   \n49      2343-2343-it                     Компания «СПОРТМАСТЕР», SM Lab   \n\n    area_id         area_name  has_test  response_letter_required  \\\n0         3      Екатеринбург     False                     False   \n1         2   Санкт-Петербург     False                     False   \n2         1            Москва     False                     False   \n3         3      Екатеринбург     False                     False   \n4         1            Москва     False                     False   \n5      1002             Минск     False                     False   \n6      1002             Минск     False                     False   \n7         1            Москва     False                     False   \n8        26           Воронеж     False                     False   \n9        88            Казань     False                     False   \n10       26           Воронеж     False                     False   \n11        4       Новосибирск     False                     False   \n12        2   Санкт-Петербург     False                     False   \n13        1            Москва     False                     False   \n14        1            Москва     False                     False   \n15        1            Москва     False                     False   \n16        1            Москва     False                     False   \n17        3      Екатеринбург     False                     False   \n18        1            Москва     False                     False   \n19        1            Москва     False                     False   \n20        1            Москва     False                     False   \n21        1            Москва     False                     False   \n22     1002             Минск     False                     False   \n23        1            Москва     False                     False   \n24        1            Москва     False                     False   \n25        1            Москва     False                     False   \n26       66   Нижний Новгород     False                      True   \n27        2   Санкт-Петербург     False                     False   \n28      115              Киев     False                     False   \n29        2   Санкт-Петербург     False                     False   \n30        1            Москва     False                     False   \n31      212          Тольятти     False                     False   \n32        1            Москва     False                     False   \n33        2   Санкт-Петербург     False                     False   \n34        2   Санкт-Петербург     False                     False   \n35     1002             Минск     False                     False   \n36        1            Москва     False                     False   \n37     1002             Минск     False                     False   \n38     1641  Набережные Челны     False                     False   \n39        1            Москва     False                     False   \n40        1            Москва     False                     False   \n41        1            Москва     False                     False   \n42        1            Москва     False                     False   \n43        1            Москва     False                     False   \n44        1            Москва     False                     False   \n45        2   Санкт-Петербург     False                     False   \n46        1            Москва     False                     False   \n47       26           Воронеж     False                     False   \n48     1002             Минск     False                     False   \n49        1            Москва     False                     False   \n\n    salary_from  salary_to salary_currency salary_gross type_id  \\\n0           NaN        NaN             NaN          NaN    open   \n1           NaN        NaN             NaN          NaN    open   \n2           NaN        NaN             NaN          NaN    open   \n3           NaN        NaN             NaN          NaN    open   \n4           NaN        NaN             NaN          NaN    open   \n5           NaN        NaN             NaN          NaN    open   \n6           NaN        NaN             NaN          NaN    open   \n7      250000.0        NaN             RUR        False    open   \n8           NaN        NaN             NaN          NaN    open   \n9           NaN        NaN             NaN          NaN    open   \n10          NaN        NaN             NaN          NaN    open   \n11          NaN        NaN             NaN          NaN    open   \n12          NaN        NaN             NaN          NaN    open   \n13          NaN        NaN             NaN          NaN    open   \n14          NaN        NaN             NaN          NaN    open   \n15          NaN        NaN             NaN          NaN    open   \n16          NaN        NaN             NaN          NaN    open   \n17          NaN        NaN             NaN          NaN    open   \n18          NaN        NaN             NaN          NaN    open   \n19          NaN        NaN             NaN          NaN    open   \n20          NaN        NaN             NaN          NaN    open   \n21          NaN        NaN             NaN          NaN    open   \n22          NaN        NaN             NaN          NaN    open   \n23          NaN        NaN             NaN          NaN    open   \n24          NaN        NaN             NaN          NaN    open   \n25          NaN        NaN             NaN          NaN    open   \n26          NaN        NaN             NaN          NaN    open   \n27      70000.0        NaN             RUR        False    open   \n28          NaN        NaN             NaN          NaN    open   \n29      80000.0   120000.0             RUR        False    open   \n30          NaN        NaN             NaN          NaN    open   \n31     120000.0        NaN             RUR        False    open   \n32          NaN        NaN             NaN          NaN    open   \n33          NaN        NaN             NaN          NaN    open   \n34          NaN     3500.0             EUR        False    open   \n35          NaN        NaN             NaN          NaN    open   \n36     200000.0        NaN             RUR         True    open   \n37          NaN        NaN             NaN          NaN    open   \n38          NaN        NaN             NaN          NaN    open   \n39          NaN        NaN             NaN          NaN    open   \n40     100000.0        NaN             RUR         True    open   \n41          NaN        NaN             NaN          NaN    open   \n42          NaN        NaN             NaN          NaN    open   \n43          NaN        NaN             NaN          NaN    open   \n44     120000.0   150000.0             RUR        False    open   \n45          NaN        NaN             NaN          NaN    open   \n46          NaN        NaN             NaN          NaN    open   \n47          NaN        NaN             NaN          NaN    open   \n48          NaN        NaN             NaN          NaN    open   \n49          NaN        NaN             NaN          NaN    open   \n\n                                    employer_name schedule_id experience_id  \\\n0                                      СКБ Контур     fullDay     moreThan6   \n1                                      СКБ Контур     fullDay     moreThan6   \n2                                      СКБ Контур     fullDay     moreThan6   \n3                                        Сбербанк     fullDay  between1And3   \n4                                        Сбербанк     fullDay  between1And3   \n5                                      IHS Global     fullDay  between3And6   \n6                                      IHS Global     fullDay  between3And6   \n7                                         Адалиск    flexible  between3And6   \n8                                        Сбербанк     fullDay  between1And3   \n9                                     АК БАРС ДОМ     fullDay  between1And3   \n10                                        DataArt     fullDay  between1And3   \n11               Программный Продукт, ИТ-компания     fullDay  between1And3   \n12                     Самокат (ООО Умный ритейл)    flexible  between3And6   \n13               Программный Продукт, ИТ-компания     fullDay  between1And3   \n14                                       Сбербанк     fullDay  between1And3   \n15               Программный Продукт, ИТ-компания     fullDay  between3And6   \n16                                         HUAWEI     fullDay  between3And6   \n17         Парфюмерный супермаркет Золотое Яблоко     fullDay  between3And6   \n18                             Worldskills Russia     fullDay  between1And3   \n19                              Актион Технологии     fullDay  between1And3   \n20                                          Комус     fullDay  between1And3   \n21       РОСБАНК, Societe Generale Group (Russia)     fullDay  between3And6   \n22                                     Софтделюкс     fullDay  between1And3   \n23                             Брокеркредитсервис     fullDay  between3And6   \n24                             Брокеркредитсервис     fullDay  between3And6   \n25                                       Сбербанк     fullDay  between3And6   \n26                   Incrdbl Mobile Entertainment    flexible  between1And3   \n27            Платформа нативной рекламы LuckyAds     fullDay  between1And3   \n28                        FOZZY GROUP, Корпорация     fullDay  between3And6   \n29                                         M-soft      remote  between1And3   \n30                                       Гринатом     fullDay     moreThan6   \n31                                  Retail Rocket     fullDay  between1And3   \n32                                       Гринатом     fullDay  between1And3   \n33                                  Северный Путь     fullDay  between1And3   \n34                                         Exness     fullDay     moreThan6   \n35                                      Profitero     fullDay  between3And6   \n36                                 СофтТелематика    flexible  between3And6   \n37                                 iTechArt Group     fullDay  between3And6   \n38  ИТ-парк, Технопарк в сфере высоких технологий     fullDay  between1And3   \n39                                        ДомКлик     fullDay  between3And6   \n40                                Перфект Системс      remote  between1And3   \n41                                Корпорация ЭЛАР     fullDay  between1And3   \n42                                       ТЭК-Торг      remote  between1And3   \n43                                    Спортмастер     fullDay  between1And3   \n44                            ГК «ВИЗАВИ Консалт»     fullDay  between1And3   \n45                                  Grid Dynamics     fullDay  between3And6   \n46                                    Спортмастер     fullDay  between1And3   \n47                    Netcracker Technology Corp.     fullDay  between1And3   \n48                                       Мильжикс    flexible  between1And3   \n49                                    Спортмастер     fullDay  between1And3   \n\n   employment_id  is_address  is_insider_interview  \n0           full        True                 False  \n1           full       False                 False  \n2           full       False                 False  \n3           full       False                 False  \n4           full       False                 False  \n5           full        True                 False  \n6           full        True                 False  \n7           full        True                 False  \n8           full       False                 False  \n9           full        True                 False  \n10          full        True                 False  \n11          full        True                 False  \n12          full       False                  True  \n13          full       False                 False  \n14          full       False                 False  \n15          full       False                 False  \n16          full       False                 False  \n17          full       False                 False  \n18          full        True                 False  \n19          full        True                 False  \n20          full        True                 False  \n21          full       False                 False  \n22          full        True                 False  \n23          full        True                 False  \n24          full        True                 False  \n25          full        True                 False  \n26          full        True                 False  \n27          full       False                 False  \n28          full        True                 False  \n29          part       False                 False  \n30          full       False                 False  \n31          full        True                 False  \n32          full       False                 False  \n33          full        True                 False  \n34          full        True                 False  \n35          full        True                 False  \n36          full        True                 False  \n37          full        True                 False  \n38          part        True                 False  \n39          full       False                 False  \n40          full       False                 False  \n41          full        True                 False  \n42          full        True                 False  \n43          full        True                 False  \n44          full       False                 False  \n45          full       False                 False  \n46          full       False                 False  \n47          full       False                 False  \n48          full        True                 False  \n49          full       False                 False  ",
      "text/html": "<div>\n<style scoped>\n    .dataframe tbody tr th:only-of-type {\n        vertical-align: middle;\n    }\n\n    .dataframe tbody tr th {\n        vertical-align: top;\n    }\n\n    .dataframe thead th {\n        text-align: right;\n    }\n</style>\n<table border=\"1\" class=\"dataframe\">\n  <thead>\n    <tr style=\"text-align: right;\">\n      <th></th>\n      <th>premium</th>\n      <th>name</th>\n      <th>department_id</th>\n      <th>department_name</th>\n      <th>area_id</th>\n      <th>area_name</th>\n      <th>has_test</th>\n      <th>response_letter_required</th>\n      <th>salary_from</th>\n      <th>salary_to</th>\n      <th>salary_currency</th>\n      <th>salary_gross</th>\n      <th>type_id</th>\n      <th>employer_name</th>\n      <th>schedule_id</th>\n      <th>experience_id</th>\n      <th>employment_id</th>\n      <th>is_address</th>\n      <th>is_insider_interview</th>\n    </tr>\n  </thead>\n  <tbody>\n    <tr>\n      <th>0</th>\n      <td>False</td>\n      <td>Team Lead/Senior Data Scientist</td>\n      <td>NaN</td>\n      <td>NaN</td>\n      <td>3</td>\n      <td>Екатеринбург</td>\n      <td>False</td>\n      <td>False</td>\n      <td>NaN</td>\n      <td>NaN</td>\n      <td>NaN</td>\n      <td>NaN</td>\n      <td>open</td>\n      <td>СКБ Контур</td>\n      <td>fullDay</td>\n      <td>moreThan6</td>\n      <td>full</td>\n      <td>True</td>\n      <td>False</td>\n    </tr>\n    <tr>\n      <th>1</th>\n      <td>False</td>\n      <td>Team Lead/Senior Data Scientist</td>\n      <td>NaN</td>\n      <td>NaN</td>\n      <td>2</td>\n      <td>Санкт-Петербург</td>\n      <td>False</td>\n      <td>False</td>\n      <td>NaN</td>\n      <td>NaN</td>\n      <td>NaN</td>\n      <td>NaN</td>\n      <td>open</td>\n      <td>СКБ Контур</td>\n      <td>fullDay</td>\n      <td>moreThan6</td>\n      <td>full</td>\n      <td>False</td>\n      <td>False</td>\n    </tr>\n    <tr>\n      <th>2</th>\n      <td>False</td>\n      <td>Team Lead/Senior Data Scientist</td>\n      <td>NaN</td>\n      <td>NaN</td>\n      <td>1</td>\n      <td>Москва</td>\n      <td>False</td>\n      <td>False</td>\n      <td>NaN</td>\n      <td>NaN</td>\n      <td>NaN</td>\n      <td>NaN</td>\n      <td>open</td>\n      <td>СКБ Контур</td>\n      <td>fullDay</td>\n      <td>moreThan6</td>\n      <td>full</td>\n      <td>False</td>\n      <td>False</td>\n    </tr>\n    <tr>\n      <th>3</th>\n      <td>False</td>\n      <td>Team Lead/Senior Data Analyst. Аналитик данных</td>\n      <td>3529-3529-prof</td>\n      <td>Сбер для экспертов</td>\n      <td>3</td>\n      <td>Екатеринбург</td>\n      <td>False</td>\n      <td>False</td>\n      <td>NaN</td>\n      <td>NaN</td>\n      <td>NaN</td>\n      <td>NaN</td>\n      <td>open</td>\n      <td>Сбербанк</td>\n      <td>fullDay</td>\n      <td>between1And3</td>\n      <td>full</td>\n      <td>False</td>\n      <td>False</td>\n    </tr>\n    <tr>\n      <th>4</th>\n      <td>False</td>\n      <td>Data scientist (NLP) - Sberbank AI Lab</td>\n      <td>3529-3529-prof</td>\n      <td>Сбер для экспертов</td>\n      <td>1</td>\n      <td>Москва</td>\n      <td>False</td>\n      <td>False</td>\n      <td>NaN</td>\n      <td>NaN</td>\n      <td>NaN</td>\n      <td>NaN</td>\n      <td>open</td>\n      <td>Сбербанк</td>\n      <td>fullDay</td>\n      <td>between1And3</td>\n      <td>full</td>\n      <td>False</td>\n      <td>False</td>\n    </tr>\n    <tr>\n      <th>5</th>\n      <td>False</td>\n      <td>Data Engineer (Information Retrieval Team)</td>\n      <td>NaN</td>\n      <td>NaN</td>\n      <td>1002</td>\n      <td>Минск</td>\n      <td>False</td>\n      <td>False</td>\n      <td>NaN</td>\n      <td>NaN</td>\n      <td>NaN</td>\n      <td>NaN</td>\n      <td>open</td>\n      <td>IHS Global</td>\n      <td>fullDay</td>\n      <td>between3And6</td>\n      <td>full</td>\n      <td>True</td>\n      <td>False</td>\n    </tr>\n    <tr>\n      <th>6</th>\n      <td>False</td>\n      <td>Senior Data Scientist (Computer Vision)</td>\n      <td>NaN</td>\n      <td>NaN</td>\n      <td>1002</td>\n      <td>Минск</td>\n      <td>False</td>\n      <td>False</td>\n      <td>NaN</td>\n      <td>NaN</td>\n      <td>NaN</td>\n      <td>NaN</td>\n      <td>open</td>\n      <td>IHS Global</td>\n      <td>fullDay</td>\n      <td>between3And6</td>\n      <td>full</td>\n      <td>True</td>\n      <td>False</td>\n    </tr>\n    <tr>\n      <th>7</th>\n      <td>False</td>\n      <td>Ведущий специалист по Machine learning (3D-алг...</td>\n      <td>NaN</td>\n      <td>NaN</td>\n      <td>1</td>\n      <td>Москва</td>\n      <td>False</td>\n      <td>False</td>\n      <td>250000.0</td>\n      <td>NaN</td>\n      <td>RUR</td>\n      <td>False</td>\n      <td>open</td>\n      <td>Адалиск</td>\n      <td>flexible</td>\n      <td>between3And6</td>\n      <td>full</td>\n      <td>True</td>\n      <td>False</td>\n    </tr>\n    <tr>\n      <th>8</th>\n      <td>False</td>\n      <td>Аналитик ИСУ (Data Analyst)</td>\n      <td>3529-3529-it</td>\n      <td>Сбер. IT</td>\n      <td>26</td>\n      <td>Воронеж</td>\n      <td>False</td>\n      <td>False</td>\n      <td>NaN</td>\n      <td>NaN</td>\n      <td>NaN</td>\n      <td>NaN</td>\n      <td>open</td>\n      <td>Сбербанк</td>\n      <td>fullDay</td>\n      <td>between1And3</td>\n      <td>full</td>\n      <td>False</td>\n      <td>False</td>\n    </tr>\n    <tr>\n      <th>9</th>\n      <td>False</td>\n      <td>Аналитик данных</td>\n      <td>NaN</td>\n      <td>NaN</td>\n      <td>88</td>\n      <td>Казань</td>\n      <td>False</td>\n      <td>False</td>\n      <td>NaN</td>\n      <td>NaN</td>\n      <td>NaN</td>\n      <td>NaN</td>\n      <td>open</td>\n      <td>АК БАРС ДОМ</td>\n      <td>fullDay</td>\n      <td>between1And3</td>\n      <td>full</td>\n      <td>True</td>\n      <td>False</td>\n    </tr>\n    <tr>\n      <th>10</th>\n      <td>False</td>\n      <td>Data Engineer, Global Music Company</td>\n      <td>NaN</td>\n      <td>NaN</td>\n      <td>26</td>\n      <td>Воронеж</td>\n      <td>False</td>\n      <td>False</td>\n      <td>NaN</td>\n      <td>NaN</td>\n      <td>NaN</td>\n      <td>NaN</td>\n      <td>open</td>\n      <td>DataArt</td>\n      <td>fullDay</td>\n      <td>between1And3</td>\n      <td>full</td>\n      <td>True</td>\n      <td>False</td>\n    </tr>\n    <tr>\n      <th>11</th>\n      <td>False</td>\n      <td>Разработчик Python / Data Scientist (NLP)</td>\n      <td>NaN</td>\n      <td>NaN</td>\n      <td>4</td>\n      <td>Новосибирск</td>\n      <td>False</td>\n      <td>False</td>\n      <td>NaN</td>\n      <td>NaN</td>\n      <td>NaN</td>\n      <td>NaN</td>\n      <td>open</td>\n      <td>Программный Продукт, ИТ-компания</td>\n      <td>fullDay</td>\n      <td>between1And3</td>\n      <td>full</td>\n      <td>True</td>\n      <td>False</td>\n    </tr>\n    <tr>\n      <th>12</th>\n      <td>False</td>\n      <td>Middle/Senior Data Scientist</td>\n      <td>NaN</td>\n      <td>NaN</td>\n      <td>2</td>\n      <td>Санкт-Петербург</td>\n      <td>False</td>\n      <td>False</td>\n      <td>NaN</td>\n      <td>NaN</td>\n      <td>NaN</td>\n      <td>NaN</td>\n      <td>open</td>\n      <td>Самокат (ООО Умный ритейл)</td>\n      <td>flexible</td>\n      <td>between3And6</td>\n      <td>full</td>\n      <td>False</td>\n      <td>True</td>\n    </tr>\n    <tr>\n      <th>13</th>\n      <td>False</td>\n      <td>Аналитик данных</td>\n      <td>NaN</td>\n      <td>NaN</td>\n      <td>1</td>\n      <td>Москва</td>\n      <td>False</td>\n      <td>False</td>\n      <td>NaN</td>\n      <td>NaN</td>\n      <td>NaN</td>\n      <td>NaN</td>\n      <td>open</td>\n      <td>Программный Продукт, ИТ-компания</td>\n      <td>fullDay</td>\n      <td>between1And3</td>\n      <td>full</td>\n      <td>False</td>\n      <td>False</td>\n    </tr>\n    <tr>\n      <th>14</th>\n      <td>False</td>\n      <td>Data Engineer (Транзакционный бизнес)</td>\n      <td>3529-3529-prof</td>\n      <td>Сбер для экспертов</td>\n      <td>1</td>\n      <td>Москва</td>\n      <td>False</td>\n      <td>False</td>\n      <td>NaN</td>\n      <td>NaN</td>\n      <td>NaN</td>\n      <td>NaN</td>\n      <td>open</td>\n      <td>Сбербанк</td>\n      <td>fullDay</td>\n      <td>between1And3</td>\n      <td>full</td>\n      <td>False</td>\n      <td>False</td>\n    </tr>\n    <tr>\n      <th>15</th>\n      <td>False</td>\n      <td>Аналитик данных / Data scientist</td>\n      <td>NaN</td>\n      <td>NaN</td>\n      <td>1</td>\n      <td>Москва</td>\n      <td>False</td>\n      <td>False</td>\n      <td>NaN</td>\n      <td>NaN</td>\n      <td>NaN</td>\n      <td>NaN</td>\n      <td>open</td>\n      <td>Программный Продукт, ИТ-компания</td>\n      <td>fullDay</td>\n      <td>between3And6</td>\n      <td>full</td>\n      <td>False</td>\n      <td>False</td>\n    </tr>\n    <tr>\n      <th>16</th>\n      <td>False</td>\n      <td>Big Data Machine Learning Algorithm Engineer</td>\n      <td>NaN</td>\n      <td>NaN</td>\n      <td>1</td>\n      <td>Москва</td>\n      <td>False</td>\n      <td>False</td>\n      <td>NaN</td>\n      <td>NaN</td>\n      <td>NaN</td>\n      <td>NaN</td>\n      <td>open</td>\n      <td>HUAWEI</td>\n      <td>fullDay</td>\n      <td>between3And6</td>\n      <td>full</td>\n      <td>False</td>\n      <td>False</td>\n    </tr>\n    <tr>\n      <th>17</th>\n      <td>False</td>\n      <td>Senior/Middle Data Scientist</td>\n      <td>NaN</td>\n      <td>NaN</td>\n      <td>3</td>\n      <td>Екатеринбург</td>\n      <td>False</td>\n      <td>False</td>\n      <td>NaN</td>\n      <td>NaN</td>\n      <td>NaN</td>\n      <td>NaN</td>\n      <td>open</td>\n      <td>Парфюмерный супермаркет Золотое Яблоко</td>\n      <td>fullDay</td>\n      <td>between3And6</td>\n      <td>full</td>\n      <td>False</td>\n      <td>False</td>\n    </tr>\n    <tr>\n      <th>18</th>\n      <td>False</td>\n      <td>Data Analyst / Аналитик по данным</td>\n      <td>NaN</td>\n      <td>NaN</td>\n      <td>1</td>\n      <td>Москва</td>\n      <td>False</td>\n      <td>False</td>\n      <td>NaN</td>\n      <td>NaN</td>\n      <td>NaN</td>\n      <td>NaN</td>\n      <td>open</td>\n      <td>Worldskills Russia</td>\n      <td>fullDay</td>\n      <td>between1And3</td>\n      <td>full</td>\n      <td>True</td>\n      <td>False</td>\n    </tr>\n    <tr>\n      <th>19</th>\n      <td>False</td>\n      <td>Data Engineer</td>\n      <td>NaN</td>\n      <td>NaN</td>\n      <td>1</td>\n      <td>Москва</td>\n      <td>False</td>\n      <td>False</td>\n      <td>NaN</td>\n      <td>NaN</td>\n      <td>NaN</td>\n      <td>NaN</td>\n      <td>open</td>\n      <td>Актион Технологии</td>\n      <td>fullDay</td>\n      <td>between1And3</td>\n      <td>full</td>\n      <td>True</td>\n      <td>False</td>\n    </tr>\n    <tr>\n      <th>20</th>\n      <td>False</td>\n      <td>Web-аналитик\\аналитик данных</td>\n      <td>NaN</td>\n      <td>NaN</td>\n      <td>1</td>\n      <td>Москва</td>\n      <td>False</td>\n      <td>False</td>\n      <td>NaN</td>\n      <td>NaN</td>\n      <td>NaN</td>\n      <td>NaN</td>\n      <td>open</td>\n      <td>Комус</td>\n      <td>fullDay</td>\n      <td>between1And3</td>\n      <td>full</td>\n      <td>True</td>\n      <td>False</td>\n    </tr>\n    <tr>\n      <th>21</th>\n      <td>False</td>\n      <td>Technical Lead в Data Science-команду/ML Engineer</td>\n      <td>rosbank-599-opyt</td>\n      <td>«РОСБАНК, Societe Generale Group», с опытом ра...</td>\n      <td>1</td>\n      <td>Москва</td>\n      <td>False</td>\n      <td>False</td>\n      <td>NaN</td>\n      <td>NaN</td>\n      <td>NaN</td>\n      <td>NaN</td>\n      <td>open</td>\n      <td>РОСБАНК, Societe Generale Group (Russia)</td>\n      <td>fullDay</td>\n      <td>between3And6</td>\n      <td>full</td>\n      <td>False</td>\n      <td>False</td>\n    </tr>\n    <tr>\n      <th>22</th>\n      <td>False</td>\n      <td>Аналитик/Middle Data Analyst</td>\n      <td>NaN</td>\n      <td>NaN</td>\n      <td>1002</td>\n      <td>Минск</td>\n      <td>False</td>\n      <td>False</td>\n      <td>NaN</td>\n      <td>NaN</td>\n      <td>NaN</td>\n      <td>NaN</td>\n      <td>open</td>\n      <td>Софтделюкс</td>\n      <td>fullDay</td>\n      <td>between1And3</td>\n      <td>full</td>\n      <td>True</td>\n      <td>False</td>\n    </tr>\n    <tr>\n      <th>23</th>\n      <td>False</td>\n      <td>Data Scientist</td>\n      <td>NaN</td>\n      <td>NaN</td>\n      <td>1</td>\n      <td>Москва</td>\n      <td>False</td>\n      <td>False</td>\n      <td>NaN</td>\n      <td>NaN</td>\n      <td>NaN</td>\n      <td>NaN</td>\n      <td>open</td>\n      <td>Брокеркредитсервис</td>\n      <td>fullDay</td>\n      <td>between3And6</td>\n      <td>full</td>\n      <td>True</td>\n      <td>False</td>\n    </tr>\n    <tr>\n      <th>24</th>\n      <td>False</td>\n      <td>Data Engineer</td>\n      <td>NaN</td>\n      <td>NaN</td>\n      <td>1</td>\n      <td>Москва</td>\n      <td>False</td>\n      <td>False</td>\n      <td>NaN</td>\n      <td>NaN</td>\n      <td>NaN</td>\n      <td>NaN</td>\n      <td>open</td>\n      <td>Брокеркредитсервис</td>\n      <td>fullDay</td>\n      <td>between3And6</td>\n      <td>full</td>\n      <td>True</td>\n      <td>False</td>\n    </tr>\n    <tr>\n      <th>25</th>\n      <td>False</td>\n      <td>Lead Computer Vision Data Scientist</td>\n      <td>3529-3529-lead</td>\n      <td>Сбер. Экспертам и руководителям</td>\n      <td>1</td>\n      <td>Москва</td>\n      <td>False</td>\n      <td>False</td>\n      <td>NaN</td>\n      <td>NaN</td>\n      <td>NaN</td>\n      <td>NaN</td>\n      <td>open</td>\n      <td>Сбербанк</td>\n      <td>fullDay</td>\n      <td>between3And6</td>\n      <td>full</td>\n      <td>True</td>\n      <td>False</td>\n    </tr>\n    <tr>\n      <th>26</th>\n      <td>False</td>\n      <td>Data Analyst / Ведущий аналитик</td>\n      <td>NaN</td>\n      <td>NaN</td>\n      <td>66</td>\n      <td>Нижний Новгород</td>\n      <td>False</td>\n      <td>True</td>\n      <td>NaN</td>\n      <td>NaN</td>\n      <td>NaN</td>\n      <td>NaN</td>\n      <td>open</td>\n      <td>Incrdbl Mobile Entertainment</td>\n      <td>flexible</td>\n      <td>between1And3</td>\n      <td>full</td>\n      <td>True</td>\n      <td>False</td>\n    </tr>\n    <tr>\n      <th>27</th>\n      <td>False</td>\n      <td>Аналитик данных / Data analyst</td>\n      <td>NaN</td>\n      <td>NaN</td>\n      <td>2</td>\n      <td>Санкт-Петербург</td>\n      <td>False</td>\n      <td>False</td>\n      <td>70000.0</td>\n      <td>NaN</td>\n      <td>RUR</td>\n      <td>False</td>\n      <td>open</td>\n      <td>Платформа нативной рекламы LuckyAds</td>\n      <td>fullDay</td>\n      <td>between1And3</td>\n      <td>full</td>\n      <td>False</td>\n      <td>False</td>\n    </tr>\n    <tr>\n      <th>28</th>\n      <td>False</td>\n      <td>Data Engineer</td>\n      <td>NaN</td>\n      <td>NaN</td>\n      <td>115</td>\n      <td>Киев</td>\n      <td>False</td>\n      <td>False</td>\n      <td>NaN</td>\n      <td>NaN</td>\n      <td>NaN</td>\n      <td>NaN</td>\n      <td>open</td>\n      <td>FOZZY GROUP, Корпорация</td>\n      <td>fullDay</td>\n      <td>between3And6</td>\n      <td>full</td>\n      <td>True</td>\n      <td>False</td>\n    </tr>\n    <tr>\n      <th>29</th>\n      <td>False</td>\n      <td>Junior Data Scientist (NLP)</td>\n      <td>NaN</td>\n      <td>NaN</td>\n      <td>2</td>\n      <td>Санкт-Петербург</td>\n      <td>False</td>\n      <td>False</td>\n      <td>80000.0</td>\n      <td>120000.0</td>\n      <td>RUR</td>\n      <td>False</td>\n      <td>open</td>\n      <td>M-soft</td>\n      <td>remote</td>\n      <td>between1And3</td>\n      <td>part</td>\n      <td>False</td>\n      <td>False</td>\n    </tr>\n    <tr>\n      <th>30</th>\n      <td>False</td>\n      <td>Руководитель отдела разработки и внедрения AI/...</td>\n      <td>NaN</td>\n      <td>NaN</td>\n      <td>1</td>\n      <td>Москва</td>\n      <td>False</td>\n      <td>False</td>\n      <td>NaN</td>\n      <td>NaN</td>\n      <td>NaN</td>\n      <td>NaN</td>\n      <td>open</td>\n      <td>Гринатом</td>\n      <td>fullDay</td>\n      <td>moreThan6</td>\n      <td>full</td>\n      <td>False</td>\n      <td>False</td>\n    </tr>\n    <tr>\n      <th>31</th>\n      <td>False</td>\n      <td>Scala developer/Data Engineer</td>\n      <td>NaN</td>\n      <td>NaN</td>\n      <td>212</td>\n      <td>Тольятти</td>\n      <td>False</td>\n      <td>False</td>\n      <td>120000.0</td>\n      <td>NaN</td>\n      <td>RUR</td>\n      <td>False</td>\n      <td>open</td>\n      <td>Retail Rocket</td>\n      <td>fullDay</td>\n      <td>between1And3</td>\n      <td>full</td>\n      <td>True</td>\n      <td>False</td>\n    </tr>\n    <tr>\n      <th>32</th>\n      <td>False</td>\n      <td>Middle Data Scientist</td>\n      <td>NaN</td>\n      <td>NaN</td>\n      <td>1</td>\n      <td>Москва</td>\n      <td>False</td>\n      <td>False</td>\n      <td>NaN</td>\n      <td>NaN</td>\n      <td>NaN</td>\n      <td>NaN</td>\n      <td>open</td>\n      <td>Гринатом</td>\n      <td>fullDay</td>\n      <td>between1And3</td>\n      <td>full</td>\n      <td>False</td>\n      <td>False</td>\n    </tr>\n    <tr>\n      <th>33</th>\n      <td>False</td>\n      <td>Аналитик/Data scientist</td>\n      <td>NaN</td>\n      <td>NaN</td>\n      <td>2</td>\n      <td>Санкт-Петербург</td>\n      <td>False</td>\n      <td>False</td>\n      <td>NaN</td>\n      <td>NaN</td>\n      <td>NaN</td>\n      <td>NaN</td>\n      <td>open</td>\n      <td>Северный Путь</td>\n      <td>fullDay</td>\n      <td>between1And3</td>\n      <td>full</td>\n      <td>True</td>\n      <td>False</td>\n    </tr>\n    <tr>\n      <th>34</th>\n      <td>False</td>\n      <td>Data Engineer</td>\n      <td>NaN</td>\n      <td>NaN</td>\n      <td>2</td>\n      <td>Санкт-Петербург</td>\n      <td>False</td>\n      <td>False</td>\n      <td>NaN</td>\n      <td>3500.0</td>\n      <td>EUR</td>\n      <td>False</td>\n      <td>open</td>\n      <td>Exness</td>\n      <td>fullDay</td>\n      <td>moreThan6</td>\n      <td>full</td>\n      <td>True</td>\n      <td>False</td>\n    </tr>\n    <tr>\n      <th>35</th>\n      <td>True</td>\n      <td>Data Scientist/Data Analyst (Product Company)</td>\n      <td>NaN</td>\n      <td>NaN</td>\n      <td>1002</td>\n      <td>Минск</td>\n      <td>False</td>\n      <td>False</td>\n      <td>NaN</td>\n      <td>NaN</td>\n      <td>NaN</td>\n      <td>NaN</td>\n      <td>open</td>\n      <td>Profitero</td>\n      <td>fullDay</td>\n      <td>between3And6</td>\n      <td>full</td>\n      <td>True</td>\n      <td>False</td>\n    </tr>\n    <tr>\n      <th>36</th>\n      <td>False</td>\n      <td>Data Scientist (Computer Vision)</td>\n      <td>NaN</td>\n      <td>NaN</td>\n      <td>1</td>\n      <td>Москва</td>\n      <td>False</td>\n      <td>False</td>\n      <td>200000.0</td>\n      <td>NaN</td>\n      <td>RUR</td>\n      <td>True</td>\n      <td>open</td>\n      <td>СофтТелематика</td>\n      <td>flexible</td>\n      <td>between3And6</td>\n      <td>full</td>\n      <td>True</td>\n      <td>False</td>\n    </tr>\n    <tr>\n      <th>37</th>\n      <td>False</td>\n      <td>Machine Learning Engineer</td>\n      <td>NaN</td>\n      <td>NaN</td>\n      <td>1002</td>\n      <td>Минск</td>\n      <td>False</td>\n      <td>False</td>\n      <td>NaN</td>\n      <td>NaN</td>\n      <td>NaN</td>\n      <td>NaN</td>\n      <td>open</td>\n      <td>iTechArt Group</td>\n      <td>fullDay</td>\n      <td>between3And6</td>\n      <td>full</td>\n      <td>True</td>\n      <td>False</td>\n    </tr>\n    <tr>\n      <th>38</th>\n      <td>False</td>\n      <td>Специалист по преподаванию направления \"Искусс...</td>\n      <td>NaN</td>\n      <td>NaN</td>\n      <td>1641</td>\n      <td>Набережные Челны</td>\n      <td>False</td>\n      <td>False</td>\n      <td>NaN</td>\n      <td>NaN</td>\n      <td>NaN</td>\n      <td>NaN</td>\n      <td>open</td>\n      <td>ИТ-парк, Технопарк в сфере высоких технологий</td>\n      <td>fullDay</td>\n      <td>between1And3</td>\n      <td>part</td>\n      <td>True</td>\n      <td>False</td>\n    </tr>\n    <tr>\n      <th>39</th>\n      <td>False</td>\n      <td>Senior Data scientist (NLP/NLU)</td>\n      <td>NaN</td>\n      <td>NaN</td>\n      <td>1</td>\n      <td>Москва</td>\n      <td>False</td>\n      <td>False</td>\n      <td>NaN</td>\n      <td>NaN</td>\n      <td>NaN</td>\n      <td>NaN</td>\n      <td>open</td>\n      <td>ДомКлик</td>\n      <td>fullDay</td>\n      <td>between3And6</td>\n      <td>full</td>\n      <td>False</td>\n      <td>False</td>\n    </tr>\n    <tr>\n      <th>40</th>\n      <td>False</td>\n      <td>Data Analyst / Специалист по работе с данными</td>\n      <td>NaN</td>\n      <td>NaN</td>\n      <td>1</td>\n      <td>Москва</td>\n      <td>False</td>\n      <td>False</td>\n      <td>100000.0</td>\n      <td>NaN</td>\n      <td>RUR</td>\n      <td>True</td>\n      <td>open</td>\n      <td>Перфект Системс</td>\n      <td>remote</td>\n      <td>between1And3</td>\n      <td>full</td>\n      <td>False</td>\n      <td>False</td>\n    </tr>\n    <tr>\n      <th>41</th>\n      <td>False</td>\n      <td>Data scientist</td>\n      <td>NaN</td>\n      <td>NaN</td>\n      <td>1</td>\n      <td>Москва</td>\n      <td>False</td>\n      <td>False</td>\n      <td>NaN</td>\n      <td>NaN</td>\n      <td>NaN</td>\n      <td>NaN</td>\n      <td>open</td>\n      <td>Корпорация ЭЛАР</td>\n      <td>fullDay</td>\n      <td>between1And3</td>\n      <td>full</td>\n      <td>True</td>\n      <td>False</td>\n    </tr>\n    <tr>\n      <th>42</th>\n      <td>False</td>\n      <td>Аналитик данных</td>\n      <td>NaN</td>\n      <td>NaN</td>\n      <td>1</td>\n      <td>Москва</td>\n      <td>False</td>\n      <td>False</td>\n      <td>NaN</td>\n      <td>NaN</td>\n      <td>NaN</td>\n      <td>NaN</td>\n      <td>open</td>\n      <td>ТЭК-Торг</td>\n      <td>remote</td>\n      <td>between1And3</td>\n      <td>full</td>\n      <td>True</td>\n      <td>False</td>\n    </tr>\n    <tr>\n      <th>43</th>\n      <td>False</td>\n      <td>Data Scientist / Старший специалист по машинно...</td>\n      <td>2343-2343-it</td>\n      <td>Компания «СПОРТМАСТЕР», SM Lab</td>\n      <td>1</td>\n      <td>Москва</td>\n      <td>False</td>\n      <td>False</td>\n      <td>NaN</td>\n      <td>NaN</td>\n      <td>NaN</td>\n      <td>NaN</td>\n      <td>open</td>\n      <td>Спортмастер</td>\n      <td>fullDay</td>\n      <td>between1And3</td>\n      <td>full</td>\n      <td>True</td>\n      <td>False</td>\n    </tr>\n    <tr>\n      <th>44</th>\n      <td>False</td>\n      <td>Data scientist /аналитик данных (медицина, нау...</td>\n      <td>NaN</td>\n      <td>NaN</td>\n      <td>1</td>\n      <td>Москва</td>\n      <td>False</td>\n      <td>False</td>\n      <td>120000.0</td>\n      <td>150000.0</td>\n      <td>RUR</td>\n      <td>False</td>\n      <td>open</td>\n      <td>ГК «ВИЗАВИ Консалт»</td>\n      <td>fullDay</td>\n      <td>between1And3</td>\n      <td>full</td>\n      <td>False</td>\n      <td>False</td>\n    </tr>\n    <tr>\n      <th>45</th>\n      <td>False</td>\n      <td>Big Data Engineer</td>\n      <td>NaN</td>\n      <td>NaN</td>\n      <td>2</td>\n      <td>Санкт-Петербург</td>\n      <td>False</td>\n      <td>False</td>\n      <td>NaN</td>\n      <td>NaN</td>\n      <td>NaN</td>\n      <td>NaN</td>\n      <td>open</td>\n      <td>Grid Dynamics</td>\n      <td>fullDay</td>\n      <td>between3And6</td>\n      <td>full</td>\n      <td>False</td>\n      <td>False</td>\n    </tr>\n    <tr>\n      <th>46</th>\n      <td>False</td>\n      <td>Аналитик данных (digital реклама)</td>\n      <td>2343-2343-it</td>\n      <td>Компания «СПОРТМАСТЕР», SM Lab</td>\n      <td>1</td>\n      <td>Москва</td>\n      <td>False</td>\n      <td>False</td>\n      <td>NaN</td>\n      <td>NaN</td>\n      <td>NaN</td>\n      <td>NaN</td>\n      <td>open</td>\n      <td>Спортмастер</td>\n      <td>fullDay</td>\n      <td>between1And3</td>\n      <td>full</td>\n      <td>False</td>\n      <td>False</td>\n    </tr>\n    <tr>\n      <th>47</th>\n      <td>False</td>\n      <td>AI/ML Engineer</td>\n      <td>NaN</td>\n      <td>NaN</td>\n      <td>26</td>\n      <td>Воронеж</td>\n      <td>False</td>\n      <td>False</td>\n      <td>NaN</td>\n      <td>NaN</td>\n      <td>NaN</td>\n      <td>NaN</td>\n      <td>open</td>\n      <td>Netcracker Technology Corp.</td>\n      <td>fullDay</td>\n      <td>between1And3</td>\n      <td>full</td>\n      <td>False</td>\n      <td>False</td>\n    </tr>\n    <tr>\n      <th>48</th>\n      <td>False</td>\n      <td>Программист Machine Learning</td>\n      <td>NaN</td>\n      <td>NaN</td>\n      <td>1002</td>\n      <td>Минск</td>\n      <td>False</td>\n      <td>False</td>\n      <td>NaN</td>\n      <td>NaN</td>\n      <td>NaN</td>\n      <td>NaN</td>\n      <td>open</td>\n      <td>Мильжикс</td>\n      <td>flexible</td>\n      <td>between1And3</td>\n      <td>full</td>\n      <td>True</td>\n      <td>False</td>\n    </tr>\n    <tr>\n      <th>49</th>\n      <td>False</td>\n      <td>Junior Data Scientist / Специалист по машинном...</td>\n      <td>2343-2343-it</td>\n      <td>Компания «СПОРТМАСТЕР», SM Lab</td>\n      <td>1</td>\n      <td>Москва</td>\n      <td>False</td>\n      <td>False</td>\n      <td>NaN</td>\n      <td>NaN</td>\n      <td>NaN</td>\n      <td>NaN</td>\n      <td>open</td>\n      <td>Спортмастер</td>\n      <td>fullDay</td>\n      <td>between1And3</td>\n      <td>full</td>\n      <td>False</td>\n      <td>False</td>\n    </tr>\n  </tbody>\n</table>\n</div>"
     },
     "execution_count": 26,
     "metadata": {},
     "output_type": "execute_result"
    }
   ],
   "source": [
    "df20 = pd.read_csv('data/adjusted_vacancies_2020.csv')\n",
    "df20.head(50)"
   ],
   "metadata": {
    "collapsed": false,
    "ExecuteTime": {
     "end_time": "2024-03-08T19:14:24.563812300Z",
     "start_time": "2024-03-08T19:14:24.485101Z"
    }
   },
   "id": "9d41170c31e5f256",
   "execution_count": 26
  },
  {
   "cell_type": "code",
   "outputs": [
    {
     "name": "stdout",
     "output_type": "stream",
     "text": [
      "<class 'pandas.core.frame.DataFrame'>\n",
      "RangeIndex: 997 entries, 0 to 996\n",
      "Data columns (total 19 columns):\n",
      " #   Column                    Non-Null Count  Dtype  \n",
      "---  ------                    --------------  -----  \n",
      " 0   premium                   997 non-null    bool   \n",
      " 1   name                      997 non-null    object \n",
      " 2   department_id             189 non-null    object \n",
      " 3   department_name           189 non-null    object \n",
      " 4   area_id                   997 non-null    int64  \n",
      " 5   area_name                 997 non-null    object \n",
      " 6   has_test                  997 non-null    bool   \n",
      " 7   response_letter_required  997 non-null    bool   \n",
      " 8   salary_from               123 non-null    float64\n",
      " 9   salary_to                 95 non-null     float64\n",
      " 10  salary_currency           157 non-null    object \n",
      " 11  salary_gross              157 non-null    object \n",
      " 12  type_id                   997 non-null    object \n",
      " 13  employer_name             997 non-null    object \n",
      " 14  schedule_id               997 non-null    object \n",
      " 15  experience_id             997 non-null    object \n",
      " 16  employment_id             997 non-null    object \n",
      " 17  is_address                997 non-null    bool   \n",
      " 18  is_insider_interview      997 non-null    bool   \n",
      "dtypes: bool(5), float64(2), int64(1), object(11)\n",
      "memory usage: 114.0+ KB\n"
     ]
    }
   ],
   "source": [
    "df20.info()"
   ],
   "metadata": {
    "collapsed": false,
    "ExecuteTime": {
     "end_time": "2024-03-08T19:14:24.584752300Z",
     "start_time": "2024-03-08T19:14:24.564814100Z"
    }
   },
   "id": "f888a7999e658551",
   "execution_count": 27
  },
  {
   "cell_type": "code",
   "outputs": [
    {
     "data": {
      "text/plain": "   premium                                               name  has_test  \\\n0    False                              Junior Data Scientist     False   \n1    False                              Junior Data Scientist     False   \n2    False                               Junior Data Engineer     False   \n3    False                              Junior Data Scientist     False   \n4    False  Разработчик операций AI, Python/React (Удаленн...     False   \n\n   response_letter_required department_id department_name  area_id area_name  \\\n0                     False           NaN             NaN       74    Польша   \n1                     False           NaN             NaN      146    Сербия   \n2                     False           NaN             NaN       13   Армения   \n3                     False           NaN             NaN       13   Армения   \n4                     False           NaN             NaN      146    Сербия   \n\n   salary_from  salary_to salary_currency salary_gross type_id employer_name  \\\n0          NaN        NaN             NaN          NaN    open     HIRE5 INC   \n1          NaN        NaN             NaN          NaN    open     HIRE5 INC   \n2          NaN      900.0             EUR         True    open    AppQuantum   \n3          NaN        NaN             NaN          NaN    open     HIRE5 INC   \n4          NaN        NaN             NaN          NaN    open       LATOKEN   \n\n  schedule_id experience_id employment_id  is_address  is_insider_interview  \n0      remote  between1And3          full       False                 False  \n1      remote  between1And3          full       False                 False  \n2     fullDay  between1And3          full       False                 False  \n3      remote  between1And3          full       False                 False  \n4      remote  noExperience          full       False                 False  ",
      "text/html": "<div>\n<style scoped>\n    .dataframe tbody tr th:only-of-type {\n        vertical-align: middle;\n    }\n\n    .dataframe tbody tr th {\n        vertical-align: top;\n    }\n\n    .dataframe thead th {\n        text-align: right;\n    }\n</style>\n<table border=\"1\" class=\"dataframe\">\n  <thead>\n    <tr style=\"text-align: right;\">\n      <th></th>\n      <th>premium</th>\n      <th>name</th>\n      <th>has_test</th>\n      <th>response_letter_required</th>\n      <th>department_id</th>\n      <th>department_name</th>\n      <th>area_id</th>\n      <th>area_name</th>\n      <th>salary_from</th>\n      <th>salary_to</th>\n      <th>salary_currency</th>\n      <th>salary_gross</th>\n      <th>type_id</th>\n      <th>employer_name</th>\n      <th>schedule_id</th>\n      <th>experience_id</th>\n      <th>employment_id</th>\n      <th>is_address</th>\n      <th>is_insider_interview</th>\n    </tr>\n  </thead>\n  <tbody>\n    <tr>\n      <th>0</th>\n      <td>False</td>\n      <td>Junior Data Scientist</td>\n      <td>False</td>\n      <td>False</td>\n      <td>NaN</td>\n      <td>NaN</td>\n      <td>74</td>\n      <td>Польша</td>\n      <td>NaN</td>\n      <td>NaN</td>\n      <td>NaN</td>\n      <td>NaN</td>\n      <td>open</td>\n      <td>HIRE5 INC</td>\n      <td>remote</td>\n      <td>between1And3</td>\n      <td>full</td>\n      <td>False</td>\n      <td>False</td>\n    </tr>\n    <tr>\n      <th>1</th>\n      <td>False</td>\n      <td>Junior Data Scientist</td>\n      <td>False</td>\n      <td>False</td>\n      <td>NaN</td>\n      <td>NaN</td>\n      <td>146</td>\n      <td>Сербия</td>\n      <td>NaN</td>\n      <td>NaN</td>\n      <td>NaN</td>\n      <td>NaN</td>\n      <td>open</td>\n      <td>HIRE5 INC</td>\n      <td>remote</td>\n      <td>between1And3</td>\n      <td>full</td>\n      <td>False</td>\n      <td>False</td>\n    </tr>\n    <tr>\n      <th>2</th>\n      <td>False</td>\n      <td>Junior Data Engineer</td>\n      <td>False</td>\n      <td>False</td>\n      <td>NaN</td>\n      <td>NaN</td>\n      <td>13</td>\n      <td>Армения</td>\n      <td>NaN</td>\n      <td>900.0</td>\n      <td>EUR</td>\n      <td>True</td>\n      <td>open</td>\n      <td>AppQuantum</td>\n      <td>fullDay</td>\n      <td>between1And3</td>\n      <td>full</td>\n      <td>False</td>\n      <td>False</td>\n    </tr>\n    <tr>\n      <th>3</th>\n      <td>False</td>\n      <td>Junior Data Scientist</td>\n      <td>False</td>\n      <td>False</td>\n      <td>NaN</td>\n      <td>NaN</td>\n      <td>13</td>\n      <td>Армения</td>\n      <td>NaN</td>\n      <td>NaN</td>\n      <td>NaN</td>\n      <td>NaN</td>\n      <td>open</td>\n      <td>HIRE5 INC</td>\n      <td>remote</td>\n      <td>between1And3</td>\n      <td>full</td>\n      <td>False</td>\n      <td>False</td>\n    </tr>\n    <tr>\n      <th>4</th>\n      <td>False</td>\n      <td>Разработчик операций AI, Python/React (Удаленн...</td>\n      <td>False</td>\n      <td>False</td>\n      <td>NaN</td>\n      <td>NaN</td>\n      <td>146</td>\n      <td>Сербия</td>\n      <td>NaN</td>\n      <td>NaN</td>\n      <td>NaN</td>\n      <td>NaN</td>\n      <td>open</td>\n      <td>LATOKEN</td>\n      <td>remote</td>\n      <td>noExperience</td>\n      <td>full</td>\n      <td>False</td>\n      <td>False</td>\n    </tr>\n  </tbody>\n</table>\n</div>"
     },
     "execution_count": 28,
     "metadata": {},
     "output_type": "execute_result"
    }
   ],
   "source": [
    "df24 = pd.read_csv('data/adjusted_vacancies_2024.csv')\n",
    "df24.head()"
   ],
   "metadata": {
    "collapsed": false,
    "ExecuteTime": {
     "end_time": "2024-03-08T19:14:24.728801800Z",
     "start_time": "2024-03-08T19:14:24.589765Z"
    }
   },
   "id": "3ca856f4ff6395e6",
   "execution_count": 28
  },
  {
   "cell_type": "code",
   "outputs": [
    {
     "name": "stdout",
     "output_type": "stream",
     "text": [
      "<class 'pandas.core.frame.DataFrame'>\n",
      "RangeIndex: 2289 entries, 0 to 2288\n",
      "Data columns (total 19 columns):\n",
      " #   Column                    Non-Null Count  Dtype  \n",
      "---  ------                    --------------  -----  \n",
      " 0   premium                   2289 non-null   bool   \n",
      " 1   name                      2289 non-null   object \n",
      " 2   has_test                  2289 non-null   bool   \n",
      " 3   response_letter_required  2289 non-null   bool   \n",
      " 4   department_id             617 non-null    object \n",
      " 5   department_name           617 non-null    object \n",
      " 6   area_id                   2289 non-null   int64  \n",
      " 7   area_name                 2289 non-null   object \n",
      " 8   salary_from               403 non-null    float64\n",
      " 9   salary_to                 275 non-null    float64\n",
      " 10  salary_currency           475 non-null    object \n",
      " 11  salary_gross              475 non-null    object \n",
      " 12  type_id                   2289 non-null   object \n",
      " 13  employer_name             2289 non-null   object \n",
      " 14  schedule_id               2289 non-null   object \n",
      " 15  experience_id             2289 non-null   object \n",
      " 16  employment_id             2289 non-null   object \n",
      " 17  is_address                2289 non-null   bool   \n",
      " 18  is_insider_interview      2289 non-null   bool   \n",
      "dtypes: bool(5), float64(2), int64(1), object(11)\n",
      "memory usage: 261.7+ KB\n"
     ]
    }
   ],
   "source": [
    "df24.info()"
   ],
   "metadata": {
    "collapsed": false,
    "ExecuteTime": {
     "end_time": "2024-03-08T19:14:24.758866500Z",
     "start_time": "2024-03-08T19:14:24.623521Z"
    }
   },
   "id": "578fed6c85b09571",
   "execution_count": 29
  },
  {
   "cell_type": "code",
   "outputs": [
    {
     "data": {
      "text/plain": "           area_id   salary_from     salary_to\ncount   997.000000  1.230000e+02  9.500000e+01\nmean    109.762287  1.565309e+05  2.084116e+05\nstd     358.642511  1.949022e+05  2.673112e+05\nmin       1.000000  1.000000e+03  3.100000e+03\n25%       1.000000  8.000000e+04  8.500000e+04\n50%       1.000000  1.400000e+05  1.500000e+05\n75%      26.000000  2.000000e+05  2.800000e+05\nmax    2760.000000  2.100000e+06  2.400000e+06",
      "text/html": "<div>\n<style scoped>\n    .dataframe tbody tr th:only-of-type {\n        vertical-align: middle;\n    }\n\n    .dataframe tbody tr th {\n        vertical-align: top;\n    }\n\n    .dataframe thead th {\n        text-align: right;\n    }\n</style>\n<table border=\"1\" class=\"dataframe\">\n  <thead>\n    <tr style=\"text-align: right;\">\n      <th></th>\n      <th>area_id</th>\n      <th>salary_from</th>\n      <th>salary_to</th>\n    </tr>\n  </thead>\n  <tbody>\n    <tr>\n      <th>count</th>\n      <td>997.000000</td>\n      <td>1.230000e+02</td>\n      <td>9.500000e+01</td>\n    </tr>\n    <tr>\n      <th>mean</th>\n      <td>109.762287</td>\n      <td>1.565309e+05</td>\n      <td>2.084116e+05</td>\n    </tr>\n    <tr>\n      <th>std</th>\n      <td>358.642511</td>\n      <td>1.949022e+05</td>\n      <td>2.673112e+05</td>\n    </tr>\n    <tr>\n      <th>min</th>\n      <td>1.000000</td>\n      <td>1.000000e+03</td>\n      <td>3.100000e+03</td>\n    </tr>\n    <tr>\n      <th>25%</th>\n      <td>1.000000</td>\n      <td>8.000000e+04</td>\n      <td>8.500000e+04</td>\n    </tr>\n    <tr>\n      <th>50%</th>\n      <td>1.000000</td>\n      <td>1.400000e+05</td>\n      <td>1.500000e+05</td>\n    </tr>\n    <tr>\n      <th>75%</th>\n      <td>26.000000</td>\n      <td>2.000000e+05</td>\n      <td>2.800000e+05</td>\n    </tr>\n    <tr>\n      <th>max</th>\n      <td>2760.000000</td>\n      <td>2.100000e+06</td>\n      <td>2.400000e+06</td>\n    </tr>\n  </tbody>\n</table>\n</div>"
     },
     "execution_count": 30,
     "metadata": {},
     "output_type": "execute_result"
    }
   ],
   "source": [
    "df20.describe()"
   ],
   "metadata": {
    "collapsed": false,
    "ExecuteTime": {
     "end_time": "2024-03-08T19:14:24.802865600Z",
     "start_time": "2024-03-08T19:14:24.640368200Z"
    }
   },
   "id": "392a1c6784079301",
   "execution_count": 30
  },
  {
   "cell_type": "code",
   "outputs": [
    {
     "data": {
      "text/plain": "           area_id   salary_from     salary_to\ncount  2289.000000  4.030000e+02  2.750000e+02\nmean    180.612495  1.930588e+05  3.941533e+05\nstd     606.961758  1.116285e+06  2.552391e+06\nmin       1.000000  6.000000e+00  8.000000e+02\n25%       1.000000  5.000000e+04  5.185000e+04\n50%       1.000000  8.700000e+04  1.100000e+05\n75%      26.000000  1.500000e+05  2.500000e+05\nmax    6011.000000  2.000000e+07  3.000000e+07",
      "text/html": "<div>\n<style scoped>\n    .dataframe tbody tr th:only-of-type {\n        vertical-align: middle;\n    }\n\n    .dataframe tbody tr th {\n        vertical-align: top;\n    }\n\n    .dataframe thead th {\n        text-align: right;\n    }\n</style>\n<table border=\"1\" class=\"dataframe\">\n  <thead>\n    <tr style=\"text-align: right;\">\n      <th></th>\n      <th>area_id</th>\n      <th>salary_from</th>\n      <th>salary_to</th>\n    </tr>\n  </thead>\n  <tbody>\n    <tr>\n      <th>count</th>\n      <td>2289.000000</td>\n      <td>4.030000e+02</td>\n      <td>2.750000e+02</td>\n    </tr>\n    <tr>\n      <th>mean</th>\n      <td>180.612495</td>\n      <td>1.930588e+05</td>\n      <td>3.941533e+05</td>\n    </tr>\n    <tr>\n      <th>std</th>\n      <td>606.961758</td>\n      <td>1.116285e+06</td>\n      <td>2.552391e+06</td>\n    </tr>\n    <tr>\n      <th>min</th>\n      <td>1.000000</td>\n      <td>6.000000e+00</td>\n      <td>8.000000e+02</td>\n    </tr>\n    <tr>\n      <th>25%</th>\n      <td>1.000000</td>\n      <td>5.000000e+04</td>\n      <td>5.185000e+04</td>\n    </tr>\n    <tr>\n      <th>50%</th>\n      <td>1.000000</td>\n      <td>8.700000e+04</td>\n      <td>1.100000e+05</td>\n    </tr>\n    <tr>\n      <th>75%</th>\n      <td>26.000000</td>\n      <td>1.500000e+05</td>\n      <td>2.500000e+05</td>\n    </tr>\n    <tr>\n      <th>max</th>\n      <td>6011.000000</td>\n      <td>2.000000e+07</td>\n      <td>3.000000e+07</td>\n    </tr>\n  </tbody>\n</table>\n</div>"
     },
     "execution_count": 31,
     "metadata": {},
     "output_type": "execute_result"
    }
   ],
   "source": [
    "df24.describe()"
   ],
   "metadata": {
    "collapsed": false,
    "ExecuteTime": {
     "end_time": "2024-03-08T19:14:24.804866900Z",
     "start_time": "2024-03-08T19:14:24.657992100Z"
    }
   },
   "id": "835b36ba4c07da82",
   "execution_count": 31
  },
  {
   "cell_type": "code",
   "outputs": [
    {
     "data": {
      "text/plain": "RUR    135\nUSD     10\nEUR      6\nKZT      5\nUAH      1\nName: salary_currency, dtype: int64"
     },
     "execution_count": 32,
     "metadata": {},
     "output_type": "execute_result"
    }
   ],
   "source": [
    "df20['salary_currency'].value_counts()"
   ],
   "metadata": {
    "collapsed": false,
    "ExecuteTime": {
     "end_time": "2024-03-08T19:14:24.874576300Z",
     "start_time": "2024-03-08T19:14:24.737804900Z"
    }
   },
   "id": "a1bbcae09157aa26",
   "execution_count": 32
  },
  {
   "cell_type": "code",
   "outputs": [
    {
     "data": {
      "text/plain": "RUR    406\nUSD     44\nKZT     13\nEUR      4\nUZS      4\nBYR      2\nKGS      2\nName: salary_currency, dtype: int64"
     },
     "execution_count": 33,
     "metadata": {},
     "output_type": "execute_result"
    }
   ],
   "source": [
    "df24['salary_currency'].value_counts()"
   ],
   "metadata": {
    "collapsed": false,
    "ExecuteTime": {
     "end_time": "2024-03-08T19:14:25.217393200Z",
     "start_time": "2024-03-08T19:14:24.884577500Z"
    }
   },
   "id": "bc223233d5911685",
   "execution_count": 33
  },
  {
   "cell_type": "code",
   "outputs": [
    {
     "data": {
      "text/plain": "0     NaN\n1     NaN\n2     NaN\n3     NaN\n4     NaN\n       ..\n992   NaN\n993   NaN\n994   NaN\n995   NaN\n996   NaN\nName: salary_from, Length: 997, dtype: float64"
     },
     "execution_count": 34,
     "metadata": {},
     "output_type": "execute_result"
    }
   ],
   "source": [
    "df20['salary_from']"
   ],
   "metadata": {
    "collapsed": false,
    "ExecuteTime": {
     "end_time": "2024-03-08T19:14:25.451990900Z",
     "start_time": "2024-03-08T19:14:25.102041700Z"
    }
   },
   "id": "ae4b9edf5e990277",
   "execution_count": 34
  },
  {
   "cell_type": "markdown",
   "source": [
    "## 1. Comparison between years\n",
    "\n",
    "Have the vacancy pool characteristics (number of vacancies, mean salary, expected experience, number of employer countries) changed over last 5 years?"
   ],
   "metadata": {
    "collapsed": false
   },
   "id": "9ed2e2839dfaf68e"
  },
  {
   "cell_type": "code",
   "outputs": [
    {
     "name": "stdout",
     "output_type": "stream",
     "text": [
      "Number of rows in each dataframe:  123 403 95 275\n"
     ]
    }
   ],
   "source": [
    "# check whether salary distributions of two datasets are similar\n",
    "\n",
    "# take salary_from and salary_currency columns into one df\n",
    "df20_sal_from = df20[['salary_from', 'salary_currency']].dropna()\n",
    "df24_sal_from = df24[['salary_from', 'salary_currency']].dropna()\n",
    "df20_sal_to = df20[['salary_to', 'salary_currency']].dropna()\n",
    "df24_sal_to = df24[['salary_to', 'salary_currency']].dropna()\n",
    "\n",
    "print(\"Number of rows in each dataframe: \", len(df20_sal_from), len(df24_sal_from), len(df20_sal_to), len(df24_sal_to))\n"
   ],
   "metadata": {
    "collapsed": false,
    "ExecuteTime": {
     "end_time": "2024-03-08T19:14:40.744009300Z",
     "start_time": "2024-03-08T19:14:40.720850100Z"
    }
   },
   "id": "bcca33781333caa6",
   "execution_count": 35
  },
  {
   "cell_type": "code",
   "outputs": [
    {
     "data": {
      "text/plain": "     salary_from salary_currency\n7       250000.0             RUR\n27       70000.0             RUR\n29       80000.0             RUR\n31      120000.0             RUR\n36      200000.0             RUR\n..           ...             ...\n954      50000.0             RUR\n964     250000.0             RUR\n965     250000.0             RUR\n966     250000.0             RUR\n980     200000.0             RUR\n\n[123 rows x 2 columns]",
      "text/html": "<div>\n<style scoped>\n    .dataframe tbody tr th:only-of-type {\n        vertical-align: middle;\n    }\n\n    .dataframe tbody tr th {\n        vertical-align: top;\n    }\n\n    .dataframe thead th {\n        text-align: right;\n    }\n</style>\n<table border=\"1\" class=\"dataframe\">\n  <thead>\n    <tr style=\"text-align: right;\">\n      <th></th>\n      <th>salary_from</th>\n      <th>salary_currency</th>\n    </tr>\n  </thead>\n  <tbody>\n    <tr>\n      <th>7</th>\n      <td>250000.0</td>\n      <td>RUR</td>\n    </tr>\n    <tr>\n      <th>27</th>\n      <td>70000.0</td>\n      <td>RUR</td>\n    </tr>\n    <tr>\n      <th>29</th>\n      <td>80000.0</td>\n      <td>RUR</td>\n    </tr>\n    <tr>\n      <th>31</th>\n      <td>120000.0</td>\n      <td>RUR</td>\n    </tr>\n    <tr>\n      <th>36</th>\n      <td>200000.0</td>\n      <td>RUR</td>\n    </tr>\n    <tr>\n      <th>...</th>\n      <td>...</td>\n      <td>...</td>\n    </tr>\n    <tr>\n      <th>954</th>\n      <td>50000.0</td>\n      <td>RUR</td>\n    </tr>\n    <tr>\n      <th>964</th>\n      <td>250000.0</td>\n      <td>RUR</td>\n    </tr>\n    <tr>\n      <th>965</th>\n      <td>250000.0</td>\n      <td>RUR</td>\n    </tr>\n    <tr>\n      <th>966</th>\n      <td>250000.0</td>\n      <td>RUR</td>\n    </tr>\n    <tr>\n      <th>980</th>\n      <td>200000.0</td>\n      <td>RUR</td>\n    </tr>\n  </tbody>\n</table>\n<p>123 rows × 2 columns</p>\n</div>"
     },
     "execution_count": 36,
     "metadata": {},
     "output_type": "execute_result"
    }
   ],
   "source": [
    "df20_sal_from"
   ],
   "metadata": {
    "collapsed": false,
    "ExecuteTime": {
     "end_time": "2024-03-08T19:14:54.345893600Z",
     "start_time": "2024-03-08T19:14:54.330392600Z"
    }
   },
   "id": "9b7c7af964e663eb",
   "execution_count": 36
  },
  {
   "cell_type": "code",
   "outputs": [
    {
     "data": {
      "text/plain": "     salary_from salary_currency\n7       250000.0             RUR\n27       70000.0             RUR\n29       80000.0             RUR\n31      120000.0             RUR\n36      200000.0             RUR\n..           ...             ...\n954      50000.0             RUR\n964     250000.0             RUR\n965     250000.0             RUR\n966     250000.0             RUR\n980     200000.0             RUR\n\n[123 rows x 2 columns]",
      "text/html": "<div>\n<style scoped>\n    .dataframe tbody tr th:only-of-type {\n        vertical-align: middle;\n    }\n\n    .dataframe tbody tr th {\n        vertical-align: top;\n    }\n\n    .dataframe thead th {\n        text-align: right;\n    }\n</style>\n<table border=\"1\" class=\"dataframe\">\n  <thead>\n    <tr style=\"text-align: right;\">\n      <th></th>\n      <th>salary_from</th>\n      <th>salary_currency</th>\n    </tr>\n  </thead>\n  <tbody>\n    <tr>\n      <th>7</th>\n      <td>250000.0</td>\n      <td>RUR</td>\n    </tr>\n    <tr>\n      <th>27</th>\n      <td>70000.0</td>\n      <td>RUR</td>\n    </tr>\n    <tr>\n      <th>29</th>\n      <td>80000.0</td>\n      <td>RUR</td>\n    </tr>\n    <tr>\n      <th>31</th>\n      <td>120000.0</td>\n      <td>RUR</td>\n    </tr>\n    <tr>\n      <th>36</th>\n      <td>200000.0</td>\n      <td>RUR</td>\n    </tr>\n    <tr>\n      <th>...</th>\n      <td>...</td>\n      <td>...</td>\n    </tr>\n    <tr>\n      <th>954</th>\n      <td>50000.0</td>\n      <td>RUR</td>\n    </tr>\n    <tr>\n      <th>964</th>\n      <td>250000.0</td>\n      <td>RUR</td>\n    </tr>\n    <tr>\n      <th>965</th>\n      <td>250000.0</td>\n      <td>RUR</td>\n    </tr>\n    <tr>\n      <th>966</th>\n      <td>250000.0</td>\n      <td>RUR</td>\n    </tr>\n    <tr>\n      <th>980</th>\n      <td>200000.0</td>\n      <td>RUR</td>\n    </tr>\n  </tbody>\n</table>\n<p>123 rows × 2 columns</p>\n</div>"
     },
     "execution_count": 37,
     "metadata": {},
     "output_type": "execute_result"
    }
   ],
   "source": [
    "currency = {'USD': 90, 'EUR': 99, 'RUR': 1, 'KZT': 0.20, 'BYR': 28, 'UZS': 0.0072, 'KGS': 1.1, 'UAH': 2.4}\n",
    "\n",
    "df20_sal_from['salary_from'] = df20_sal_from['salary_from'] * df20_sal_from['salary_currency'].map(currency)\n",
    "df24_sal_from['salary_from'] = df24_sal_from['salary_from'] * df24_sal_from['salary_currency'].map(currency)\n",
    "df20_sal_to['salary_to'] = df20_sal_to['salary_to'] * df20_sal_to['salary_currency'].map(currency)\n",
    "df24_sal_to['salary_to'] = df24_sal_to['salary_to'] * df24_sal_to['salary_currency'].map(currency)\n",
    "\n",
    "df20_sal_from"
   ],
   "metadata": {
    "collapsed": false,
    "ExecuteTime": {
     "end_time": "2024-03-08T19:15:43.433352500Z",
     "start_time": "2024-03-08T19:15:43.422571300Z"
    }
   },
   "id": "89bde7331eead337",
   "execution_count": 37
  },
  {
   "cell_type": "code",
   "outputs": [],
   "source": [
    "# rename salary_currency to initial_currency\n",
    "df20_sal_from = df20_sal_from.rename(columns={'salary_currency': 'initial_currency'})\n",
    "df24_sal_from = df24_sal_from.rename(columns={'salary_currency': 'initial_currency'})\n",
    "df20_sal_to = df20_sal_to.rename(columns={'salary_currency': 'initial_currency'})\n",
    "df24_sal_to = df24_sal_to.rename(columns={'salary_currency': 'initial_currency'})\n"
   ],
   "metadata": {
    "collapsed": false,
    "ExecuteTime": {
     "end_time": "2024-03-08T19:20:50.296185500Z",
     "start_time": "2024-03-08T19:20:50.280282200Z"
    }
   },
   "id": "1c790400866265b0",
   "execution_count": 38
  },
  {
   "cell_type": "code",
   "outputs": [],
   "source": [
    "# take inflation into account"
   ],
   "metadata": {
    "collapsed": false
   },
   "id": "e4d39b56821ad7bb"
  },
  {
   "cell_type": "code",
   "outputs": [
    {
     "name": "stdout",
     "output_type": "stream",
     "text": [
      "Salary from\n",
      "KstestResult(statistic=0.2504791301014747, pvalue=1.0757924243131902e-05, statistic_location=108000.0, statistic_sign=-1)\n",
      "p-value:  0.0\n",
      "-----------------\n",
      "Salary to\n",
      "KstestResult(statistic=0.1890909090909091, pvalue=0.010864886019759407, statistic_location=115749.0, statistic_sign=-1)\n",
      "p-value:  0.01\n"
     ]
    }
   ],
   "source": [
    "# apply Kolmogorov-Smirnov test\n",
    "from scipy.stats import kstest\n",
    "\n",
    "test11 = kstest(df20_sal_from['salary_from'], df24_sal_from['salary_from'])\n",
    "print(\"Salary from\")\n",
    "print(test11)\n",
    "print(\"p-value: \", round(test11[1], 2))\n",
    "\n",
    "test12 = kstest(df20_sal_to['salary_to'], df24_sal_to['salary_to'])\n",
    "print(\"-----------------\")\n",
    "print(\"Salary to\")\n",
    "print(test12)\n",
    "print(\"p-value: \", round(test12[1], 2))"
   ],
   "metadata": {
    "collapsed": false,
    "ExecuteTime": {
     "end_time": "2024-03-08T19:34:49.182094900Z",
     "start_time": "2024-03-08T19:34:49.161086900Z"
    }
   },
   "id": "c62a34bd03073229",
   "execution_count": 51
  },
  {
   "cell_type": "code",
   "outputs": [
    {
     "name": "stdout",
     "output_type": "stream",
     "text": [
      "Salary from\n",
      "MannwhitneyuResult(statistic=31456.5, pvalue=5.977789300043224e-06)\n",
      "p-value:  0.0\n",
      "-----------------\n",
      "Salary to\n",
      "MannwhitneyuResult(statistic=14756.0, pvalue=0.05940895151842366)\n",
      "p-value:  0.06\n"
     ]
    }
   ],
   "source": [
    "# apply Mann-Whitney U test\n",
    "from scipy.stats import mannwhitneyu\n",
    "\n",
    "test21 = mannwhitneyu(df20_sal_from['salary_from'], df24_sal_from['salary_from'])\n",
    "print(\"Salary from\")\n",
    "print(test21)\n",
    "print(\"p-value: \", round(test21[1], 2))\n",
    "\n",
    "test22 = mannwhitneyu(df20_sal_to['salary_to'], df24_sal_to['salary_to'])\n",
    "print(\"-----------------\")\n",
    "\n",
    "print(\"Salary to\")\n",
    "print(test22)\n",
    "print(\"p-value: \", round(test22[1], 2))"
   ],
   "metadata": {
    "collapsed": false,
    "ExecuteTime": {
     "end_time": "2024-03-08T19:34:51.895843100Z",
     "start_time": "2024-03-08T19:34:51.881188100Z"
    }
   },
   "id": "a7bbf89c017139f8",
   "execution_count": 52
  },
  {
   "cell_type": "code",
   "outputs": [
    {
     "name": "stdout",
     "output_type": "stream",
     "text": [
      "Salary from\n",
      "KruskalResult(statistic=20.49837099993172, pvalue=5.968202302833851e-06)\n",
      "p-value:  0.0\n",
      "-----------------\n",
      "Salary to\n",
      "KruskalResult(statistic=3.5559077623992965, pvalue=0.05933384588339243)\n",
      "p-value:  0.06\n"
     ]
    }
   ],
   "source": [
    "# apply Kruskal\n",
    "from scipy.stats import kruskal\n",
    "\n",
    "test31 = kruskal(df20_sal_from['salary_from'], df24_sal_from['salary_from'])\n",
    "print(\"Salary from\")\n",
    "print(test31)\n",
    "print(\"p-value: \", round(test31[1], 2))\n",
    "\n",
    "test32 = kruskal(df20_sal_to['salary_to'], df24_sal_to['salary_to'])\n",
    "print(\"-----------------\")\n",
    "print(\"Salary to\")\n",
    "print(test32)\n",
    "print(\"p-value: \", round(test32[1], 2))"
   ],
   "metadata": {
    "collapsed": false,
    "ExecuteTime": {
     "end_time": "2024-03-08T19:34:55.874857400Z",
     "start_time": "2024-03-08T19:34:55.824711Z"
    }
   },
   "id": "229619a4e627b255",
   "execution_count": 53
  },
  {
   "cell_type": "code",
   "outputs": [
    {
     "name": "stdout",
     "output_type": "stream",
     "text": [
      "Test                     Salary from      Salary to\n",
      "-----------------------  ---------------  ----------------\n",
      "Kolmogorov-Smirnov test  0.0 | different  0.01 | different\n",
      "Mann-Whitney U test      0.0 | different  0.06 | same\n",
      "Kruskal                  0.0 | different  0.06 | same\n"
     ]
    }
   ],
   "source": [
    "# print a summary of tests into a table\n",
    "from tabulate import tabulate\n",
    "\n",
    "table = [[\"Kolmogorov-Smirnov test\", round(test11[1], 2), round(test12[1], 2)],\n",
    "         [\"Mann-Whitney U test\", round(test21[1], 2), round(test22[1], 2)],\n",
    "         [\"Kruskal\", round(test31[1], 2), round(test32[1], 2)]]\n",
    "\n",
    "# copy the table to a new variable\n",
    "table2 = table.copy()\n",
    "\n",
    "\n",
    "for i in range(len(table)):\n",
    "    for j in range(1, 3):\n",
    "        if table[i][j] > 0.05:\n",
    "            table[i][j] = f\"{table[i][j]} | same\"\n",
    "        else:\n",
    "            table[i][j] = f\"{table[i][j]} | different\"\n",
    "            \n",
    "# concatenate the tables\n",
    "\n",
    "print(tabulate(table, headers=[\"Test\", \"Salary from\", \"Salary to\"]))\n"
   ],
   "metadata": {
    "collapsed": false,
    "ExecuteTime": {
     "end_time": "2024-03-08T19:44:57.066361600Z",
     "start_time": "2024-03-08T19:44:57.018840900Z"
    }
   },
   "id": "24a71df7f884f326",
   "execution_count": 65
  },
  {
   "cell_type": "code",
   "outputs": [
    {
     "name": "stdout",
     "output_type": "stream",
     "text": [
      "Salary from 20\n",
      "KstestResult(statistic=0.2517328395693529, pvalue=2.3473380062599044e-07, statistic_location=0.5229247006576484, statistic_sign=1)\n",
      "p-value:  0.0\n",
      "-----------------\n",
      "Salary from 24\n",
      "KstestResult(statistic=0.18303277042689026, pvalue=2.744426308159352e-12, statistic_location=-0.09507275323706416, statistic_sign=1)\n",
      "p-value:  0.0\n",
      "-----------------\n",
      "Salary to 20\n",
      "KstestResult(statistic=0.21790554277991314, pvalue=0.0001931857634590191, statistic_location=0.4883742610485491, statistic_sign=1)\n",
      "p-value:  0.0\n",
      "-----------------\n",
      "Salary to 24\n",
      "KstestResult(statistic=0.16175586276777165, pvalue=9.381818533330844e-07, statistic_location=-0.958011062872055, statistic_sign=-1)\n",
      "p-value:  0.0\n"
     ]
    }
   ],
   "source": [
    "# check for normality with ks test\n",
    "# z transformation\n",
    "from scipy.stats import zscore\n",
    "\n",
    "z_score = zscore(df20_sal_from['salary_from'])\n",
    "\n",
    "test = kstest(z_score, 'norm')\n",
    "print(\"Salary from 20\")\n",
    "print(test)\n",
    "print(\"p-value: \", round(test[1], 2))\n",
    "\n",
    "z_score = zscore(df24_sal_from['salary_from'])\n",
    "\n",
    "test = kstest(z_score, 'norm')\n",
    "print(\"-----------------\")\n",
    "print(\"Salary from 24\")\n",
    "print(test)\n",
    "print(\"p-value: \", round(test[1], 2))\n",
    "\n",
    "z_score = zscore(df20_sal_to['salary_to'])\n",
    "\n",
    "test = kstest(z_score, 'norm')\n",
    "print(\"-----------------\")\n",
    "print(\"Salary to 20\")\n",
    "print(test)\n",
    "print(\"p-value: \", round(test[1], 2))\n",
    "\n",
    "z_score = zscore(df24_sal_to['salary_to'])\n",
    "\n",
    "test = kstest(z_score, 'norm')\n",
    "print(\"-----------------\")\n",
    "print(\"Salary to 24\")\n",
    "print(test)\n",
    "print(\"p-value: \", round(test[1], 2))\n"
   ],
   "metadata": {
    "collapsed": false,
    "ExecuteTime": {
     "end_time": "2024-03-08T19:59:44.794364100Z",
     "start_time": "2024-03-08T19:59:44.759376200Z"
    }
   },
   "id": "54635ee857e597de",
   "execution_count": 101
  },
  {
   "cell_type": "code",
   "outputs": [
    {
     "data": {
      "text/plain": "<Figure size 1500x500 with 2 Axes>",
      "image/png": "[encoded data removed]"
     },
     "metadata": {},
     "output_type": "display_data"
    }
   ],
   "source": [
    "# put from and to salaries into one hist\n",
    "import matplotlib.pyplot as plt\n",
    "\n",
    "\n",
    "fig, ax = plt.subplots(1, 2, figsize=(15, 5))\n",
    "\n",
    "ax[0].hist(df20_sal_from['salary_from'], bins=50, range=(0, 800000))\n",
    "ax[0].hist(df24_sal_from['salary_from'], bins=50, range=(0, 800000), alpha=0.5, color='hotpink')\n",
    "ax[0].set_title('Salary from')\n",
    "ax[0].legend(['2020', '2024'])\n",
    "# set a grid\n",
    "ax[0].grid(True, linestyle='--', linewidth=0.5, color='black', alpha=0.7)\n",
    "# set colormap\n",
    "\n",
    "ax[1].hist(df20_sal_to['salary_to'], bins=50, range=(0, 800000))\n",
    "ax[1].hist(df24_sal_to['salary_to'], bins=50, range=(0, 800000), alpha=0.5, color='hotpink')\n",
    "ax[1].set_title('Salary to')\n",
    "ax[1].legend(['2020', '2024'])\n",
    "ax[1].grid(True, linestyle='--', linewidth=0.5, color='black', alpha=0.7)\n",
    "\n",
    "\n",
    "plt.show()"
   ],
   "metadata": {
    "collapsed": false,
    "ExecuteTime": {
     "end_time": "2024-03-08T20:04:35.048991Z",
     "start_time": "2024-03-08T20:04:34.354570100Z"
    }
   },
   "id": "bc0dadacd377749a",
   "execution_count": 114
  },
  {
   "cell_type": "code",
   "outputs": [
    {
     "data": {
      "text/plain": "          salary_to\ncount  9.500000e+01\nmean   2.363937e+05\nstd    2.544402e+05\nmin    3.500000e+04\n25%    1.300000e+05\n50%    1.700000e+05\n75%    3.307500e+05\nmax    2.400000e+06",
      "text/html": "<div>\n<style scoped>\n    .dataframe tbody tr th:only-of-type {\n        vertical-align: middle;\n    }\n\n    .dataframe tbody tr th {\n        vertical-align: top;\n    }\n\n    .dataframe thead th {\n        text-align: right;\n    }\n</style>\n<table border=\"1\" class=\"dataframe\">\n  <thead>\n    <tr style=\"text-align: right;\">\n      <th></th>\n      <th>salary_to</th>\n    </tr>\n  </thead>\n  <tbody>\n    <tr>\n      <th>count</th>\n      <td>9.500000e+01</td>\n    </tr>\n    <tr>\n      <th>mean</th>\n      <td>2.363937e+05</td>\n    </tr>\n    <tr>\n      <th>std</th>\n      <td>2.544402e+05</td>\n    </tr>\n    <tr>\n      <th>min</th>\n      <td>3.500000e+04</td>\n    </tr>\n    <tr>\n      <th>25%</th>\n      <td>1.300000e+05</td>\n    </tr>\n    <tr>\n      <th>50%</th>\n      <td>1.700000e+05</td>\n    </tr>\n    <tr>\n      <th>75%</th>\n      <td>3.307500e+05</td>\n    </tr>\n    <tr>\n      <th>max</th>\n      <td>2.400000e+06</td>\n    </tr>\n  </tbody>\n</table>\n</div>"
     },
     "execution_count": 116,
     "metadata": {},
     "output_type": "execute_result"
    }
   ],
   "source": [
    "# describe salary_from and salary_to\n",
    "df20_sal_to.describe()"
   ],
   "metadata": {
    "collapsed": false,
    "ExecuteTime": {
     "end_time": "2024-03-08T20:07:45.083937700Z",
     "start_time": "2024-03-08T20:07:45.051138600Z"
    }
   },
   "id": "7ab2940d9706dfaa",
   "execution_count": 116
  },
  {
   "cell_type": "code",
   "outputs": [
    {
     "data": {
      "text/plain": "          salary_to\ncount  2.750000e+02\nmean   2.072203e+05\nstd    1.905536e+05\nmin    1.000000e+04\n25%    8.500000e+04\n50%    1.500000e+05\n75%    2.950000e+05\nmax    2.250000e+06",
      "text/html": "<div>\n<style scoped>\n    .dataframe tbody tr th:only-of-type {\n        vertical-align: middle;\n    }\n\n    .dataframe tbody tr th {\n        vertical-align: top;\n    }\n\n    .dataframe thead th {\n        text-align: right;\n    }\n</style>\n<table border=\"1\" class=\"dataframe\">\n  <thead>\n    <tr style=\"text-align: right;\">\n      <th></th>\n      <th>salary_to</th>\n    </tr>\n  </thead>\n  <tbody>\n    <tr>\n      <th>count</th>\n      <td>2.750000e+02</td>\n    </tr>\n    <tr>\n      <th>mean</th>\n      <td>2.072203e+05</td>\n    </tr>\n    <tr>\n      <th>std</th>\n      <td>1.905536e+05</td>\n    </tr>\n    <tr>\n      <th>min</th>\n      <td>1.000000e+04</td>\n    </tr>\n    <tr>\n      <th>25%</th>\n      <td>8.500000e+04</td>\n    </tr>\n    <tr>\n      <th>50%</th>\n      <td>1.500000e+05</td>\n    </tr>\n    <tr>\n      <th>75%</th>\n      <td>2.950000e+05</td>\n    </tr>\n    <tr>\n      <th>max</th>\n      <td>2.250000e+06</td>\n    </tr>\n  </tbody>\n</table>\n</div>"
     },
     "execution_count": 117,
     "metadata": {},
     "output_type": "execute_result"
    }
   ],
   "source": [
    "df24_sal_to.describe()"
   ],
   "metadata": {
    "collapsed": false,
    "ExecuteTime": {
     "end_time": "2024-03-08T20:07:48.056519900Z",
     "start_time": "2024-03-08T20:07:48.019700700Z"
    }
   },
   "id": "b6bf66e356315cea",
   "execution_count": 117
  },
  {
   "cell_type": "markdown",
   "source": [
    "## 2. Salary differences between countries\n",
    "Difference in salary between countries"
   ],
   "metadata": {
    "collapsed": false
   },
   "id": "6e2d41b1b0a1d219"
  },
  {
   "cell_type": "markdown",
   "source": [
    "## 3. Junior positions and Internships vs. others\n",
    "What terms and offers of employment are suggested for Junior developers and Interns nowadays and how does they differ from higher level positions?"
   ],
   "metadata": {
    "collapsed": false
   },
   "id": "d2b756cafc342ea7"
  },
  {
   "cell_type": "markdown",
   "source": [
    "## 4. Requirements\n",
    "\n",
    "What skills are most in demand for Data Science and Machine Learning roles nowadays?"
   ],
   "metadata": {
    "collapsed": false
   },
   "id": "6340874dc386e8a0"
  },
  {
   "cell_type": "markdown",
   "source": [
    "What level of education is required for Data Science jobs and how does it correlate with proposed salaries?"
   ],
   "metadata": {
    "collapsed": false
   },
   "id": "f2a98c3dead4d682"
  },
  {
   "cell_type": "code",
   "outputs": [],
   "source": [],
   "metadata": {
    "collapsed": false,
    "ExecuteTime": {
     "end_time": "2024-03-03T23:35:25.149808400Z",
     "start_time": "2024-03-03T23:35:25.067525300Z"
    }
   },
   "id": "34678d5dc06bd6a4",
   "execution_count": 15
  }
 ],
 "metadata": {
  "kernelspec": {
   "display_name": "Python 3",
   "language": "python",
   "name": "python3"
  },
  "language_info": {
   "codemirror_mode": {
    "name": "ipython",
    "version": 2
   },
   "file_extension": ".py",
   "mimetype": "text/x-python",
   "name": "python",
   "nbconvert_exporter": "python",
   "pygments_lexer": "ipython2",
   "version": "2.7.6"
  }
 },
 "nbformat": 4,
 "nbformat_minor": 5
}
