{
 "cells": [
  {
   "cell_type": "code",
   "execution_count": 2,
   "id": "initial_id",
   "metadata": {
    "collapsed": true,
    "ExecuteTime": {
     "end_time": "2024-02-29T19:11:27.418295300Z",
     "start_time": "2024-02-29T19:10:33.152672600Z"
    }
   },
   "outputs": [
    {
     "data": {
      "text/plain": "         id                                        description  \\\n0  30711158  <p><strong>О Компании</strong></p> <p>Мы помог...   \n1  30711538  <p><strong>Vigrom</strong> сегодня – междунаро...   \n2  30713109  <p>Каждый день миллионы пользователей находят ...   \n3  30714567  <p><strong>В твоих руках - отличная возможност...   \n4  30716168  <p><strong>Компания «Северсталь-Инфоком» - цен...   \n\n                                          key_skills schedule_id  \\\n0                                                NaN     fullDay   \n1  PHP\\nSQL\\nООП\\nPostgreSQL\\nMemcached\\nSymfony\\...     fullDay   \n2                                                NaN      remote   \n3                                                NaN     fullDay   \n4  Bash\\nPowerShell\\nC++\\nC#\\nJava\\nPerl\\nPython\\...     fullDay   \n\n      schedule_name  accept_handicapped  accept_kids experience_id  \\\n0       Полный день               False        False  between1And3   \n1       Полный день               False        False  between1And3   \n2  Удаленная работа                True        False  noExperience   \n3       Полный день               False        False  noExperience   \n4       Полный день               False        False  between1And3   \n\n      experience_name                                    specializations  ...  \\\n0  От 1 года до 3 лет  1.117 Тестирование 1 Информационные технологии...  ...   \n1  От 1 года до 3 лет  1.221 Программирование, Разработка 1 Информаци...  ...   \n2           Нет опыта  4.278 Сотрудник call-центра 4 Административный...  ...   \n3           Нет опыта  17.269 Телекоммуникации, Сетевые решения 17 Пр...  ...   \n4  От 1 года до 3 лет  1.221 Программирование, Разработка 1 Информаци...  ...   \n\n  address_lng                   alternate_url  \\\n0   82.930086  https://hh.ru/vacancy/30711158   \n1   45.005847  https://hh.ru/vacancy/30711538   \n2         NaN  https://hh.ru/vacancy/30713109   \n3   61.401188  https://hh.ru/vacancy/30714567   \n4   37.877356  https://hh.ru/vacancy/30716168   \n\n                                 apply_alternate_url  code      department_id  \\\n0  https://hh.ru/applicant/vacancy_response?vacan...   NaN                NaN   \n1  https://hh.ru/applicant/vacancy_response?vacan...   NaN                NaN   \n2  https://hh.ru/applicant/vacancy_response?vacan...   NaN                NaN   \n3  https://hh.ru/applicant/vacancy_response?vacan...   NaN                NaN   \n4  https://hh.ru/applicant/vacancy_response?vacan...   NaN  severstal-6041-it   \n\n           department_name  employment_id      employment_name  \\\n0                      NaN           full     Полная занятость   \n1                      NaN           full     Полная занятость   \n2                      NaN           part  Частичная занятость   \n3                      NaN           full     Полная занятость   \n4  Северсталь. ИТ Компания           full     Полная занятость   \n\n  prof_classes_found                                        terms_found  \n0             tester  jmeter спринт тестировщик continuous_integrati...  \n1         programmer  современный_офис memcache team phpunit php арх...  \n2           operator                     яндекс windows_7 гибкий_график  \n3          prodajnik  медицинская_страховка официальное_трудоустройс...  \n4         consultant  bash team c# perl английский_язык тестирование...  \n\n[5 rows x 56 columns]",
      "text/html": "<div>\n<style scoped>\n    .dataframe tbody tr th:only-of-type {\n        vertical-align: middle;\n    }\n\n    .dataframe tbody tr th {\n        vertical-align: top;\n    }\n\n    .dataframe thead th {\n        text-align: right;\n    }\n</style>\n<table border=\"1\" class=\"dataframe\">\n  <thead>\n    <tr style=\"text-align: right;\">\n      <th></th>\n      <th>id</th>\n      <th>description</th>\n      <th>key_skills</th>\n      <th>schedule_id</th>\n      <th>schedule_name</th>\n      <th>accept_handicapped</th>\n      <th>accept_kids</th>\n      <th>experience_id</th>\n      <th>experience_name</th>\n      <th>specializations</th>\n      <th>...</th>\n      <th>address_lng</th>\n      <th>alternate_url</th>\n      <th>apply_alternate_url</th>\n      <th>code</th>\n      <th>department_id</th>\n      <th>department_name</th>\n      <th>employment_id</th>\n      <th>employment_name</th>\n      <th>prof_classes_found</th>\n      <th>terms_found</th>\n    </tr>\n  </thead>\n  <tbody>\n    <tr>\n      <th>0</th>\n      <td>30711158</td>\n      <td>&lt;p&gt;&lt;strong&gt;О Компании&lt;/strong&gt;&lt;/p&gt; &lt;p&gt;Мы помог...</td>\n      <td>NaN</td>\n      <td>fullDay</td>\n      <td>Полный день</td>\n      <td>False</td>\n      <td>False</td>\n      <td>between1And3</td>\n      <td>От 1 года до 3 лет</td>\n      <td>1.117 Тестирование 1 Информационные технологии...</td>\n      <td>...</td>\n      <td>82.930086</td>\n      <td>https://hh.ru/vacancy/30711158</td>\n      <td>https://hh.ru/applicant/vacancy_response?vacan...</td>\n      <td>NaN</td>\n      <td>NaN</td>\n      <td>NaN</td>\n      <td>full</td>\n      <td>Полная занятость</td>\n      <td>tester</td>\n      <td>jmeter спринт тестировщик continuous_integrati...</td>\n    </tr>\n    <tr>\n      <th>1</th>\n      <td>30711538</td>\n      <td>&lt;p&gt;&lt;strong&gt;Vigrom&lt;/strong&gt; сегодня – междунаро...</td>\n      <td>PHP\\nSQL\\nООП\\nPostgreSQL\\nMemcached\\nSymfony\\...</td>\n      <td>fullDay</td>\n      <td>Полный день</td>\n      <td>False</td>\n      <td>False</td>\n      <td>between1And3</td>\n      <td>От 1 года до 3 лет</td>\n      <td>1.221 Программирование, Разработка 1 Информаци...</td>\n      <td>...</td>\n      <td>45.005847</td>\n      <td>https://hh.ru/vacancy/30711538</td>\n      <td>https://hh.ru/applicant/vacancy_response?vacan...</td>\n      <td>NaN</td>\n      <td>NaN</td>\n      <td>NaN</td>\n      <td>full</td>\n      <td>Полная занятость</td>\n      <td>programmer</td>\n      <td>современный_офис memcache team phpunit php арх...</td>\n    </tr>\n    <tr>\n      <th>2</th>\n      <td>30713109</td>\n      <td>&lt;p&gt;Каждый день миллионы пользователей находят ...</td>\n      <td>NaN</td>\n      <td>remote</td>\n      <td>Удаленная работа</td>\n      <td>True</td>\n      <td>False</td>\n      <td>noExperience</td>\n      <td>Нет опыта</td>\n      <td>4.278 Сотрудник call-центра 4 Административный...</td>\n      <td>...</td>\n      <td>NaN</td>\n      <td>https://hh.ru/vacancy/30713109</td>\n      <td>https://hh.ru/applicant/vacancy_response?vacan...</td>\n      <td>NaN</td>\n      <td>NaN</td>\n      <td>NaN</td>\n      <td>part</td>\n      <td>Частичная занятость</td>\n      <td>operator</td>\n      <td>яндекс windows_7 гибкий_график</td>\n    </tr>\n    <tr>\n      <th>3</th>\n      <td>30714567</td>\n      <td>&lt;p&gt;&lt;strong&gt;В твоих руках - отличная возможност...</td>\n      <td>NaN</td>\n      <td>fullDay</td>\n      <td>Полный день</td>\n      <td>False</td>\n      <td>False</td>\n      <td>noExperience</td>\n      <td>Нет опыта</td>\n      <td>17.269 Телекоммуникации, Сетевые решения 17 Пр...</td>\n      <td>...</td>\n      <td>61.401188</td>\n      <td>https://hh.ru/vacancy/30714567</td>\n      <td>https://hh.ru/applicant/vacancy_response?vacan...</td>\n      <td>NaN</td>\n      <td>NaN</td>\n      <td>NaN</td>\n      <td>full</td>\n      <td>Полная занятость</td>\n      <td>prodajnik</td>\n      <td>медицинская_страховка официальное_трудоустройс...</td>\n    </tr>\n    <tr>\n      <th>4</th>\n      <td>30716168</td>\n      <td>&lt;p&gt;&lt;strong&gt;Компания «Северсталь-Инфоком» - цен...</td>\n      <td>Bash\\nPowerShell\\nC++\\nC#\\nJava\\nPerl\\nPython\\...</td>\n      <td>fullDay</td>\n      <td>Полный день</td>\n      <td>False</td>\n      <td>False</td>\n      <td>between1And3</td>\n      <td>От 1 года до 3 лет</td>\n      <td>1.221 Программирование, Разработка 1 Информаци...</td>\n      <td>...</td>\n      <td>37.877356</td>\n      <td>https://hh.ru/vacancy/30716168</td>\n      <td>https://hh.ru/applicant/vacancy_response?vacan...</td>\n      <td>NaN</td>\n      <td>severstal-6041-it</td>\n      <td>Северсталь. ИТ Компания</td>\n      <td>full</td>\n      <td>Полная занятость</td>\n      <td>consultant</td>\n      <td>bash team c# perl английский_язык тестирование...</td>\n    </tr>\n  </tbody>\n</table>\n<p>5 rows × 56 columns</p>\n</div>"
     },
     "execution_count": 2,
     "metadata": {},
     "output_type": "execute_result"
    }
   ],
   "source": [
    "import pandas as pd\n",
    "\n",
    "# data from previous year(s), to be cleaned and preprocessed\n",
    "# how to process faster?\n",
    "df = pd.read_csv('data/vacancies_2020.csv')\n",
    "df.head()"
   ]
  },
  {
   "cell_type": "code",
   "outputs": [
    {
     "name": "stdout",
     "output_type": "stream",
     "text": [
      "<class 'pandas.core.frame.DataFrame'>\n",
      "RangeIndex: 587637 entries, 0 to 587636\n",
      "Data columns (total 56 columns):\n",
      " #   Column                     Non-Null Count   Dtype  \n",
      "---  ------                     --------------   -----  \n",
      " 0   id                         587637 non-null  int64  \n",
      " 1   description                587637 non-null  object \n",
      " 2   key_skills                 431738 non-null  object \n",
      " 3   schedule_id                587637 non-null  object \n",
      " 4   schedule_name              587637 non-null  object \n",
      " 5   accept_handicapped         587637 non-null  bool   \n",
      " 6   accept_kids                587637 non-null  bool   \n",
      " 7   experience_id              587637 non-null  object \n",
      " 8   experience_name            587637 non-null  object \n",
      " 9   specializations            587637 non-null  object \n",
      " 10  contacts                   12130 non-null   object \n",
      " 11  billing_type_id            587637 non-null  object \n",
      " 12  billing_type_name          587637 non-null  object \n",
      " 13  allow_messages             587637 non-null  bool   \n",
      " 14  premium                    587637 non-null  bool   \n",
      " 15  driver_license_types       1749 non-null    object \n",
      " 16  accept_incomplete_resumes  587637 non-null  bool   \n",
      " 17  employer_id                586477 non-null  float64\n",
      " 18  employer_name              587637 non-null  object \n",
      " 19  employer_vacancies_url     586477 non-null  object \n",
      " 20  employer_trusted           586477 non-null  object \n",
      " 21  employer_alternate_url     586477 non-null  object \n",
      " 22  employer_industries        473202 non-null  object \n",
      " 23  response_letter_required   587637 non-null  bool   \n",
      " 24  type_id                    587637 non-null  object \n",
      " 25  type_name                  587637 non-null  object \n",
      " 26  has_test                   587637 non-null  bool   \n",
      " 27  response_url               757 non-null     object \n",
      " 28  test_required              2948 non-null    object \n",
      " 29  salary_from                258741 non-null  float64\n",
      " 30  salary_to                  164509 non-null  float64\n",
      " 31  salary_gross               284072 non-null  object \n",
      " 32  salary_currency            285014 non-null  object \n",
      " 33  archived                   587637 non-null  bool   \n",
      " 34  name                       587637 non-null  object \n",
      " 35  insider_interview          6570 non-null    object \n",
      " 36  area_id                    587637 non-null  int64  \n",
      " 37  area_name                  587637 non-null  object \n",
      " 38  area_url                   587637 non-null  object \n",
      " 39  created_at                 587637 non-null  object \n",
      " 40  published_at               587637 non-null  object \n",
      " 41  address_city               276688 non-null  object \n",
      " 42  address_street             271467 non-null  object \n",
      " 43  address_building           262952 non-null  object \n",
      " 44  address_description        0 non-null       float64\n",
      " 45  address_lat                278728 non-null  float64\n",
      " 46  address_lng                278728 non-null  float64\n",
      " 47  alternate_url              587637 non-null  object \n",
      " 48  apply_alternate_url        587637 non-null  object \n",
      " 49  code                       6673 non-null    object \n",
      " 50  department_id              39413 non-null   object \n",
      " 51  department_name            39413 non-null   object \n",
      " 52  employment_id              587637 non-null  object \n",
      " 53  employment_name            587637 non-null  object \n",
      " 54  prof_classes_found         576794 non-null  object \n",
      " 55  terms_found                583826 non-null  object \n",
      "dtypes: bool(8), float64(6), int64(2), object(40)\n",
      "memory usage: 219.7+ MB\n"
     ]
    }
   ],
   "source": [
    "df.info()"
   ],
   "metadata": {
    "collapsed": false,
    "ExecuteTime": {
     "end_time": "2024-02-29T19:16:35.240936900Z",
     "start_time": "2024-02-29T19:16:31.337672100Z"
    }
   },
   "id": "57ad5ff6210aca90",
   "execution_count": 3
  },
  {
   "cell_type": "code",
   "outputs": [],
   "source": [
    "# TODO: fresh dataset\n"
   ],
   "metadata": {
    "collapsed": false
   },
   "id": "80b84aa96237883f"
  }
 ],
 "metadata": {
  "kernelspec": {
   "display_name": "Python 3",
   "language": "python",
   "name": "python3"
  },
  "language_info": {
   "codemirror_mode": {
    "name": "ipython",
    "version": 2
   },
   "file_extension": ".py",
   "mimetype": "text/x-python",
   "name": "python",
   "nbconvert_exporter": "python",
   "pygments_lexer": "ipython2",
   "version": "2.7.6"
  }
 },
 "nbformat": 4,
 "nbformat_minor": 5
}
