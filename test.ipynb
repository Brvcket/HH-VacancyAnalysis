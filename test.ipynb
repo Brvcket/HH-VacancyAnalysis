{
 "cells": [
  {
   "cell_type": "code",
   "execution_count": 4,
   "id": "initial_id",
   "metadata": {
    "collapsed": true,
    "ExecuteTime": {
     "end_time": "2024-02-29T21:11:55.329395500Z",
     "start_time": "2024-02-29T21:10:59.535451900Z"
    }
   },
   "outputs": [
    {
     "data": {
      "text/plain": "         id                                        description  \\\n0  30711158  <p><strong>О Компании</strong></p> <p>Мы помог...   \n1  30711538  <p><strong>Vigrom</strong> сегодня – междунаро...   \n2  30713109  <p>Каждый день миллионы пользователей находят ...   \n3  30714567  <p><strong>В твоих руках - отличная возможност...   \n4  30716168  <p><strong>Компания «Северсталь-Инфоком» - цен...   \n5  12768204  <p><strong>Что придется делать:</strong></p> <...   \n6  31362372  <p><strong>Ищем Java разработчика, Senior/Expe...   \n7  31363536  <p>Программист 1С (участие в проекте)</p> <p><...   \n8  31364469  <p>IntelliJ IDEA appeared on the market for Ja...   \n9  31364508  <p><strong>Инженер по эксплуатации и планирова...   \n\n                                          key_skills schedule_id  \\\n0                                                NaN     fullDay   \n1  PHP\\nSQL\\nООП\\nPostgreSQL\\nMemcached\\nSymfony\\...     fullDay   \n2                                                NaN      remote   \n3                                                NaN     fullDay   \n4  Bash\\nPowerShell\\nC++\\nC#\\nJava\\nPerl\\nPython\\...     fullDay   \n5                                                NaN     fullDay   \n6  Java\\nSpring Framework\\nArchitecture\\nAmazon\\n...     fullDay   \n7                                                NaN     fullDay   \n8                                                NaN     fullDay   \n9                                                NaN     fullDay   \n\n      schedule_name  accept_handicapped  accept_kids experience_id  \\\n0       Полный день               False        False  between1And3   \n1       Полный день               False        False  between1And3   \n2  Удаленная работа                True        False  noExperience   \n3       Полный день               False        False  noExperience   \n4       Полный день               False        False  between1And3   \n5       Полный день               False        False  between1And3   \n6       Полный день               False        False     moreThan6   \n7       Полный день               False        False  noExperience   \n8       Полный день               False        False  between3And6   \n9       Полный день               False        False  between1And3   \n\n      experience_name                                    specializations  ...  \\\n0  От 1 года до 3 лет  1.117 Тестирование 1 Информационные технологии...  ...   \n1  От 1 года до 3 лет  1.221 Программирование, Разработка 1 Информаци...  ...   \n2           Нет опыта  4.278 Сотрудник call-центра 4 Административный...  ...   \n3           Нет опыта  17.269 Телекоммуникации, Сетевые решения 17 Пр...  ...   \n4  От 1 года до 3 лет  1.221 Программирование, Разработка 1 Информаци...  ...   \n5  От 1 года до 3 лет  1.221 Программирование, Разработка 1 Информаци...  ...   \n6         Более 6 лет  1.221 Программирование, Разработка 1 Информаци...  ...   \n7           Нет опыта  1.221 Программирование, Разработка 1 Информаци...  ...   \n8       От 3 до 6 лет  1.221 Программирование, Разработка 1 Информаци...  ...   \n9  От 1 года до 3 лет  1.82 Инженер 1 Информационные технологии, инте...  ...   \n\n  address_lng                   alternate_url  \\\n0   82.930086  https://hh.ru/vacancy/30711158   \n1   45.005847  https://hh.ru/vacancy/30711538   \n2         NaN  https://hh.ru/vacancy/30713109   \n3   61.401188  https://hh.ru/vacancy/30714567   \n4   37.877356  https://hh.ru/vacancy/30716168   \n5   37.504789  https://hh.ru/vacancy/12768204   \n6   37.623645  https://hh.ru/vacancy/31362372   \n7         NaN  https://hh.ru/vacancy/31363536   \n8         NaN  https://hh.ru/vacancy/31364469   \n9         NaN  https://hh.ru/vacancy/31364508   \n\n                                 apply_alternate_url  code      department_id  \\\n0  https://hh.ru/applicant/vacancy_response?vacan...   NaN                NaN   \n1  https://hh.ru/applicant/vacancy_response?vacan...   NaN                NaN   \n2  https://hh.ru/applicant/vacancy_response?vacan...   NaN                NaN   \n3  https://hh.ru/applicant/vacancy_response?vacan...   NaN                NaN   \n4  https://hh.ru/applicant/vacancy_response?vacan...   NaN  severstal-6041-it   \n5  https://hh.ru/applicant/vacancy_response?vacan...   NaN                NaN   \n6  https://hh.ru/applicant/vacancy_response?vacan...   NaN                NaN   \n7  https://hh.ru/applicant/vacancy_response?vacan...   NaN                NaN   \n8  https://hh.ru/applicant/vacancy_response?vacan...   NaN                NaN   \n9  https://hh.ru/applicant/vacancy_response?vacan...   NaN                NaN   \n\n           department_name  employment_id      employment_name  \\\n0                      NaN           full     Полная занятость   \n1                      NaN           full     Полная занятость   \n2                      NaN           part  Частичная занятость   \n3                      NaN           full     Полная занятость   \n4  Северсталь. ИТ Компания           full     Полная занятость   \n5                      NaN           full     Полная занятость   \n6                      NaN           full     Полная занятость   \n7                      NaN           full     Полная занятость   \n8                      NaN           full     Полная занятость   \n9                      NaN           full     Полная занятость   \n\n  prof_classes_found                                        terms_found  \n0             tester  jmeter спринт тестировщик continuous_integrati...  \n1         programmer  современный_офис memcache team phpunit php арх...  \n2           operator                     яндекс windows_7 гибкий_график  \n3          prodajnik  медицинская_страховка официальное_трудоустройс...  \n4         consultant  bash team c# perl английский_язык тестирование...  \n5            analyst  желание_развиваться высшее_образование team на...  \n6         programmer  amazon security team java_se agile servers oau...  \n7         programmer  1c комфортный_офис дружный_коллектив site опыт...  \n8         programmer  php архитектура opengl snacks unix software_en...  \n9           engineer  power_point страховка network ms_excel ms_word...  \n\n[10 rows x 56 columns]",
      "text/html": "<div>\n<style scoped>\n    .dataframe tbody tr th:only-of-type {\n        vertical-align: middle;\n    }\n\n    .dataframe tbody tr th {\n        vertical-align: top;\n    }\n\n    .dataframe thead th {\n        text-align: right;\n    }\n</style>\n<table border=\"1\" class=\"dataframe\">\n  <thead>\n    <tr style=\"text-align: right;\">\n      <th></th>\n      <th>id</th>\n      <th>description</th>\n      <th>key_skills</th>\n      <th>schedule_id</th>\n      <th>schedule_name</th>\n      <th>accept_handicapped</th>\n      <th>accept_kids</th>\n      <th>experience_id</th>\n      <th>experience_name</th>\n      <th>specializations</th>\n      <th>...</th>\n      <th>address_lng</th>\n      <th>alternate_url</th>\n      <th>apply_alternate_url</th>\n      <th>code</th>\n      <th>department_id</th>\n      <th>department_name</th>\n      <th>employment_id</th>\n      <th>employment_name</th>\n      <th>prof_classes_found</th>\n      <th>terms_found</th>\n    </tr>\n  </thead>\n  <tbody>\n    <tr>\n      <th>0</th>\n      <td>30711158</td>\n      <td>&lt;p&gt;&lt;strong&gt;О Компании&lt;/strong&gt;&lt;/p&gt; &lt;p&gt;Мы помог...</td>\n      <td>NaN</td>\n      <td>fullDay</td>\n      <td>Полный день</td>\n      <td>False</td>\n      <td>False</td>\n      <td>between1And3</td>\n      <td>От 1 года до 3 лет</td>\n      <td>1.117 Тестирование 1 Информационные технологии...</td>\n      <td>...</td>\n      <td>82.930086</td>\n      <td>https://hh.ru/vacancy/30711158</td>\n      <td>https://hh.ru/applicant/vacancy_response?vacan...</td>\n      <td>NaN</td>\n      <td>NaN</td>\n      <td>NaN</td>\n      <td>full</td>\n      <td>Полная занятость</td>\n      <td>tester</td>\n      <td>jmeter спринт тестировщик continuous_integrati...</td>\n    </tr>\n    <tr>\n      <th>1</th>\n      <td>30711538</td>\n      <td>&lt;p&gt;&lt;strong&gt;Vigrom&lt;/strong&gt; сегодня – междунаро...</td>\n      <td>PHP\\nSQL\\nООП\\nPostgreSQL\\nMemcached\\nSymfony\\...</td>\n      <td>fullDay</td>\n      <td>Полный день</td>\n      <td>False</td>\n      <td>False</td>\n      <td>between1And3</td>\n      <td>От 1 года до 3 лет</td>\n      <td>1.221 Программирование, Разработка 1 Информаци...</td>\n      <td>...</td>\n      <td>45.005847</td>\n      <td>https://hh.ru/vacancy/30711538</td>\n      <td>https://hh.ru/applicant/vacancy_response?vacan...</td>\n      <td>NaN</td>\n      <td>NaN</td>\n      <td>NaN</td>\n      <td>full</td>\n      <td>Полная занятость</td>\n      <td>programmer</td>\n      <td>современный_офис memcache team phpunit php арх...</td>\n    </tr>\n    <tr>\n      <th>2</th>\n      <td>30713109</td>\n      <td>&lt;p&gt;Каждый день миллионы пользователей находят ...</td>\n      <td>NaN</td>\n      <td>remote</td>\n      <td>Удаленная работа</td>\n      <td>True</td>\n      <td>False</td>\n      <td>noExperience</td>\n      <td>Нет опыта</td>\n      <td>4.278 Сотрудник call-центра 4 Административный...</td>\n      <td>...</td>\n      <td>NaN</td>\n      <td>https://hh.ru/vacancy/30713109</td>\n      <td>https://hh.ru/applicant/vacancy_response?vacan...</td>\n      <td>NaN</td>\n      <td>NaN</td>\n      <td>NaN</td>\n      <td>part</td>\n      <td>Частичная занятость</td>\n      <td>operator</td>\n      <td>яндекс windows_7 гибкий_график</td>\n    </tr>\n    <tr>\n      <th>3</th>\n      <td>30714567</td>\n      <td>&lt;p&gt;&lt;strong&gt;В твоих руках - отличная возможност...</td>\n      <td>NaN</td>\n      <td>fullDay</td>\n      <td>Полный день</td>\n      <td>False</td>\n      <td>False</td>\n      <td>noExperience</td>\n      <td>Нет опыта</td>\n      <td>17.269 Телекоммуникации, Сетевые решения 17 Пр...</td>\n      <td>...</td>\n      <td>61.401188</td>\n      <td>https://hh.ru/vacancy/30714567</td>\n      <td>https://hh.ru/applicant/vacancy_response?vacan...</td>\n      <td>NaN</td>\n      <td>NaN</td>\n      <td>NaN</td>\n      <td>full</td>\n      <td>Полная занятость</td>\n      <td>prodajnik</td>\n      <td>медицинская_страховка официальное_трудоустройс...</td>\n    </tr>\n    <tr>\n      <th>4</th>\n      <td>30716168</td>\n      <td>&lt;p&gt;&lt;strong&gt;Компания «Северсталь-Инфоком» - цен...</td>\n      <td>Bash\\nPowerShell\\nC++\\nC#\\nJava\\nPerl\\nPython\\...</td>\n      <td>fullDay</td>\n      <td>Полный день</td>\n      <td>False</td>\n      <td>False</td>\n      <td>between1And3</td>\n      <td>От 1 года до 3 лет</td>\n      <td>1.221 Программирование, Разработка 1 Информаци...</td>\n      <td>...</td>\n      <td>37.877356</td>\n      <td>https://hh.ru/vacancy/30716168</td>\n      <td>https://hh.ru/applicant/vacancy_response?vacan...</td>\n      <td>NaN</td>\n      <td>severstal-6041-it</td>\n      <td>Северсталь. ИТ Компания</td>\n      <td>full</td>\n      <td>Полная занятость</td>\n      <td>consultant</td>\n      <td>bash team c# perl английский_язык тестирование...</td>\n    </tr>\n    <tr>\n      <th>5</th>\n      <td>12768204</td>\n      <td>&lt;p&gt;&lt;strong&gt;Что придется делать:&lt;/strong&gt;&lt;/p&gt; &lt;...</td>\n      <td>NaN</td>\n      <td>fullDay</td>\n      <td>Полный день</td>\n      <td>False</td>\n      <td>False</td>\n      <td>between1And3</td>\n      <td>От 1 года до 3 лет</td>\n      <td>1.221 Программирование, Разработка 1 Информаци...</td>\n      <td>...</td>\n      <td>37.504789</td>\n      <td>https://hh.ru/vacancy/12768204</td>\n      <td>https://hh.ru/applicant/vacancy_response?vacan...</td>\n      <td>NaN</td>\n      <td>NaN</td>\n      <td>NaN</td>\n      <td>full</td>\n      <td>Полная занятость</td>\n      <td>analyst</td>\n      <td>желание_развиваться высшее_образование team на...</td>\n    </tr>\n    <tr>\n      <th>6</th>\n      <td>31362372</td>\n      <td>&lt;p&gt;&lt;strong&gt;Ищем Java разработчика, Senior/Expe...</td>\n      <td>Java\\nSpring Framework\\nArchitecture\\nAmazon\\n...</td>\n      <td>fullDay</td>\n      <td>Полный день</td>\n      <td>False</td>\n      <td>False</td>\n      <td>moreThan6</td>\n      <td>Более 6 лет</td>\n      <td>1.221 Программирование, Разработка 1 Информаци...</td>\n      <td>...</td>\n      <td>37.623645</td>\n      <td>https://hh.ru/vacancy/31362372</td>\n      <td>https://hh.ru/applicant/vacancy_response?vacan...</td>\n      <td>NaN</td>\n      <td>NaN</td>\n      <td>NaN</td>\n      <td>full</td>\n      <td>Полная занятость</td>\n      <td>programmer</td>\n      <td>amazon security team java_se agile servers oau...</td>\n    </tr>\n    <tr>\n      <th>7</th>\n      <td>31363536</td>\n      <td>&lt;p&gt;Программист 1С (участие в проекте)&lt;/p&gt; &lt;p&gt;&lt;...</td>\n      <td>NaN</td>\n      <td>fullDay</td>\n      <td>Полный день</td>\n      <td>False</td>\n      <td>False</td>\n      <td>noExperience</td>\n      <td>Нет опыта</td>\n      <td>1.221 Программирование, Разработка 1 Информаци...</td>\n      <td>...</td>\n      <td>NaN</td>\n      <td>https://hh.ru/vacancy/31363536</td>\n      <td>https://hh.ru/applicant/vacancy_response?vacan...</td>\n      <td>NaN</td>\n      <td>NaN</td>\n      <td>NaN</td>\n      <td>full</td>\n      <td>Полная занятость</td>\n      <td>programmer</td>\n      <td>1c комфортный_офис дружный_коллектив site опыт...</td>\n    </tr>\n    <tr>\n      <th>8</th>\n      <td>31364469</td>\n      <td>&lt;p&gt;IntelliJ IDEA appeared on the market for Ja...</td>\n      <td>NaN</td>\n      <td>fullDay</td>\n      <td>Полный день</td>\n      <td>False</td>\n      <td>False</td>\n      <td>between3And6</td>\n      <td>От 3 до 6 лет</td>\n      <td>1.221 Программирование, Разработка 1 Информаци...</td>\n      <td>...</td>\n      <td>NaN</td>\n      <td>https://hh.ru/vacancy/31364469</td>\n      <td>https://hh.ru/applicant/vacancy_response?vacan...</td>\n      <td>NaN</td>\n      <td>NaN</td>\n      <td>NaN</td>\n      <td>full</td>\n      <td>Полная занятость</td>\n      <td>programmer</td>\n      <td>php архитектура opengl snacks unix software_en...</td>\n    </tr>\n    <tr>\n      <th>9</th>\n      <td>31364508</td>\n      <td>&lt;p&gt;&lt;strong&gt;Инженер по эксплуатации и планирова...</td>\n      <td>NaN</td>\n      <td>fullDay</td>\n      <td>Полный день</td>\n      <td>False</td>\n      <td>False</td>\n      <td>between1And3</td>\n      <td>От 1 года до 3 лет</td>\n      <td>1.82 Инженер 1 Информационные технологии, инте...</td>\n      <td>...</td>\n      <td>NaN</td>\n      <td>https://hh.ru/vacancy/31364508</td>\n      <td>https://hh.ru/applicant/vacancy_response?vacan...</td>\n      <td>NaN</td>\n      <td>NaN</td>\n      <td>NaN</td>\n      <td>full</td>\n      <td>Полная занятость</td>\n      <td>engineer</td>\n      <td>power_point страховка network ms_excel ms_word...</td>\n    </tr>\n  </tbody>\n</table>\n<p>10 rows × 56 columns</p>\n</div>"
     },
     "execution_count": 4,
     "metadata": {},
     "output_type": "execute_result"
    }
   ],
   "source": [
    "# TODO data from previous year(s), to be cleaned and preprocessed\n",
    "# how to process faster?\n",
    "# how to add to git with batches?\n",
    "# how to collaborate on huggingface?"
   ]
  },
  {
   "cell_type": "code",
   "outputs": [],
   "source": [],
   "metadata": {
    "collapsed": false
   },
   "id": "320afda4a62631e1"
  },
  {
   "cell_type": "code",
   "outputs": [
    {
     "name": "stdout",
     "output_type": "stream",
     "text": [
      "['default']\n"
     ]
    }
   ],
   "source": [
    "from datasets import get_dataset_config_names\n",
    "\n",
    "configs = get_dataset_config_names(\"sshk/hh-ru-vacancies-dataset\")\n",
    "print(configs)"
   ],
   "metadata": {
    "collapsed": false,
    "ExecuteTime": {
     "end_time": "2024-02-29T23:37:03.821108Z",
     "start_time": "2024-02-29T23:36:59.088899100Z"
    }
   },
   "id": "1270750932630ecb",
   "execution_count": 44
  },
  {
   "cell_type": "code",
   "outputs": [],
   "source": [
    "from datasets import load_dataset_builder\n",
    "ds_builder = load_dataset_builder(\"sshk/hh-ru-vacancies-dataset\")"
   ],
   "metadata": {
    "collapsed": false,
    "ExecuteTime": {
     "end_time": "2024-03-01T00:17:47.224711800Z",
     "start_time": "2024-03-01T00:17:41.891433500Z"
    }
   },
   "id": "1abb515105701d71",
   "execution_count": 48
  },
  {
   "cell_type": "code",
   "outputs": [
    {
     "name": "stdout",
     "output_type": "stream",
     "text": []
    }
   ],
   "source": [
    "print(ds_builder.info.description)"
   ],
   "metadata": {
    "collapsed": false,
    "ExecuteTime": {
     "end_time": "2024-03-01T00:17:57.455036800Z",
     "start_time": "2024-03-01T00:17:57.446031Z"
    }
   },
   "id": "81e7e735c8f4060a",
   "execution_count": 49
  },
  {
   "cell_type": "code",
   "outputs": [
    {
     "name": "stdout",
     "output_type": "stream",
     "text": [
      "None\n"
     ]
    }
   ],
   "source": [
    "print(ds_builder.info.features)"
   ],
   "metadata": {
    "collapsed": false,
    "ExecuteTime": {
     "end_time": "2024-03-01T00:17:59.929419900Z",
     "start_time": "2024-03-01T00:17:59.896868200Z"
    }
   },
   "id": "b388878f93e3ca5d",
   "execution_count": 50
  },
  {
   "cell_type": "code",
   "outputs": [
    {
     "data": {
      "text/plain": "Generating train split: 0 examples [00:00, ? examples/s]",
      "application/vnd.jupyter.widget-view+json": {
       "version_major": 2,
       "version_minor": 0,
       "model_id": "3665a39c5bad41c2b245ce52c7be8df8"
      }
     },
     "metadata": {},
     "output_type": "display_data"
    }
   ],
   "source": [
    "from datasets import load_dataset\n",
    "\n",
    "# If the dataset is gated/private, make sure you have run huggingface-cli login\n",
    "dataset = load_dataset(\"sshk/hh-ru-vacancies-dataset\", data_files=\"vacancies_2020.csv\")"
   ],
   "metadata": {
    "collapsed": false,
    "ExecuteTime": {
     "end_time": "2024-03-01T00:26:13.111521100Z",
     "start_time": "2024-03-01T00:24:37.487961600Z"
    }
   },
   "id": "fac2a062ced460a7",
   "execution_count": 52
  },
  {
   "cell_type": "code",
   "outputs": [
    {
     "ename": "NameError",
     "evalue": "name 'dataset' is not defined",
     "output_type": "error",
     "traceback": [
      "\u001B[1;31m---------------------------------------------------------------------------\u001B[0m",
      "\u001B[1;31mNameError\u001B[0m                                 Traceback (most recent call last)",
      "Cell \u001B[1;32mIn[38], line 1\u001B[0m\n\u001B[1;32m----> 1\u001B[0m \u001B[43mdataset\u001B[49m\u001B[38;5;241m.\u001B[39mhead()\n",
      "\u001B[1;31mNameError\u001B[0m: name 'dataset' is not defined"
     ]
    }
   ],
   "source": [
    "dataset.head()"
   ],
   "metadata": {
    "collapsed": false,
    "ExecuteTime": {
     "end_time": "2024-02-29T23:19:26.289709300Z",
     "start_time": "2024-02-29T23:19:26.244678700Z"
    }
   },
   "id": "6bc51b66fb92afe4",
   "execution_count": 38
  },
  {
   "cell_type": "code",
   "outputs": [
    {
     "ename": "DatasetNotFoundError",
     "evalue": "Dataset 'sshk/hh-ru-vacancies-dataset' doesn't exist on the Hub. If the repo is private or gated, make sure to log in with `huggingface-cli login`.",
     "output_type": "error",
     "traceback": [
      "\u001B[1;31m---------------------------------------------------------------------------\u001B[0m",
      "\u001B[1;31mDatasetNotFoundError\u001B[0m                      Traceback (most recent call last)",
      "Cell \u001B[1;32mIn[34], line 2\u001B[0m\n\u001B[0;32m      1\u001B[0m \u001B[38;5;28;01mfrom\u001B[39;00m \u001B[38;5;21;01mdatasets\u001B[39;00m \u001B[38;5;28;01mimport\u001B[39;00m load_dataset_builder\n\u001B[1;32m----> 2\u001B[0m ds_builder \u001B[38;5;241m=\u001B[39m \u001B[43mload_dataset_builder\u001B[49m\u001B[43m(\u001B[49m\u001B[38;5;124;43m\"\u001B[39;49m\u001B[38;5;124;43msshk/hh-ru-vacancies-dataset\u001B[39;49m\u001B[38;5;124;43m\"\u001B[39;49m\u001B[43m)\u001B[49m\n",
      "File \u001B[1;32m~\\AppData\\Local\\Programs\\Python\\Python312\\Lib\\site-packages\\datasets\\load.py:2220\u001B[0m, in \u001B[0;36mload_dataset_builder\u001B[1;34m(path, name, data_dir, data_files, cache_dir, features, download_config, download_mode, revision, token, use_auth_token, storage_options, trust_remote_code, _require_default_config_name, **config_kwargs)\u001B[0m\n\u001B[0;32m   2218\u001B[0m     download_config \u001B[38;5;241m=\u001B[39m download_config\u001B[38;5;241m.\u001B[39mcopy() \u001B[38;5;28;01mif\u001B[39;00m download_config \u001B[38;5;28;01melse\u001B[39;00m DownloadConfig()\n\u001B[0;32m   2219\u001B[0m     download_config\u001B[38;5;241m.\u001B[39mstorage_options\u001B[38;5;241m.\u001B[39mupdate(storage_options)\n\u001B[1;32m-> 2220\u001B[0m dataset_module \u001B[38;5;241m=\u001B[39m \u001B[43mdataset_module_factory\u001B[49m\u001B[43m(\u001B[49m\n\u001B[0;32m   2221\u001B[0m \u001B[43m    \u001B[49m\u001B[43mpath\u001B[49m\u001B[43m,\u001B[49m\n\u001B[0;32m   2222\u001B[0m \u001B[43m    \u001B[49m\u001B[43mrevision\u001B[49m\u001B[38;5;241;43m=\u001B[39;49m\u001B[43mrevision\u001B[49m\u001B[43m,\u001B[49m\n\u001B[0;32m   2223\u001B[0m \u001B[43m    \u001B[49m\u001B[43mdownload_config\u001B[49m\u001B[38;5;241;43m=\u001B[39;49m\u001B[43mdownload_config\u001B[49m\u001B[43m,\u001B[49m\n\u001B[0;32m   2224\u001B[0m \u001B[43m    \u001B[49m\u001B[43mdownload_mode\u001B[49m\u001B[38;5;241;43m=\u001B[39;49m\u001B[43mdownload_mode\u001B[49m\u001B[43m,\u001B[49m\n\u001B[0;32m   2225\u001B[0m \u001B[43m    \u001B[49m\u001B[43mdata_dir\u001B[49m\u001B[38;5;241;43m=\u001B[39;49m\u001B[43mdata_dir\u001B[49m\u001B[43m,\u001B[49m\n\u001B[0;32m   2226\u001B[0m \u001B[43m    \u001B[49m\u001B[43mdata_files\u001B[49m\u001B[38;5;241;43m=\u001B[39;49m\u001B[43mdata_files\u001B[49m\u001B[43m,\u001B[49m\n\u001B[0;32m   2227\u001B[0m \u001B[43m    \u001B[49m\u001B[43mcache_dir\u001B[49m\u001B[38;5;241;43m=\u001B[39;49m\u001B[43mcache_dir\u001B[49m\u001B[43m,\u001B[49m\n\u001B[0;32m   2228\u001B[0m \u001B[43m    \u001B[49m\u001B[43mtrust_remote_code\u001B[49m\u001B[38;5;241;43m=\u001B[39;49m\u001B[43mtrust_remote_code\u001B[49m\u001B[43m,\u001B[49m\n\u001B[0;32m   2229\u001B[0m \u001B[43m    \u001B[49m\u001B[43m_require_default_config_name\u001B[49m\u001B[38;5;241;43m=\u001B[39;49m\u001B[43m_require_default_config_name\u001B[49m\u001B[43m,\u001B[49m\n\u001B[0;32m   2230\u001B[0m \u001B[43m    \u001B[49m\u001B[43m_require_custom_configs\u001B[49m\u001B[38;5;241;43m=\u001B[39;49m\u001B[38;5;28;43mbool\u001B[39;49m\u001B[43m(\u001B[49m\u001B[43mconfig_kwargs\u001B[49m\u001B[43m)\u001B[49m\u001B[43m,\u001B[49m\n\u001B[0;32m   2231\u001B[0m \u001B[43m\u001B[49m\u001B[43m)\u001B[49m\n\u001B[0;32m   2232\u001B[0m \u001B[38;5;66;03m# Get dataset builder class from the processing script\u001B[39;00m\n\u001B[0;32m   2233\u001B[0m builder_kwargs \u001B[38;5;241m=\u001B[39m dataset_module\u001B[38;5;241m.\u001B[39mbuilder_kwargs\n",
      "File \u001B[1;32m~\\AppData\\Local\\Programs\\Python\\Python312\\Lib\\site-packages\\datasets\\load.py:1865\u001B[0m, in \u001B[0;36mdataset_module_factory\u001B[1;34m(path, revision, download_config, download_mode, dynamic_modules_path, data_dir, data_files, cache_dir, trust_remote_code, _require_default_config_name, _require_custom_configs, **download_kwargs)\u001B[0m\n\u001B[0;32m   1863\u001B[0m     \u001B[38;5;28;01mraise\u001B[39;00m \u001B[38;5;167;01mConnectionError\u001B[39;00m(\u001B[38;5;124mf\u001B[39m\u001B[38;5;124m\"\u001B[39m\u001B[38;5;124mCouldn\u001B[39m\u001B[38;5;124m'\u001B[39m\u001B[38;5;124mt reach the Hugging Face Hub for dataset \u001B[39m\u001B[38;5;124m'\u001B[39m\u001B[38;5;132;01m{\u001B[39;00mpath\u001B[38;5;132;01m}\u001B[39;00m\u001B[38;5;124m'\u001B[39m\u001B[38;5;124m: \u001B[39m\u001B[38;5;132;01m{\u001B[39;00me1\u001B[38;5;132;01m}\u001B[39;00m\u001B[38;5;124m\"\u001B[39m) \u001B[38;5;28;01mfrom\u001B[39;00m \u001B[38;5;28;01mNone\u001B[39;00m\n\u001B[0;32m   1864\u001B[0m \u001B[38;5;28;01mif\u001B[39;00m \u001B[38;5;28misinstance\u001B[39m(e1, (DataFilesNotFoundError, DatasetNotFoundError, EmptyDatasetError)):\n\u001B[1;32m-> 1865\u001B[0m     \u001B[38;5;28;01mraise\u001B[39;00m e1 \u001B[38;5;28;01mfrom\u001B[39;00m \u001B[38;5;28;01mNone\u001B[39;00m\n\u001B[0;32m   1866\u001B[0m \u001B[38;5;28;01mif\u001B[39;00m \u001B[38;5;28misinstance\u001B[39m(e1, \u001B[38;5;167;01mFileNotFoundError\u001B[39;00m):\n\u001B[0;32m   1867\u001B[0m     \u001B[38;5;28;01mraise\u001B[39;00m \u001B[38;5;167;01mFileNotFoundError\u001B[39;00m(\n\u001B[0;32m   1868\u001B[0m         \u001B[38;5;124mf\u001B[39m\u001B[38;5;124m\"\u001B[39m\u001B[38;5;124mCouldn\u001B[39m\u001B[38;5;124m'\u001B[39m\u001B[38;5;124mt find a dataset script at \u001B[39m\u001B[38;5;132;01m{\u001B[39;00mrelative_to_absolute_path(combined_path)\u001B[38;5;132;01m}\u001B[39;00m\u001B[38;5;124m or any data file in the same directory. \u001B[39m\u001B[38;5;124m\"\u001B[39m\n\u001B[0;32m   1869\u001B[0m         \u001B[38;5;124mf\u001B[39m\u001B[38;5;124m\"\u001B[39m\u001B[38;5;124mCouldn\u001B[39m\u001B[38;5;124m'\u001B[39m\u001B[38;5;124mt find \u001B[39m\u001B[38;5;124m'\u001B[39m\u001B[38;5;132;01m{\u001B[39;00mpath\u001B[38;5;132;01m}\u001B[39;00m\u001B[38;5;124m'\u001B[39m\u001B[38;5;124m on the Hugging Face Hub either: \u001B[39m\u001B[38;5;132;01m{\u001B[39;00m\u001B[38;5;28mtype\u001B[39m(e1)\u001B[38;5;241m.\u001B[39m\u001B[38;5;18m__name__\u001B[39m\u001B[38;5;132;01m}\u001B[39;00m\u001B[38;5;124m: \u001B[39m\u001B[38;5;132;01m{\u001B[39;00me1\u001B[38;5;132;01m}\u001B[39;00m\u001B[38;5;124m\"\u001B[39m\n\u001B[0;32m   1870\u001B[0m     ) \u001B[38;5;28;01mfrom\u001B[39;00m \u001B[38;5;28;01mNone\u001B[39;00m\n",
      "File \u001B[1;32m~\\AppData\\Local\\Programs\\Python\\Python312\\Lib\\site-packages\\datasets\\load.py:1812\u001B[0m, in \u001B[0;36mdataset_module_factory\u001B[1;34m(path, revision, download_config, download_mode, dynamic_modules_path, data_dir, data_files, cache_dir, trust_remote_code, _require_default_config_name, _require_custom_configs, **download_kwargs)\u001B[0m\n\u001B[0;32m   1810\u001B[0m     msg \u001B[38;5;241m=\u001B[39m \u001B[38;5;124mf\u001B[39m\u001B[38;5;124m\"\u001B[39m\u001B[38;5;124mDataset \u001B[39m\u001B[38;5;124m'\u001B[39m\u001B[38;5;132;01m{\u001B[39;00mpath\u001B[38;5;132;01m}\u001B[39;00m\u001B[38;5;124m'\u001B[39m\u001B[38;5;124m doesn\u001B[39m\u001B[38;5;124m'\u001B[39m\u001B[38;5;124mt exist on the Hub\u001B[39m\u001B[38;5;124m\"\u001B[39m\n\u001B[0;32m   1811\u001B[0m     msg \u001B[38;5;241m=\u001B[39m msg \u001B[38;5;241m+\u001B[39m \u001B[38;5;124mf\u001B[39m\u001B[38;5;124m\"\u001B[39m\u001B[38;5;124m at revision \u001B[39m\u001B[38;5;124m'\u001B[39m\u001B[38;5;132;01m{\u001B[39;00mrevision\u001B[38;5;132;01m}\u001B[39;00m\u001B[38;5;124m'\u001B[39m\u001B[38;5;124m\"\u001B[39m \u001B[38;5;28;01mif\u001B[39;00m revision \u001B[38;5;28;01melse\u001B[39;00m msg\n\u001B[1;32m-> 1812\u001B[0m     \u001B[38;5;28;01mraise\u001B[39;00m DatasetNotFoundError(\n\u001B[0;32m   1813\u001B[0m         msg \u001B[38;5;241m+\u001B[39m \u001B[38;5;124m\"\u001B[39m\u001B[38;5;124m. If the repo is private or gated, make sure to log in with `huggingface-cli login`.\u001B[39m\u001B[38;5;124m\"\u001B[39m\n\u001B[0;32m   1814\u001B[0m     )\n\u001B[0;32m   1815\u001B[0m \u001B[38;5;28;01melse\u001B[39;00m:\n\u001B[0;32m   1816\u001B[0m     \u001B[38;5;28;01mraise\u001B[39;00m e\n",
      "\u001B[1;31mDatasetNotFoundError\u001B[0m: Dataset 'sshk/hh-ru-vacancies-dataset' doesn't exist on the Hub. If the repo is private or gated, make sure to log in with `huggingface-cli login`."
     ]
    }
   ],
   "source": [
    "from datasets import load_dataset_builder\n",
    "ds_builder = load_dataset_builder(\"sshk/hh-ru-vacancies-dataset\")"
   ],
   "metadata": {
    "collapsed": false,
    "ExecuteTime": {
     "end_time": "2024-02-29T22:17:32.333015100Z",
     "start_time": "2024-02-29T22:17:32.096684Z"
    }
   },
   "id": "1bf338c22a570ba5",
   "execution_count": 34
  },
  {
   "cell_type": "code",
   "outputs": [
    {
     "ename": "HTTPError",
     "evalue": "HTTP Error 404: Not Found",
     "output_type": "error",
     "traceback": [
      "\u001B[1;31m---------------------------------------------------------------------------\u001B[0m",
      "\u001B[1;31mHTTPError\u001B[0m                                 Traceback (most recent call last)",
      "Cell \u001B[1;32mIn[57], line 3\u001B[0m\n\u001B[0;32m      1\u001B[0m \u001B[38;5;28;01mimport\u001B[39;00m \u001B[38;5;21;01mpandas\u001B[39;00m \u001B[38;5;28;01mas\u001B[39;00m \u001B[38;5;21;01mpd\u001B[39;00m\n\u001B[1;32m----> 3\u001B[0m df \u001B[38;5;241m=\u001B[39m \u001B[43mpd\u001B[49m\u001B[38;5;241;43m.\u001B[39;49m\u001B[43mread_csv\u001B[49m\u001B[43m(\u001B[49m\u001B[38;5;124;43m'\u001B[39;49m\u001B[38;5;124;43mhttps://www.kaggle.com/datasets/sashhhaka/hh-ru-vacancies-dataset/data/vacancies_2020.csv\u001B[39;49m\u001B[38;5;124;43m'\u001B[39;49m\u001B[43m)\u001B[49m\n",
      "File \u001B[1;32m~\\AppData\\Local\\Programs\\Python\\Python312\\Lib\\site-packages\\pandas\\io\\parsers\\readers.py:1024\u001B[0m, in \u001B[0;36mread_csv\u001B[1;34m(filepath_or_buffer, sep, delimiter, header, names, index_col, usecols, dtype, engine, converters, true_values, false_values, skipinitialspace, skiprows, skipfooter, nrows, na_values, keep_default_na, na_filter, verbose, skip_blank_lines, parse_dates, infer_datetime_format, keep_date_col, date_parser, date_format, dayfirst, cache_dates, iterator, chunksize, compression, thousands, decimal, lineterminator, quotechar, quoting, doublequote, escapechar, comment, encoding, encoding_errors, dialect, on_bad_lines, delim_whitespace, low_memory, memory_map, float_precision, storage_options, dtype_backend)\u001B[0m\n\u001B[0;32m   1011\u001B[0m kwds_defaults \u001B[38;5;241m=\u001B[39m _refine_defaults_read(\n\u001B[0;32m   1012\u001B[0m     dialect,\n\u001B[0;32m   1013\u001B[0m     delimiter,\n\u001B[1;32m   (...)\u001B[0m\n\u001B[0;32m   1020\u001B[0m     dtype_backend\u001B[38;5;241m=\u001B[39mdtype_backend,\n\u001B[0;32m   1021\u001B[0m )\n\u001B[0;32m   1022\u001B[0m kwds\u001B[38;5;241m.\u001B[39mupdate(kwds_defaults)\n\u001B[1;32m-> 1024\u001B[0m \u001B[38;5;28;01mreturn\u001B[39;00m \u001B[43m_read\u001B[49m\u001B[43m(\u001B[49m\u001B[43mfilepath_or_buffer\u001B[49m\u001B[43m,\u001B[49m\u001B[43m \u001B[49m\u001B[43mkwds\u001B[49m\u001B[43m)\u001B[49m\n",
      "File \u001B[1;32m~\\AppData\\Local\\Programs\\Python\\Python312\\Lib\\site-packages\\pandas\\io\\parsers\\readers.py:618\u001B[0m, in \u001B[0;36m_read\u001B[1;34m(filepath_or_buffer, kwds)\u001B[0m\n\u001B[0;32m    615\u001B[0m _validate_names(kwds\u001B[38;5;241m.\u001B[39mget(\u001B[38;5;124m\"\u001B[39m\u001B[38;5;124mnames\u001B[39m\u001B[38;5;124m\"\u001B[39m, \u001B[38;5;28;01mNone\u001B[39;00m))\n\u001B[0;32m    617\u001B[0m \u001B[38;5;66;03m# Create the parser.\u001B[39;00m\n\u001B[1;32m--> 618\u001B[0m parser \u001B[38;5;241m=\u001B[39m \u001B[43mTextFileReader\u001B[49m\u001B[43m(\u001B[49m\u001B[43mfilepath_or_buffer\u001B[49m\u001B[43m,\u001B[49m\u001B[43m \u001B[49m\u001B[38;5;241;43m*\u001B[39;49m\u001B[38;5;241;43m*\u001B[39;49m\u001B[43mkwds\u001B[49m\u001B[43m)\u001B[49m\n\u001B[0;32m    620\u001B[0m \u001B[38;5;28;01mif\u001B[39;00m chunksize \u001B[38;5;129;01mor\u001B[39;00m iterator:\n\u001B[0;32m    621\u001B[0m     \u001B[38;5;28;01mreturn\u001B[39;00m parser\n",
      "File \u001B[1;32m~\\AppData\\Local\\Programs\\Python\\Python312\\Lib\\site-packages\\pandas\\io\\parsers\\readers.py:1618\u001B[0m, in \u001B[0;36mTextFileReader.__init__\u001B[1;34m(self, f, engine, **kwds)\u001B[0m\n\u001B[0;32m   1615\u001B[0m     \u001B[38;5;28mself\u001B[39m\u001B[38;5;241m.\u001B[39moptions[\u001B[38;5;124m\"\u001B[39m\u001B[38;5;124mhas_index_names\u001B[39m\u001B[38;5;124m\"\u001B[39m] \u001B[38;5;241m=\u001B[39m kwds[\u001B[38;5;124m\"\u001B[39m\u001B[38;5;124mhas_index_names\u001B[39m\u001B[38;5;124m\"\u001B[39m]\n\u001B[0;32m   1617\u001B[0m \u001B[38;5;28mself\u001B[39m\u001B[38;5;241m.\u001B[39mhandles: IOHandles \u001B[38;5;241m|\u001B[39m \u001B[38;5;28;01mNone\u001B[39;00m \u001B[38;5;241m=\u001B[39m \u001B[38;5;28;01mNone\u001B[39;00m\n\u001B[1;32m-> 1618\u001B[0m \u001B[38;5;28mself\u001B[39m\u001B[38;5;241m.\u001B[39m_engine \u001B[38;5;241m=\u001B[39m \u001B[38;5;28;43mself\u001B[39;49m\u001B[38;5;241;43m.\u001B[39;49m\u001B[43m_make_engine\u001B[49m\u001B[43m(\u001B[49m\u001B[43mf\u001B[49m\u001B[43m,\u001B[49m\u001B[43m \u001B[49m\u001B[38;5;28;43mself\u001B[39;49m\u001B[38;5;241;43m.\u001B[39;49m\u001B[43mengine\u001B[49m\u001B[43m)\u001B[49m\n",
      "File \u001B[1;32m~\\AppData\\Local\\Programs\\Python\\Python312\\Lib\\site-packages\\pandas\\io\\parsers\\readers.py:1878\u001B[0m, in \u001B[0;36mTextFileReader._make_engine\u001B[1;34m(self, f, engine)\u001B[0m\n\u001B[0;32m   1876\u001B[0m     \u001B[38;5;28;01mif\u001B[39;00m \u001B[38;5;124m\"\u001B[39m\u001B[38;5;124mb\u001B[39m\u001B[38;5;124m\"\u001B[39m \u001B[38;5;129;01mnot\u001B[39;00m \u001B[38;5;129;01min\u001B[39;00m mode:\n\u001B[0;32m   1877\u001B[0m         mode \u001B[38;5;241m+\u001B[39m\u001B[38;5;241m=\u001B[39m \u001B[38;5;124m\"\u001B[39m\u001B[38;5;124mb\u001B[39m\u001B[38;5;124m\"\u001B[39m\n\u001B[1;32m-> 1878\u001B[0m \u001B[38;5;28mself\u001B[39m\u001B[38;5;241m.\u001B[39mhandles \u001B[38;5;241m=\u001B[39m \u001B[43mget_handle\u001B[49m\u001B[43m(\u001B[49m\n\u001B[0;32m   1879\u001B[0m \u001B[43m    \u001B[49m\u001B[43mf\u001B[49m\u001B[43m,\u001B[49m\n\u001B[0;32m   1880\u001B[0m \u001B[43m    \u001B[49m\u001B[43mmode\u001B[49m\u001B[43m,\u001B[49m\n\u001B[0;32m   1881\u001B[0m \u001B[43m    \u001B[49m\u001B[43mencoding\u001B[49m\u001B[38;5;241;43m=\u001B[39;49m\u001B[38;5;28;43mself\u001B[39;49m\u001B[38;5;241;43m.\u001B[39;49m\u001B[43moptions\u001B[49m\u001B[38;5;241;43m.\u001B[39;49m\u001B[43mget\u001B[49m\u001B[43m(\u001B[49m\u001B[38;5;124;43m\"\u001B[39;49m\u001B[38;5;124;43mencoding\u001B[39;49m\u001B[38;5;124;43m\"\u001B[39;49m\u001B[43m,\u001B[49m\u001B[43m \u001B[49m\u001B[38;5;28;43;01mNone\u001B[39;49;00m\u001B[43m)\u001B[49m\u001B[43m,\u001B[49m\n\u001B[0;32m   1882\u001B[0m \u001B[43m    \u001B[49m\u001B[43mcompression\u001B[49m\u001B[38;5;241;43m=\u001B[39;49m\u001B[38;5;28;43mself\u001B[39;49m\u001B[38;5;241;43m.\u001B[39;49m\u001B[43moptions\u001B[49m\u001B[38;5;241;43m.\u001B[39;49m\u001B[43mget\u001B[49m\u001B[43m(\u001B[49m\u001B[38;5;124;43m\"\u001B[39;49m\u001B[38;5;124;43mcompression\u001B[39;49m\u001B[38;5;124;43m\"\u001B[39;49m\u001B[43m,\u001B[49m\u001B[43m \u001B[49m\u001B[38;5;28;43;01mNone\u001B[39;49;00m\u001B[43m)\u001B[49m\u001B[43m,\u001B[49m\n\u001B[0;32m   1883\u001B[0m \u001B[43m    \u001B[49m\u001B[43mmemory_map\u001B[49m\u001B[38;5;241;43m=\u001B[39;49m\u001B[38;5;28;43mself\u001B[39;49m\u001B[38;5;241;43m.\u001B[39;49m\u001B[43moptions\u001B[49m\u001B[38;5;241;43m.\u001B[39;49m\u001B[43mget\u001B[49m\u001B[43m(\u001B[49m\u001B[38;5;124;43m\"\u001B[39;49m\u001B[38;5;124;43mmemory_map\u001B[39;49m\u001B[38;5;124;43m\"\u001B[39;49m\u001B[43m,\u001B[49m\u001B[43m \u001B[49m\u001B[38;5;28;43;01mFalse\u001B[39;49;00m\u001B[43m)\u001B[49m\u001B[43m,\u001B[49m\n\u001B[0;32m   1884\u001B[0m \u001B[43m    \u001B[49m\u001B[43mis_text\u001B[49m\u001B[38;5;241;43m=\u001B[39;49m\u001B[43mis_text\u001B[49m\u001B[43m,\u001B[49m\n\u001B[0;32m   1885\u001B[0m \u001B[43m    \u001B[49m\u001B[43merrors\u001B[49m\u001B[38;5;241;43m=\u001B[39;49m\u001B[38;5;28;43mself\u001B[39;49m\u001B[38;5;241;43m.\u001B[39;49m\u001B[43moptions\u001B[49m\u001B[38;5;241;43m.\u001B[39;49m\u001B[43mget\u001B[49m\u001B[43m(\u001B[49m\u001B[38;5;124;43m\"\u001B[39;49m\u001B[38;5;124;43mencoding_errors\u001B[39;49m\u001B[38;5;124;43m\"\u001B[39;49m\u001B[43m,\u001B[49m\u001B[43m \u001B[49m\u001B[38;5;124;43m\"\u001B[39;49m\u001B[38;5;124;43mstrict\u001B[39;49m\u001B[38;5;124;43m\"\u001B[39;49m\u001B[43m)\u001B[49m\u001B[43m,\u001B[49m\n\u001B[0;32m   1886\u001B[0m \u001B[43m    \u001B[49m\u001B[43mstorage_options\u001B[49m\u001B[38;5;241;43m=\u001B[39;49m\u001B[38;5;28;43mself\u001B[39;49m\u001B[38;5;241;43m.\u001B[39;49m\u001B[43moptions\u001B[49m\u001B[38;5;241;43m.\u001B[39;49m\u001B[43mget\u001B[49m\u001B[43m(\u001B[49m\u001B[38;5;124;43m\"\u001B[39;49m\u001B[38;5;124;43mstorage_options\u001B[39;49m\u001B[38;5;124;43m\"\u001B[39;49m\u001B[43m,\u001B[49m\u001B[43m \u001B[49m\u001B[38;5;28;43;01mNone\u001B[39;49;00m\u001B[43m)\u001B[49m\u001B[43m,\u001B[49m\n\u001B[0;32m   1887\u001B[0m \u001B[43m\u001B[49m\u001B[43m)\u001B[49m\n\u001B[0;32m   1888\u001B[0m \u001B[38;5;28;01massert\u001B[39;00m \u001B[38;5;28mself\u001B[39m\u001B[38;5;241m.\u001B[39mhandles \u001B[38;5;129;01mis\u001B[39;00m \u001B[38;5;129;01mnot\u001B[39;00m \u001B[38;5;28;01mNone\u001B[39;00m\n\u001B[0;32m   1889\u001B[0m f \u001B[38;5;241m=\u001B[39m \u001B[38;5;28mself\u001B[39m\u001B[38;5;241m.\u001B[39mhandles\u001B[38;5;241m.\u001B[39mhandle\n",
      "File \u001B[1;32m~\\AppData\\Local\\Programs\\Python\\Python312\\Lib\\site-packages\\pandas\\io\\common.py:728\u001B[0m, in \u001B[0;36mget_handle\u001B[1;34m(path_or_buf, mode, encoding, compression, memory_map, is_text, errors, storage_options)\u001B[0m\n\u001B[0;32m    725\u001B[0m     codecs\u001B[38;5;241m.\u001B[39mlookup_error(errors)\n\u001B[0;32m    727\u001B[0m \u001B[38;5;66;03m# open URLs\u001B[39;00m\n\u001B[1;32m--> 728\u001B[0m ioargs \u001B[38;5;241m=\u001B[39m \u001B[43m_get_filepath_or_buffer\u001B[49m\u001B[43m(\u001B[49m\n\u001B[0;32m    729\u001B[0m \u001B[43m    \u001B[49m\u001B[43mpath_or_buf\u001B[49m\u001B[43m,\u001B[49m\n\u001B[0;32m    730\u001B[0m \u001B[43m    \u001B[49m\u001B[43mencoding\u001B[49m\u001B[38;5;241;43m=\u001B[39;49m\u001B[43mencoding\u001B[49m\u001B[43m,\u001B[49m\n\u001B[0;32m    731\u001B[0m \u001B[43m    \u001B[49m\u001B[43mcompression\u001B[49m\u001B[38;5;241;43m=\u001B[39;49m\u001B[43mcompression\u001B[49m\u001B[43m,\u001B[49m\n\u001B[0;32m    732\u001B[0m \u001B[43m    \u001B[49m\u001B[43mmode\u001B[49m\u001B[38;5;241;43m=\u001B[39;49m\u001B[43mmode\u001B[49m\u001B[43m,\u001B[49m\n\u001B[0;32m    733\u001B[0m \u001B[43m    \u001B[49m\u001B[43mstorage_options\u001B[49m\u001B[38;5;241;43m=\u001B[39;49m\u001B[43mstorage_options\u001B[49m\u001B[43m,\u001B[49m\n\u001B[0;32m    734\u001B[0m \u001B[43m\u001B[49m\u001B[43m)\u001B[49m\n\u001B[0;32m    736\u001B[0m handle \u001B[38;5;241m=\u001B[39m ioargs\u001B[38;5;241m.\u001B[39mfilepath_or_buffer\n\u001B[0;32m    737\u001B[0m handles: \u001B[38;5;28mlist\u001B[39m[BaseBuffer]\n",
      "File \u001B[1;32m~\\AppData\\Local\\Programs\\Python\\Python312\\Lib\\site-packages\\pandas\\io\\common.py:384\u001B[0m, in \u001B[0;36m_get_filepath_or_buffer\u001B[1;34m(filepath_or_buffer, encoding, compression, mode, storage_options)\u001B[0m\n\u001B[0;32m    382\u001B[0m \u001B[38;5;66;03m# assuming storage_options is to be interpreted as headers\u001B[39;00m\n\u001B[0;32m    383\u001B[0m req_info \u001B[38;5;241m=\u001B[39m urllib\u001B[38;5;241m.\u001B[39mrequest\u001B[38;5;241m.\u001B[39mRequest(filepath_or_buffer, headers\u001B[38;5;241m=\u001B[39mstorage_options)\n\u001B[1;32m--> 384\u001B[0m \u001B[38;5;28;01mwith\u001B[39;00m \u001B[43murlopen\u001B[49m\u001B[43m(\u001B[49m\u001B[43mreq_info\u001B[49m\u001B[43m)\u001B[49m \u001B[38;5;28;01mas\u001B[39;00m req:\n\u001B[0;32m    385\u001B[0m     content_encoding \u001B[38;5;241m=\u001B[39m req\u001B[38;5;241m.\u001B[39mheaders\u001B[38;5;241m.\u001B[39mget(\u001B[38;5;124m\"\u001B[39m\u001B[38;5;124mContent-Encoding\u001B[39m\u001B[38;5;124m\"\u001B[39m, \u001B[38;5;28;01mNone\u001B[39;00m)\n\u001B[0;32m    386\u001B[0m     \u001B[38;5;28;01mif\u001B[39;00m content_encoding \u001B[38;5;241m==\u001B[39m \u001B[38;5;124m\"\u001B[39m\u001B[38;5;124mgzip\u001B[39m\u001B[38;5;124m\"\u001B[39m:\n\u001B[0;32m    387\u001B[0m         \u001B[38;5;66;03m# Override compression based on Content-Encoding header\u001B[39;00m\n",
      "File \u001B[1;32m~\\AppData\\Local\\Programs\\Python\\Python312\\Lib\\site-packages\\pandas\\io\\common.py:289\u001B[0m, in \u001B[0;36murlopen\u001B[1;34m(*args, **kwargs)\u001B[0m\n\u001B[0;32m    283\u001B[0m \u001B[38;5;250m\u001B[39m\u001B[38;5;124;03m\"\"\"\u001B[39;00m\n\u001B[0;32m    284\u001B[0m \u001B[38;5;124;03mLazy-import wrapper for stdlib urlopen, as that imports a big chunk of\u001B[39;00m\n\u001B[0;32m    285\u001B[0m \u001B[38;5;124;03mthe stdlib.\u001B[39;00m\n\u001B[0;32m    286\u001B[0m \u001B[38;5;124;03m\"\"\"\u001B[39;00m\n\u001B[0;32m    287\u001B[0m \u001B[38;5;28;01mimport\u001B[39;00m \u001B[38;5;21;01murllib\u001B[39;00m\u001B[38;5;21;01m.\u001B[39;00m\u001B[38;5;21;01mrequest\u001B[39;00m\n\u001B[1;32m--> 289\u001B[0m \u001B[38;5;28;01mreturn\u001B[39;00m \u001B[43murllib\u001B[49m\u001B[38;5;241;43m.\u001B[39;49m\u001B[43mrequest\u001B[49m\u001B[38;5;241;43m.\u001B[39;49m\u001B[43murlopen\u001B[49m\u001B[43m(\u001B[49m\u001B[38;5;241;43m*\u001B[39;49m\u001B[43margs\u001B[49m\u001B[43m,\u001B[49m\u001B[43m \u001B[49m\u001B[38;5;241;43m*\u001B[39;49m\u001B[38;5;241;43m*\u001B[39;49m\u001B[43mkwargs\u001B[49m\u001B[43m)\u001B[49m\n",
      "File \u001B[1;32m~\\AppData\\Local\\Programs\\Python\\Python312\\Lib\\urllib\\request.py:215\u001B[0m, in \u001B[0;36murlopen\u001B[1;34m(url, data, timeout, cafile, capath, cadefault, context)\u001B[0m\n\u001B[0;32m    213\u001B[0m \u001B[38;5;28;01melse\u001B[39;00m:\n\u001B[0;32m    214\u001B[0m     opener \u001B[38;5;241m=\u001B[39m _opener\n\u001B[1;32m--> 215\u001B[0m \u001B[38;5;28;01mreturn\u001B[39;00m \u001B[43mopener\u001B[49m\u001B[38;5;241;43m.\u001B[39;49m\u001B[43mopen\u001B[49m\u001B[43m(\u001B[49m\u001B[43murl\u001B[49m\u001B[43m,\u001B[49m\u001B[43m \u001B[49m\u001B[43mdata\u001B[49m\u001B[43m,\u001B[49m\u001B[43m \u001B[49m\u001B[43mtimeout\u001B[49m\u001B[43m)\u001B[49m\n",
      "File \u001B[1;32m~\\AppData\\Local\\Programs\\Python\\Python312\\Lib\\urllib\\request.py:521\u001B[0m, in \u001B[0;36mOpenerDirector.open\u001B[1;34m(self, fullurl, data, timeout)\u001B[0m\n\u001B[0;32m    519\u001B[0m \u001B[38;5;28;01mfor\u001B[39;00m processor \u001B[38;5;129;01min\u001B[39;00m \u001B[38;5;28mself\u001B[39m\u001B[38;5;241m.\u001B[39mprocess_response\u001B[38;5;241m.\u001B[39mget(protocol, []):\n\u001B[0;32m    520\u001B[0m     meth \u001B[38;5;241m=\u001B[39m \u001B[38;5;28mgetattr\u001B[39m(processor, meth_name)\n\u001B[1;32m--> 521\u001B[0m     response \u001B[38;5;241m=\u001B[39m \u001B[43mmeth\u001B[49m\u001B[43m(\u001B[49m\u001B[43mreq\u001B[49m\u001B[43m,\u001B[49m\u001B[43m \u001B[49m\u001B[43mresponse\u001B[49m\u001B[43m)\u001B[49m\n\u001B[0;32m    523\u001B[0m \u001B[38;5;28;01mreturn\u001B[39;00m response\n",
      "File \u001B[1;32m~\\AppData\\Local\\Programs\\Python\\Python312\\Lib\\urllib\\request.py:630\u001B[0m, in \u001B[0;36mHTTPErrorProcessor.http_response\u001B[1;34m(self, request, response)\u001B[0m\n\u001B[0;32m    627\u001B[0m \u001B[38;5;66;03m# According to RFC 2616, \"2xx\" code indicates that the client's\u001B[39;00m\n\u001B[0;32m    628\u001B[0m \u001B[38;5;66;03m# request was successfully received, understood, and accepted.\u001B[39;00m\n\u001B[0;32m    629\u001B[0m \u001B[38;5;28;01mif\u001B[39;00m \u001B[38;5;129;01mnot\u001B[39;00m (\u001B[38;5;241m200\u001B[39m \u001B[38;5;241m<\u001B[39m\u001B[38;5;241m=\u001B[39m code \u001B[38;5;241m<\u001B[39m \u001B[38;5;241m300\u001B[39m):\n\u001B[1;32m--> 630\u001B[0m     response \u001B[38;5;241m=\u001B[39m \u001B[38;5;28;43mself\u001B[39;49m\u001B[38;5;241;43m.\u001B[39;49m\u001B[43mparent\u001B[49m\u001B[38;5;241;43m.\u001B[39;49m\u001B[43merror\u001B[49m\u001B[43m(\u001B[49m\n\u001B[0;32m    631\u001B[0m \u001B[43m        \u001B[49m\u001B[38;5;124;43m'\u001B[39;49m\u001B[38;5;124;43mhttp\u001B[39;49m\u001B[38;5;124;43m'\u001B[39;49m\u001B[43m,\u001B[49m\u001B[43m \u001B[49m\u001B[43mrequest\u001B[49m\u001B[43m,\u001B[49m\u001B[43m \u001B[49m\u001B[43mresponse\u001B[49m\u001B[43m,\u001B[49m\u001B[43m \u001B[49m\u001B[43mcode\u001B[49m\u001B[43m,\u001B[49m\u001B[43m \u001B[49m\u001B[43mmsg\u001B[49m\u001B[43m,\u001B[49m\u001B[43m \u001B[49m\u001B[43mhdrs\u001B[49m\u001B[43m)\u001B[49m\n\u001B[0;32m    633\u001B[0m \u001B[38;5;28;01mreturn\u001B[39;00m response\n",
      "File \u001B[1;32m~\\AppData\\Local\\Programs\\Python\\Python312\\Lib\\urllib\\request.py:559\u001B[0m, in \u001B[0;36mOpenerDirector.error\u001B[1;34m(self, proto, *args)\u001B[0m\n\u001B[0;32m    557\u001B[0m \u001B[38;5;28;01mif\u001B[39;00m http_err:\n\u001B[0;32m    558\u001B[0m     args \u001B[38;5;241m=\u001B[39m (\u001B[38;5;28mdict\u001B[39m, \u001B[38;5;124m'\u001B[39m\u001B[38;5;124mdefault\u001B[39m\u001B[38;5;124m'\u001B[39m, \u001B[38;5;124m'\u001B[39m\u001B[38;5;124mhttp_error_default\u001B[39m\u001B[38;5;124m'\u001B[39m) \u001B[38;5;241m+\u001B[39m orig_args\n\u001B[1;32m--> 559\u001B[0m     \u001B[38;5;28;01mreturn\u001B[39;00m \u001B[38;5;28;43mself\u001B[39;49m\u001B[38;5;241;43m.\u001B[39;49m\u001B[43m_call_chain\u001B[49m\u001B[43m(\u001B[49m\u001B[38;5;241;43m*\u001B[39;49m\u001B[43margs\u001B[49m\u001B[43m)\u001B[49m\n",
      "File \u001B[1;32m~\\AppData\\Local\\Programs\\Python\\Python312\\Lib\\urllib\\request.py:492\u001B[0m, in \u001B[0;36mOpenerDirector._call_chain\u001B[1;34m(self, chain, kind, meth_name, *args)\u001B[0m\n\u001B[0;32m    490\u001B[0m \u001B[38;5;28;01mfor\u001B[39;00m handler \u001B[38;5;129;01min\u001B[39;00m handlers:\n\u001B[0;32m    491\u001B[0m     func \u001B[38;5;241m=\u001B[39m \u001B[38;5;28mgetattr\u001B[39m(handler, meth_name)\n\u001B[1;32m--> 492\u001B[0m     result \u001B[38;5;241m=\u001B[39m \u001B[43mfunc\u001B[49m\u001B[43m(\u001B[49m\u001B[38;5;241;43m*\u001B[39;49m\u001B[43margs\u001B[49m\u001B[43m)\u001B[49m\n\u001B[0;32m    493\u001B[0m     \u001B[38;5;28;01mif\u001B[39;00m result \u001B[38;5;129;01mis\u001B[39;00m \u001B[38;5;129;01mnot\u001B[39;00m \u001B[38;5;28;01mNone\u001B[39;00m:\n\u001B[0;32m    494\u001B[0m         \u001B[38;5;28;01mreturn\u001B[39;00m result\n",
      "File \u001B[1;32m~\\AppData\\Local\\Programs\\Python\\Python312\\Lib\\urllib\\request.py:639\u001B[0m, in \u001B[0;36mHTTPDefaultErrorHandler.http_error_default\u001B[1;34m(self, req, fp, code, msg, hdrs)\u001B[0m\n\u001B[0;32m    638\u001B[0m \u001B[38;5;28;01mdef\u001B[39;00m \u001B[38;5;21mhttp_error_default\u001B[39m(\u001B[38;5;28mself\u001B[39m, req, fp, code, msg, hdrs):\n\u001B[1;32m--> 639\u001B[0m     \u001B[38;5;28;01mraise\u001B[39;00m HTTPError(req\u001B[38;5;241m.\u001B[39mfull_url, code, msg, hdrs, fp)\n",
      "\u001B[1;31mHTTPError\u001B[0m: HTTP Error 404: Not Found"
     ]
    }
   ],
   "source": [
    "import pandas as pd\n",
    "\n",
    "df = pd.read_csv('https://www.kaggle.com/datasets/sashhhaka/hh-ru-vacancies-dataset/data/vacancies_2020.csv')"
   ],
   "metadata": {
    "collapsed": false,
    "ExecuteTime": {
     "end_time": "2024-03-01T00:42:16.958525100Z",
     "start_time": "2024-03-01T00:42:16.513387600Z"
    }
   },
   "id": "8dd1e032b0b60386",
   "execution_count": 57
  },
  {
   "cell_type": "code",
   "outputs": [],
   "source": [
    "import pandas as pd\n",
    "\n",
    "# data from previous year(s), to be cleaned and preprocessed\n",
    "# how to process faster?\n",
    "# how to add to git with batches?\n",
    "df = pd.read_csv('data/vacancies_2020.csv')\n",
    "df.head(10)"
   ],
   "metadata": {
    "collapsed": false
   },
   "id": "55385fde284d5004"
  },
  {
   "cell_type": "code",
   "outputs": [
    {
     "name": "stdout",
     "output_type": "stream",
     "text": [
      "<class 'pandas.core.frame.DataFrame'>\n",
      "RangeIndex: 587637 entries, 0 to 587636\n",
      "Data columns (total 56 columns):\n",
      " #   Column                     Non-Null Count   Dtype  \n",
      "---  ------                     --------------   -----  \n",
      " 0   id                         587637 non-null  int64  \n",
      " 1   description                587637 non-null  object \n",
      " 2   key_skills                 431738 non-null  object \n",
      " 3   schedule_id                587637 non-null  object \n",
      " 4   schedule_name              587637 non-null  object \n",
      " 5   accept_handicapped         587637 non-null  bool   \n",
      " 6   accept_kids                587637 non-null  bool   \n",
      " 7   experience_id              587637 non-null  object \n",
      " 8   experience_name            587637 non-null  object \n",
      " 9   specializations            587637 non-null  object \n",
      " 10  contacts                   12130 non-null   object \n",
      " 11  billing_type_id            587637 non-null  object \n",
      " 12  billing_type_name          587637 non-null  object \n",
      " 13  allow_messages             587637 non-null  bool   \n",
      " 14  premium                    587637 non-null  bool   \n",
      " 15  driver_license_types       1749 non-null    object \n",
      " 16  accept_incomplete_resumes  587637 non-null  bool   \n",
      " 17  employer_id                586477 non-null  float64\n",
      " 18  employer_name              587637 non-null  object \n",
      " 19  employer_vacancies_url     586477 non-null  object \n",
      " 20  employer_trusted           586477 non-null  object \n",
      " 21  employer_alternate_url     586477 non-null  object \n",
      " 22  employer_industries        473202 non-null  object \n",
      " 23  response_letter_required   587637 non-null  bool   \n",
      " 24  type_id                    587637 non-null  object \n",
      " 25  type_name                  587637 non-null  object \n",
      " 26  has_test                   587637 non-null  bool   \n",
      " 27  response_url               757 non-null     object \n",
      " 28  test_required              2948 non-null    object \n",
      " 29  salary_from                258741 non-null  float64\n",
      " 30  salary_to                  164509 non-null  float64\n",
      " 31  salary_gross               284072 non-null  object \n",
      " 32  salary_currency            285014 non-null  object \n",
      " 33  archived                   587637 non-null  bool   \n",
      " 34  name                       587637 non-null  object \n",
      " 35  insider_interview          6570 non-null    object \n",
      " 36  area_id                    587637 non-null  int64  \n",
      " 37  area_name                  587637 non-null  object \n",
      " 38  area_url                   587637 non-null  object \n",
      " 39  created_at                 587637 non-null  object \n",
      " 40  published_at               587637 non-null  object \n",
      " 41  address_city               276688 non-null  object \n",
      " 42  address_street             271467 non-null  object \n",
      " 43  address_building           262952 non-null  object \n",
      " 44  address_description        0 non-null       float64\n",
      " 45  address_lat                278728 non-null  float64\n",
      " 46  address_lng                278728 non-null  float64\n",
      " 47  alternate_url              587637 non-null  object \n",
      " 48  apply_alternate_url        587637 non-null  object \n",
      " 49  code                       6673 non-null    object \n",
      " 50  department_id              39413 non-null   object \n",
      " 51  department_name            39413 non-null   object \n",
      " 52  employment_id              587637 non-null  object \n",
      " 53  employment_name            587637 non-null  object \n",
      " 54  prof_classes_found         576794 non-null  object \n",
      " 55  terms_found                583826 non-null  object \n",
      "dtypes: bool(8), float64(6), int64(2), object(40)\n",
      "memory usage: 219.7+ MB\n"
     ]
    }
   ],
   "source": [
    "df.info()"
   ],
   "metadata": {
    "collapsed": false,
    "ExecuteTime": {
     "end_time": "2024-02-29T21:13:03.902075200Z",
     "start_time": "2024-02-29T21:13:02.449760100Z"
    }
   },
   "id": "57ad5ff6210aca90",
   "execution_count": 5
  },
  {
   "cell_type": "code",
   "outputs": [],
   "source": [
    "# prof_classes_found has null values\n",
    "# clean the data\n",
    "df = df.dropna(subset=['prof_classes_found'])"
   ],
   "metadata": {
    "collapsed": false,
    "ExecuteTime": {
     "end_time": "2024-02-29T21:36:07.192012900Z",
     "start_time": "2024-02-29T21:36:06.311129700Z"
    }
   },
   "id": "2d581081fd099875",
   "execution_count": 14
  },
  {
   "cell_type": "code",
   "outputs": [],
   "source": [
    "# take the dataset where name has \"data\" or \"analytic\" in it\n",
    "# name, prof_classes_found\n",
    "# vac = df[df['name'].str.contains('data', case=False)]\n",
    "\n",
    "vac = df[df['name'].str.contains('data', case=False) | df['name'].str.contains('analytic', case=False)\n",
    "| df['name'].str.contains('аналитик', case=False)]\n",
    "\n",
    "# prof_classes_found=analyst\n",
    "vac2 = df[df['prof_classes_found'].str.contains('analyst', case=False)]\n",
    "\n",
    "vac3 = df[df['name'].str.contains('data scientist', case=False)]"
   ],
   "metadata": {
    "collapsed": false,
    "ExecuteTime": {
     "end_time": "2024-02-29T21:39:18.114121800Z",
     "start_time": "2024-02-29T21:39:15.646937500Z"
    }
   },
   "id": "1b7dcc65cbe2c321",
   "execution_count": 20
  },
  {
   "cell_type": "code",
   "outputs": [
    {
     "name": "stdout",
     "output_type": "stream",
     "text": [
      "<class 'pandas.core.frame.DataFrame'>\n",
      "Index: 41256 entries, 5 to 587632\n",
      "Data columns (total 56 columns):\n",
      " #   Column                     Non-Null Count  Dtype  \n",
      "---  ------                     --------------  -----  \n",
      " 0   id                         41256 non-null  int64  \n",
      " 1   description                41256 non-null  object \n",
      " 2   key_skills                 30340 non-null  object \n",
      " 3   schedule_id                41256 non-null  object \n",
      " 4   schedule_name              41256 non-null  object \n",
      " 5   accept_handicapped         41256 non-null  bool   \n",
      " 6   accept_kids                41256 non-null  bool   \n",
      " 7   experience_id              41256 non-null  object \n",
      " 8   experience_name            41256 non-null  object \n",
      " 9   specializations            41256 non-null  object \n",
      " 10  contacts                   749 non-null    object \n",
      " 11  billing_type_id            41256 non-null  object \n",
      " 12  billing_type_name          41256 non-null  object \n",
      " 13  allow_messages             41256 non-null  bool   \n",
      " 14  premium                    41256 non-null  bool   \n",
      " 15  driver_license_types       1 non-null      object \n",
      " 16  accept_incomplete_resumes  41256 non-null  bool   \n",
      " 17  employer_id                41189 non-null  float64\n",
      " 18  employer_name              41256 non-null  object \n",
      " 19  employer_vacancies_url     41189 non-null  object \n",
      " 20  employer_trusted           41189 non-null  object \n",
      " 21  employer_alternate_url     41189 non-null  object \n",
      " 22  employer_industries        35853 non-null  object \n",
      " 23  response_letter_required   41256 non-null  bool   \n",
      " 24  type_id                    41256 non-null  object \n",
      " 25  type_name                  41256 non-null  object \n",
      " 26  has_test                   41256 non-null  bool   \n",
      " 27  response_url               27 non-null     object \n",
      " 28  test_required              178 non-null    object \n",
      " 29  salary_from                8679 non-null   float64\n",
      " 30  salary_to                  6163 non-null   float64\n",
      " 31  salary_gross               10169 non-null  object \n",
      " 32  salary_currency            10191 non-null  object \n",
      " 33  archived                   41256 non-null  bool   \n",
      " 34  name                       41256 non-null  object \n",
      " 35  insider_interview          368 non-null    object \n",
      " 36  area_id                    41256 non-null  int64  \n",
      " 37  area_name                  41256 non-null  object \n",
      " 38  area_url                   41256 non-null  object \n",
      " 39  created_at                 41256 non-null  object \n",
      " 40  published_at               41256 non-null  object \n",
      " 41  address_city               19028 non-null  object \n",
      " 42  address_street             18715 non-null  object \n",
      " 43  address_building           18149 non-null  object \n",
      " 44  address_description        0 non-null      float64\n",
      " 45  address_lat                19192 non-null  float64\n",
      " 46  address_lng                19192 non-null  float64\n",
      " 47  alternate_url              41256 non-null  object \n",
      " 48  apply_alternate_url        41256 non-null  object \n",
      " 49  code                       466 non-null    object \n",
      " 50  department_id              5166 non-null   object \n",
      " 51  department_name            5166 non-null   object \n",
      " 52  employment_id              41256 non-null  object \n",
      " 53  employment_name            41256 non-null  object \n",
      " 54  prof_classes_found         41256 non-null  object \n",
      " 55  terms_found                41253 non-null  object \n",
      "dtypes: bool(8), float64(6), int64(2), object(40)\n",
      "memory usage: 15.7+ MB\n",
      "<class 'pandas.core.frame.DataFrame'>\n",
      "Index: 38537 entries, 5 to 587627\n",
      "Data columns (total 56 columns):\n",
      " #   Column                     Non-Null Count  Dtype  \n",
      "---  ------                     --------------  -----  \n",
      " 0   id                         38537 non-null  int64  \n",
      " 1   description                38537 non-null  object \n",
      " 2   key_skills                 28464 non-null  object \n",
      " 3   schedule_id                38537 non-null  object \n",
      " 4   schedule_name              38537 non-null  object \n",
      " 5   accept_handicapped         38537 non-null  bool   \n",
      " 6   accept_kids                38537 non-null  bool   \n",
      " 7   experience_id              38537 non-null  object \n",
      " 8   experience_name            38537 non-null  object \n",
      " 9   specializations            38537 non-null  object \n",
      " 10  contacts                   691 non-null    object \n",
      " 11  billing_type_id            38537 non-null  object \n",
      " 12  billing_type_name          38537 non-null  object \n",
      " 13  allow_messages             38537 non-null  bool   \n",
      " 14  premium                    38537 non-null  bool   \n",
      " 15  driver_license_types       1 non-null      object \n",
      " 16  accept_incomplete_resumes  38537 non-null  bool   \n",
      " 17  employer_id                38472 non-null  float64\n",
      " 18  employer_name              38537 non-null  object \n",
      " 19  employer_vacancies_url     38472 non-null  object \n",
      " 20  employer_trusted           38472 non-null  object \n",
      " 21  employer_alternate_url     38472 non-null  object \n",
      " 22  employer_industries        33493 non-null  object \n",
      " 23  response_letter_required   38537 non-null  bool   \n",
      " 24  type_id                    38537 non-null  object \n",
      " 25  type_name                  38537 non-null  object \n",
      " 26  has_test                   38537 non-null  bool   \n",
      " 27  response_url               29 non-null     object \n",
      " 28  test_required              171 non-null    object \n",
      " 29  salary_from                8215 non-null   float64\n",
      " 30  salary_to                  5833 non-null   float64\n",
      " 31  salary_gross               9635 non-null   object \n",
      " 32  salary_currency            9661 non-null   object \n",
      " 33  archived                   38537 non-null  bool   \n",
      " 34  name                       38537 non-null  object \n",
      " 35  insider_interview          276 non-null    object \n",
      " 36  area_id                    38537 non-null  int64  \n",
      " 37  area_name                  38537 non-null  object \n",
      " 38  area_url                   38537 non-null  object \n",
      " 39  created_at                 38537 non-null  object \n",
      " 40  published_at               38537 non-null  object \n",
      " 41  address_city               18026 non-null  object \n",
      " 42  address_street             17695 non-null  object \n",
      " 43  address_building           17167 non-null  object \n",
      " 44  address_description        0 non-null      float64\n",
      " 45  address_lat                18190 non-null  float64\n",
      " 46  address_lng                18190 non-null  float64\n",
      " 47  alternate_url              38537 non-null  object \n",
      " 48  apply_alternate_url        38537 non-null  object \n",
      " 49  code                       446 non-null    object \n",
      " 50  department_id              4113 non-null   object \n",
      " 51  department_name            4113 non-null   object \n",
      " 52  employment_id              38537 non-null  object \n",
      " 53  employment_name            38537 non-null  object \n",
      " 54  prof_classes_found         38537 non-null  object \n",
      " 55  terms_found                38522 non-null  object \n",
      "dtypes: bool(8), float64(6), int64(2), object(40)\n",
      "memory usage: 14.7+ MB\n",
      "<class 'pandas.core.frame.DataFrame'>\n",
      "Index: 2077 entries, 380 to 587632\n",
      "Data columns (total 56 columns):\n",
      " #   Column                     Non-Null Count  Dtype  \n",
      "---  ------                     --------------  -----  \n",
      " 0   id                         2077 non-null   int64  \n",
      " 1   description                2077 non-null   object \n",
      " 2   key_skills                 1462 non-null   object \n",
      " 3   schedule_id                2077 non-null   object \n",
      " 4   schedule_name              2077 non-null   object \n",
      " 5   accept_handicapped         2077 non-null   bool   \n",
      " 6   accept_kids                2077 non-null   bool   \n",
      " 7   experience_id              2077 non-null   object \n",
      " 8   experience_name            2077 non-null   object \n",
      " 9   specializations            2077 non-null   object \n",
      " 10  contacts                   19 non-null     object \n",
      " 11  billing_type_id            2077 non-null   object \n",
      " 12  billing_type_name          2077 non-null   object \n",
      " 13  allow_messages             2077 non-null   bool   \n",
      " 14  premium                    2077 non-null   bool   \n",
      " 15  driver_license_types       0 non-null      object \n",
      " 16  accept_incomplete_resumes  2077 non-null   bool   \n",
      " 17  employer_id                2076 non-null   float64\n",
      " 18  employer_name              2077 non-null   object \n",
      " 19  employer_vacancies_url     2076 non-null   object \n",
      " 20  employer_trusted           2076 non-null   object \n",
      " 21  employer_alternate_url     2076 non-null   object \n",
      " 22  employer_industries        1800 non-null   object \n",
      " 23  response_letter_required   2077 non-null   bool   \n",
      " 24  type_id                    2077 non-null   object \n",
      " 25  type_name                  2077 non-null   object \n",
      " 26  has_test                   2077 non-null   bool   \n",
      " 27  response_url               4 non-null      object \n",
      " 28  test_required              5 non-null      object \n",
      " 29  salary_from                287 non-null    float64\n",
      " 30  salary_to                  237 non-null    float64\n",
      " 31  salary_gross               354 non-null    object \n",
      " 32  salary_currency            354 non-null    object \n",
      " 33  archived                   2077 non-null   bool   \n",
      " 34  name                       2077 non-null   object \n",
      " 35  insider_interview          10 non-null     object \n",
      " 36  area_id                    2077 non-null   int64  \n",
      " 37  area_name                  2077 non-null   object \n",
      " 38  area_url                   2077 non-null   object \n",
      " 39  created_at                 2077 non-null   object \n",
      " 40  published_at               2077 non-null   object \n",
      " 41  address_city               853 non-null    object \n",
      " 42  address_street             825 non-null    object \n",
      " 43  address_building           806 non-null    object \n",
      " 44  address_description        0 non-null      float64\n",
      " 45  address_lat                856 non-null    float64\n",
      " 46  address_lng                856 non-null    float64\n",
      " 47  alternate_url              2077 non-null   object \n",
      " 48  apply_alternate_url        2077 non-null   object \n",
      " 49  code                       17 non-null     object \n",
      " 50  department_id              492 non-null    object \n",
      " 51  department_name            492 non-null    object \n",
      " 52  employment_id              2077 non-null   object \n",
      " 53  employment_name            2077 non-null   object \n",
      " 54  prof_classes_found         2077 non-null   object \n",
      " 55  terms_found                2077 non-null   object \n",
      "dtypes: bool(8), float64(6), int64(2), object(40)\n",
      "memory usage: 811.3+ KB\n"
     ]
    }
   ],
   "source": [
    "vac.info()\n",
    "vac2.info()\n",
    "vac3.info()"
   ],
   "metadata": {
    "collapsed": false,
    "ExecuteTime": {
     "end_time": "2024-02-29T21:39:20.398079700Z",
     "start_time": "2024-02-29T21:39:19.843001900Z"
    }
   },
   "id": "417f4b28dc7b932e",
   "execution_count": 21
  },
  {
   "cell_type": "code",
   "outputs": [
    {
     "data": {
      "text/plain": "5                                     Аналитик / Analyst\n22                                 Старший дата-аналитик\n36                            Аналитик отдела маркетинга\n39                        Системный аналитик (внедрение)\n67                                          Аналитик ЦФТ\n74                                    Системный аналитик\n79     Системный инженер базы данных / Database syste...\n92     Business Development Manager (Data Storage Sys...\n112                      Аналитик (на тарифообразование)\n153                                          Аналитик BI\n198                                          BI-аналитик\n199       Ведущий бизнес-аналитик / Руководитель проекта\n235               Аналитик Дивизион 'Платежи и переводы'\n242                     Аналитик разговорных интерфейсов\n265                          Аналитик (банковская сфера)\n274         Аналитик 1С ИТИЛ. Фриланс. Проектная работа.\n281                                         Data analyst\n292             Системный-аналитик мобильного приложения\n304                                   Системный аналитик\n343          BI аналитик / Business Intelligence analyst\n344                      Ведущий аналитик со знанием SQL\n347                  Младший специалист группы аналитики\n380                                       Data Scientist\n394                     Senior BigData Engineer, Fintech\n398                Менеджер по HR отчетности и аналитике\n412                                   Системный аналитик\n424                                      Аналитик-стажер\n427    Вирусный аналитик в группу поддержки MDR серви...\n428                                   Системный аналитик\n442    Риск-технолог/Главный аналитик стратегий приня...\n445     Аналитик группы разработки моделей оценки рисков\n458    Старший аналитик баз данных Аналитического упр...\n460                               Аналитик отдела продаж\n461                               Аналитик отдела продаж\n462    Системный аналитик ДБО (в команду Digital omni...\n466               Бизнес-аналитик (Международный бизнес)\n469        Аналитик баз данных Аналитического управления\n474                               Аналитик отдела продаж\n482        Аналитик хранилища данных Банка / Аналитик BI\n518    Data Scientist sas Sber (Дивизион `Массовая пе...\n526                                   Системный аналитик\n552    Ведущий аналитик эффективности рекламных кампаний\n554                    Team Leader of DevOps (Analytics)\n559    Ведущий специалист (аналитик) Отдела управлени...\n603           Бизнес-аналитик в ИТ компанию Первая Форма\n620                BigData Developer, Media Conglomerate\n661                                      Бизнес-аналитик\n662                                 Продуктовый аналитик\n666       Старший аналитик в отдел продуктовой аналитики\n668                   Big Data Engineer (Java/Scala/AWS)\nName: name, dtype: object"
     },
     "execution_count": 22,
     "metadata": {},
     "output_type": "execute_result"
    }
   ],
   "source": [
    "# output 50 first rows name column\n",
    "vac['name'].head(50)"
   ],
   "metadata": {
    "collapsed": false,
    "ExecuteTime": {
     "end_time": "2024-02-29T21:39:45.279093700Z",
     "start_time": "2024-02-29T21:39:45.262027400Z"
    }
   },
   "id": "8b064e6797e92486",
   "execution_count": 22
  },
  {
   "cell_type": "code",
   "outputs": [
    {
     "data": {
      "text/plain": "5                                     Аналитик / Analyst\n22                                 Старший дата-аналитик\n36                            Аналитик отдела маркетинга\n39                        Системный аналитик (внедрение)\n51                    Business Analyst/Junior Consultant\n67                                          Аналитик ЦФТ\n74                                    Системный аналитик\n87                  Malware Analyst for Imunify Security\n91                  Malware Analyst for Imunify Security\n96                  Malware Analyst for Imunify Security\n112                      Аналитик (на тарифообразование)\n153                                          Аналитик BI\n186                                       System Analyst\n198                                          BI-аналитик\n199       Ведущий бизнес-аналитик / Руководитель проекта\n235               Аналитик Дивизион 'Платежи и переводы'\n242                     Аналитик разговорных интерфейсов\n265                          Аналитик (банковская сфера)\n274         Аналитик 1С ИТИЛ. Фриланс. Проектная работа.\n281                                         Data analyst\n292             Системный-аналитик мобильного приложения\n304                                   Системный аналитик\n343          BI аналитик / Business Intelligence analyst\n344                      Ведущий аналитик со знанием SQL\n347                  Младший специалист группы аналитики\n363                             Аналітик бізнес-процесів\n389    Провідний аналітик відділу аналізу даних комер...\n398                Менеджер по HR отчетности и аналитике\n412                                   Системный аналитик\n424                                      Аналитик-стажер\n427    Вирусный аналитик в группу поддержки MDR серви...\n428                                   Системный аналитик\n442    Риск-технолог/Главный аналитик стратегий приня...\n445     Аналитик группы разработки моделей оценки рисков\n458    Старший аналитик баз данных Аналитического упр...\n460                               Аналитик отдела продаж\n461                               Аналитик отдела продаж\n462    Системный аналитик ДБО (в команду Digital omni...\n466               Бизнес-аналитик (Международный бизнес)\n469        Аналитик баз данных Аналитического управления\n472    Senior Product Marketing Analyst & Pre-Sale Ex...\n474                               Аналитик отдела продаж\n482        Аналитик хранилища данных Банка / Аналитик BI\n526                                   Системный аналитик\n552    Ведущий аналитик эффективности рекламных кампаний\n559    Ведущий специалист (аналитик) Отдела управлени...\n603           Бизнес-аналитик в ИТ компанию Первая Форма\n661                                      Бизнес-аналитик\n662                                 Продуктовый аналитик\n666       Старший аналитик в отдел продуктовой аналитики\nName: name, dtype: object"
     },
     "execution_count": 23,
     "metadata": {},
     "output_type": "execute_result"
    }
   ],
   "source": [
    "vac2['name'].head(50)"
   ],
   "metadata": {
    "collapsed": false,
    "ExecuteTime": {
     "end_time": "2024-02-29T21:39:48.130096500Z",
     "start_time": "2024-02-29T21:39:48.119092900Z"
    }
   },
   "id": "474defbc0d29373b",
   "execution_count": 23
  },
  {
   "cell_type": "code",
   "outputs": [
    {
     "data": {
      "text/plain": "380                                         Data Scientist\n518      Data Scientist sas Sber (Дивизион `Массовая пе...\n743                               Data Scientist [id33801]\n832                                Data scientist (middle)\n903                    Senior Data аналитик/Data Scientist\n1068                        Computer Vision Data scientist\n1265                                        Data Scientist\n1345        Data Scientist (Сomputer Vision) Middle/Senior\n1356                        Data scientist (middle/junior)\n2303                                 Senior Data Scientist\n2387                       Team Lead/Senior Data Scientist\n2388                       Team Lead/Senior Data Scientist\n2392                       Team Lead/Senior Data Scientist\n2526                Data scientist (NLP) - Sberbank AI Lab\n2535               Senior Data Scientist (Computer Vision)\n2956             Разработчик Python / Data Scientist (NLP)\n2974                          Middle/Senior Data Scientist\n3120                      Аналитик данных / Data scientist\n3362                          Senior/Middle Data Scientist\n3543     Data scientist / Python программист по машинно...\n4717                     Python developer / data scientist\n4853                                        Data Scientist\n4924                       Аналитик данных, Data Scientist\n4979     Data Scientist Департамента машинного обучения...\n5045                            Data Scientist (Graph/NLP)\n5772                                        Data Scientist\n5935                                 Junior Data Scientist\n6617                                        Data scientist\n6721                                        Data Scientist\n7417     Стажер/Специалист (Data Scientist, Группа улуч...\n7924                                        Data Scientist\n8163                                 Python Data Scientist\n9311                          Senior Data scientist/Python\n9379                    Senior Data Scientist в Anti-fraud\n9720     Специалист по обработке и анализу данных (Data...\n9726                      Аналитик данных (Data scientist)\n10334                 Senior Data Scientist (Дивизион ЦКР)\n11403           Data Scientist sas SberNBA Кредитные карты\n11435                          Data Scientist in Oil & Gas\n11829                                       Data Scientist\n12711                                       Data Scientist\n13693                                       Data Scientist\n13765                                       Data Scientist\n13766                                       Data Scientist\n13767                                       Data Scientist\n13768                                       Data Scientist\n13769                                       Data Scientist\n13770                                       Data Scientist\n13771                                       Data Scientist\n13772                                       Data Scientist\nName: name, dtype: object"
     },
     "execution_count": 24,
     "metadata": {},
     "output_type": "execute_result"
    }
   ],
   "source": [
    "vac3['name'].head(50)"
   ],
   "metadata": {
    "collapsed": false,
    "ExecuteTime": {
     "end_time": "2024-02-29T21:39:59.434833600Z",
     "start_time": "2024-02-29T21:39:59.403822100Z"
    }
   },
   "id": "f2fc4b1647ff997c",
   "execution_count": 24
  },
  {
   "cell_type": "code",
   "outputs": [],
   "source": [
    "# TODO: fresh dataset\n"
   ],
   "metadata": {
    "collapsed": false,
    "ExecuteTime": {
     "end_time": "2024-02-29T21:03:58.430239500Z",
     "start_time": "2024-02-29T21:03:58.425234900Z"
    }
   },
   "id": "80b84aa96237883f",
   "execution_count": null
  }
 ],
 "metadata": {
  "kernelspec": {
   "display_name": "Python 3",
   "language": "python",
   "name": "python3"
  },
  "language_info": {
   "codemirror_mode": {
    "name": "ipython",
    "version": 2
   },
   "file_extension": ".py",
   "mimetype": "text/x-python",
   "name": "python",
   "nbconvert_exporter": "python",
   "pygments_lexer": "ipython2",
   "version": "2.7.6"
  }
 },
 "nbformat": 4,
 "nbformat_minor": 5
}
